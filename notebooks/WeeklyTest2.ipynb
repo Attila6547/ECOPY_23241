{
 "cells": [
  {
   "cell_type": "markdown",
   "source": [
    "## A feladatok megoldása során csak a random, typing, math és pyerf modulok importálása elfogadott"
   ],
   "metadata": {
    "collapsed": false
   },
   "id": "922e7680b9ef8e9f"
  },
  {
   "cell_type": "markdown",
   "source": [
    "### A teszt feladatok megoldását mentse src/utils modul-ba a weekly_test_2.py nevű fájlba"
   ],
   "metadata": {
    "collapsed": false
   },
   "id": "acdbadded73f891"
  },
  {
   "cell_type": "code",
   "execution_count": null,
   "outputs": [],
   "source": [
    "\"\"\"\n",
    "1., Hozzan létre egy új osztályt aminek a neve LaplaceDistribution. Definiáljon benne a __init__ nevű függvényt, amelynek bemenetként kap egy véletlenszám generátort, és az eloszlás várható értékét (location) és             varianciáját (scale), amely értékeket adattagokba ment le.\n",
    "    Osztály név: LaplaceDistribution\n",
    "    függvény név: __init__\n",
    "    bemenet: self, rand, loc, scale\n",
    "    link: https://en.wikipedia.org/wiki/Laplace_distribution"
   ],
   "metadata": {
    "collapsed": false
   },
   "id": "277e239eac5060be"
  },
  {
   "cell_type": "code",
   "execution_count": 1,
   "outputs": [
    {
     "name": "stdout",
     "output_type": "stream",
     "text": [
      "Laplace minta: -0.6225\n",
      "Laplace minta: -0.5665\n",
      "Laplace minta: -0.5574\n",
      "Laplace minta: -0.2762\n",
      "Laplace minta: -0.9050\n",
      "Laplace minta: -0.5843\n",
      "Laplace minta: -0.7505\n",
      "Laplace minta: -0.4273\n",
      "Laplace minta: -0.9639\n",
      "Laplace minta: -0.7682\n"
     ]
    }
   ],
   "source": [
    "import random\n",
    "\n",
    "class LaplaceDistribution:\n",
    "    def __init__(self, rand, loc, scale):\n",
    "        if scale <= 0:\n",
    "            raise ValueError(\"A skála (scale) értéke pozitív valós szám kell legyen.\")\n",
    "        self.rand = rand\n",
    "        self.loc = loc\n",
    "        self.scale = scale\n",
    "\n",
    "    def sample(self):\n",
    "        u = self.rand.random()\n",
    "        if u < 0.5:\n",
    "            return self.loc + self.scale * (-(2.0 * u) ** 0.5)\n",
    "        else:\n",
    "            return self.loc - self.scale * ((2.0 * (1 - u)) ** 0.5)\n",
    "\n",
    "# Példa használat\n",
    "if __name__ == \"__main__\":\n",
    "    random_generator = random.Random()\n",
    "    laplace = LaplaceDistribution(random_generator, loc=0, scale=1.0)\n",
    "\n",
    "    # Generáljunk 10 Laplace eloszlású mintát\n",
    "    for _ in range(10):\n",
    "        sample = laplace.sample()\n",
    "        print(f\"Laplace minta: {sample:.4f}\")\n"
   ],
   "metadata": {
    "collapsed": false,
    "ExecuteTime": {
     "end_time": "2023-09-27T17:30:15.666582900Z",
     "start_time": "2023-09-27T17:30:15.635231800Z"
    }
   },
   "id": "c6ff58e0dc70a998"
  },
  {
   "cell_type": "code",
   "execution_count": null,
   "outputs": [],
   "source": [
    "2., Egészítse ki a LaplaceDistribution osztályt egy új függvénnyel, amely loc várható értékű, scale varianciájú és asymmmetry ferdeségű  aszimmetrikus laplace eloszlás eloszlásfüggvényéből rendel valószínűségi értéket a     bemeneti x valós számhoz.\n",
    "    függvény név: pdf\n",
    "    bemenet: x\n",
    "    kimeneti típus: float"
   ],
   "metadata": {
    "collapsed": false
   },
   "id": "9db2e664cfa7c32d"
  },
  {
   "cell_type": "code",
   "execution_count": 2,
   "outputs": [
    {
     "name": "stdout",
     "output_type": "stream",
     "text": [
      "Az aszimmetrikus Laplace eloszlás valószínűségi sűrűségfüggvénye x=0.5: 0.3033\n"
     ]
    }
   ],
   "source": [
    "import random\n",
    "import math\n",
    "\n",
    "class LaplaceDistribution:\n",
    "    def __init__(self, rand, loc, scale):\n",
    "        if scale <= 0:\n",
    "            raise ValueError(\"A skála (scale) értéke pozitív valós szám kell legyen.\")\n",
    "        self.rand = rand\n",
    "        self.loc = loc\n",
    "        self.scale = scale\n",
    "\n",
    "    def sample(self):\n",
    "        u = self.rand.random()\n",
    "        if u < 0.5:\n",
    "            return self.loc + self.scale * (-(2.0 * u) ** 0.5)\n",
    "        else:\n",
    "            return self.loc - self.scale * ((2.0 * (1 - u)) ** 0.5)\n",
    "\n",
    "    def pdf(self, x):\n",
    "        \"\"\"\n",
    "        Kiszámítja az aszimmetrikus Laplace eloszlás valószínűségi sűrűségfüggvényét a bemeneti x értékhez.\n",
    "\n",
    "        Args:\n",
    "            x: A valós szám, amelyhez a valószínűségi sűrűségfüggvényt számítjuk.\n",
    "\n",
    "        Returns:\n",
    "            A valószínűségi sűrűségfüggvény értéke a bemeneti x-hez.\n",
    "        \"\"\"\n",
    "        abs_diff = abs(x - self.loc)\n",
    "        probability = (1 / (2 * self.scale)) * math.exp(-abs_diff / self.scale)\n",
    "        return probability\n",
    "\n",
    "# Példa használat\n",
    "if __name__ == \"__main__\":\n",
    "    random_generator = random.Random()\n",
    "    laplace = LaplaceDistribution(random_generator, loc=0, scale=1.0)\n",
    "\n",
    "    x = 0.5\n",
    "    probability = laplace.pdf(x)\n",
    "    print(f\"Az aszimmetrikus Laplace eloszlás valószínűségi sűrűségfüggvénye x={x}: {probability:.4f}\")\n"
   ],
   "metadata": {
    "collapsed": false,
    "ExecuteTime": {
     "end_time": "2023-09-27T17:34:40.669530700Z",
     "start_time": "2023-09-27T17:34:40.606952300Z"
    }
   },
   "id": "550cc37ec02064e5"
  },
  {
   "cell_type": "code",
   "execution_count": null,
   "outputs": [],
   "source": [
    "3., Egészítse ki a LaplaceDistribution osztályt egy új függvénnyel, amely megvalósítja az eloszlás kumulatív eloszlás függvényét.\n",
    "    függvény név: cdf\n",
    "    bemenet: x\n",
    "    kimeneti típus: float"
   ],
   "metadata": {
    "collapsed": false
   },
   "id": "a4dd5c90f0859abb"
  },
  {
   "cell_type": "code",
   "execution_count": 3,
   "outputs": [
    {
     "name": "stdout",
     "output_type": "stream",
     "text": [
      "CDF(1.5) = 0.888434919925785\n"
     ]
    }
   ],
   "source": [
    "import math\n",
    "\n",
    "class LaplaceDistribution:\n",
    "    def __init__(self, mu, b):\n",
    "        self.mu = mu  # Az eloszlás középértéke\n",
    "        self.b = b    # Az eloszlás skálája\n",
    "\n",
    "    def pdf(self, x):\n",
    "        # Laplace-eloszlás valószínűségi sűrűségfüggvénye\n",
    "        return 0.5 * math.exp(-abs(x - self.mu) / self.b) / self.b\n",
    "\n",
    "    def cdf(self, x):\n",
    "        # Laplace-eloszlás kumulatív eloszlásfüggvénye\n",
    "        if x < self.mu:\n",
    "            return 0.5 * math.exp((x - self.mu) / self.b)\n",
    "        else:\n",
    "            return 1 - 0.5 * math.exp(-(x - self.mu) / self.b)\n",
    "\n",
    "# Példa használat:\n",
    "laplace = LaplaceDistribution(0, 1)\n",
    "x = 1.5\n",
    "cdf_value = laplace.cdf(x)\n",
    "print(f\"CDF({x}) = {cdf_value}\")\n"
   ],
   "metadata": {
    "collapsed": false,
    "ExecuteTime": {
     "end_time": "2023-09-27T17:35:55.876000400Z",
     "start_time": "2023-09-27T17:35:55.829053800Z"
    }
   },
   "id": "f7c330d42dcff80c"
  },
  {
   "cell_type": "code",
   "execution_count": null,
   "outputs": [],
   "source": [
    "4., Egészítse ki a LaplaceDistribution osztályt egy új függvénnyel, amely implementálja az eloszlás inverz kumulatív eloszlás függvényét\n",
    "    függvény név: ppf\n",
    "    bemenet: p\n",
    "    kimeneti típus: float"
   ],
   "metadata": {
    "collapsed": false
   },
   "id": "8a56f179b4d88315"
  },
  {
   "cell_type": "code",
   "execution_count": 4,
   "outputs": [
    {
     "name": "stdout",
     "output_type": "stream",
     "text": [
      "PPF(0.3) = -0.5108256237659907\n"
     ]
    }
   ],
   "source": [
    "import math\n",
    "\n",
    "class LaplaceDistribution:\n",
    "    def __init__(self, mu, b):\n",
    "        self.mu = mu  # Az eloszlás középértéke\n",
    "        self.b = b    # Az eloszlás skálája\n",
    "\n",
    "    def pdf(self, x):\n",
    "        # Laplace-eloszlás valószínűségi sűrűségfüggvénye\n",
    "        return 0.5 * math.exp(-abs(x - self.mu) / self.b) / self.b\n",
    "\n",
    "    def cdf(self, x):\n",
    "        # Laplace-eloszlás kumulatív eloszlásfüggvénye\n",
    "        if x < self.mu:\n",
    "            return 0.5 * math.exp((x - self.mu) / self.b)\n",
    "        else:\n",
    "            return 1 - 0.5 * math.exp(-(x - self.mu) / self.b)\n",
    "\n",
    "    def ppf(self, p):\n",
    "        # Laplace-eloszlás inverz kumulatív eloszlásfüggvénye\n",
    "        if p < 0.5:\n",
    "            return self.mu + self.b * math.log(2 * p)\n",
    "        else:\n",
    "            return self.mu - self.b * math.log(2 - 2 * p)\n",
    "\n",
    "# Példa használat:\n",
    "laplace = LaplaceDistribution(0, 1)\n",
    "p = 0.3\n",
    "ppf_value = laplace.ppf(p)\n",
    "print(f\"PPF({p}) = {ppf_value}\")\n"
   ],
   "metadata": {
    "collapsed": false,
    "ExecuteTime": {
     "end_time": "2023-09-27T17:36:28.818286700Z",
     "start_time": "2023-09-27T17:36:28.771420300Z"
    }
   },
   "id": "46b87e8b1d41d7f0"
  },
  {
   "cell_type": "code",
   "execution_count": null,
   "outputs": [],
   "source": [
    "5., Egészítse ki a LaplaceDistribution osztályt egy új függvénnyel, amely az osztály létrehozásánál megadott paraméterek mellett, aszimmetrikus laplace eloszlású véletlen számokat generál minden meghívásnál\n",
    "    függvény név: gen_random\n",
    "    bemenet: None\n",
    "    kimeneti típus: float"
   ],
   "metadata": {
    "collapsed": false
   },
   "id": "64a517c4a6a5fb1d"
  },
  {
   "cell_type": "code",
   "execution_count": 5,
   "outputs": [
    {
     "name": "stdout",
     "output_type": "stream",
     "text": [
      "Generált véletlen szám: 0.4760834100593527\n"
     ]
    }
   ],
   "source": [
    "import math\n",
    "import random\n",
    "\n",
    "class LaplaceDistribution:\n",
    "    def __init__(self, mu, b):\n",
    "        self.mu = mu  # Az eloszlás középértéke\n",
    "        self.b = b    # Az eloszlás skálája\n",
    "\n",
    "    def pdf(self, x):\n",
    "        # Laplace-eloszlás valószínűségi sűrűségfüggvénye\n",
    "        return 0.5 * math.exp(-abs(x - self.mu) / self.b) / self.b\n",
    "\n",
    "    def cdf(self, x):\n",
    "        # Laplace-eloszlás kumulatív eloszlásfüggvénye\n",
    "        if x < self.mu:\n",
    "            return 0.5 * math.exp((x - self.mu) / self.b)\n",
    "        else:\n",
    "            return 1 - 0.5 * math.exp(-(x - self.mu) / self.b)\n",
    "\n",
    "    def ppf(self, p):\n",
    "        # Laplace-eloszlás inverz kumulatív eloszlásfüggvénye\n",
    "        if p < 0.5:\n",
    "            return self.mu + self.b * math.log(2 * p)\n",
    "        else:\n",
    "            return self.mu - self.b * math.log(2 - 2 * p)\n",
    "\n",
    "    def gen_random(self):\n",
    "        # Generál egy aszimmetrikus Laplace-eloszlású véletlen számot\n",
    "        u = random.uniform(0, 1)\n",
    "        if u < 0.5:\n",
    "            return self.mu + self.b * math.log(2 * u)\n",
    "        else:\n",
    "            return self.mu - self.b * math.log(2 - 2 * u)\n",
    "\n",
    "# Példa használat:\n",
    "laplace = LaplaceDistribution(0, 1)\n",
    "random_value = laplace.gen_random()\n",
    "print(f\"Generált véletlen szám: {random_value}\")\n"
   ],
   "metadata": {
    "collapsed": false,
    "ExecuteTime": {
     "end_time": "2023-09-27T17:36:58.407795600Z",
     "start_time": "2023-09-27T17:36:58.352900200Z"
    }
   },
   "id": "f67fbfbd254eec2a"
  },
  {
   "cell_type": "code",
   "execution_count": null,
   "outputs": [],
   "source": [
    "6., Egészítse ki a LaplaceDistribution osztályt egy új függvénnyel, amely visszaadja az eloszlás függvény várható értékét. Ha az eloszlásnak nincsen ilyen értéke, akkor return helyett hívja meg a raise Exception(\"Moment     undefined\") parancsot.\n",
    "    függvény név: mean\n",
    "    bemenet: None\n",
    "    kimeneti típus: float"
   ],
   "metadata": {
    "collapsed": false
   },
   "id": "53f28e72c7d17907"
  },
  {
   "cell_type": "code",
   "execution_count": 6,
   "outputs": [
    {
     "name": "stdout",
     "output_type": "stream",
     "text": [
      "Várható érték: 0\n"
     ]
    }
   ],
   "source": [
    "import math\n",
    "\n",
    "class LaplaceDistribution:\n",
    "    def __init__(self, mu, b):\n",
    "        self.mu = mu  # Az eloszlás középértéke\n",
    "        self.b = b    # Az eloszlás skálája\n",
    "\n",
    "    def pdf(self, x):\n",
    "        # Laplace-eloszlás valószínűségi sűrűségfüggvénye\n",
    "        return 0.5 * math.exp(-abs(x - self.mu) / self.b) / self.b\n",
    "\n",
    "    def cdf(self, x):\n",
    "        # Laplace-eloszlás kumulatív eloszlásfüggvénye\n",
    "        if x < self.mu:\n",
    "            return 0.5 * math.exp((x - self.mu) / self.b)\n",
    "        else:\n",
    "            return 1 - 0.5 * math.exp(-(x - self.mu) / self.b)\n",
    "\n",
    "    def ppf(self, p):\n",
    "        # Laplace-eloszlás inverz kumulatív eloszlásfüggvénye\n",
    "        if p < 0.5:\n",
    "            return self.mu + self.b * math.log(2 * p)\n",
    "        else:\n",
    "            return self.mu - self.b * math.log(2 - 2 * p)\n",
    "\n",
    "    def mean(self):\n",
    "        # Várható érték a középérték (mu) alapján\n",
    "        return self.mu\n",
    "\n",
    "# Példa használat:\n",
    "laplace = LaplaceDistribution(0, 1)\n",
    "mean_value = laplace.mean()\n",
    "print(f\"Várható érték: {mean_value}\")\n"
   ],
   "metadata": {
    "collapsed": false,
    "ExecuteTime": {
     "end_time": "2023-09-27T17:37:36.538743500Z",
     "start_time": "2023-09-27T17:37:36.507448500Z"
    }
   },
   "id": "859bd22ac18e03f9"
  },
  {
   "cell_type": "code",
   "execution_count": null,
   "outputs": [],
   "source": [
    "7., Egészítse ki a LaplaceDistribution osztályt egy új függvénnyel, amely visszaadja az eloszlás függvény varianciáját. Ha az eloszlásnak nincsen ilyen értéke, akkor return helyett hívja meg a raise Exception(\"Moment        undefined\") parancsot.\n",
    "    függvény név: variance\n",
    "    bemenet: None\n",
    "    kimeneti típus: float"
   ],
   "metadata": {
    "collapsed": false
   },
   "id": "d5c8864e7cd18478"
  },
  {
   "cell_type": "code",
   "execution_count": 7,
   "outputs": [
    {
     "name": "stdout",
     "output_type": "stream",
     "text": [
      "Variancia: 2\n"
     ]
    }
   ],
   "source": [
    "import math\n",
    "\n",
    "class LaplaceDistribution:\n",
    "    def __init__(self, mu, b):\n",
    "        self.mu = mu  # Az eloszlás középértéke\n",
    "        self.b = b    # Az eloszlás skálája\n",
    "\n",
    "    def pdf(self, x):\n",
    "        # Laplace-eloszlás valószínűségi sűrűségfüggvénye\n",
    "        return 0.5 * math.exp(-abs(x - self.mu) / self.b) / self.b\n",
    "\n",
    "    def cdf(self, x):\n",
    "        # Laplace-eloszlás kumulatív eloszlásfüggvénye\n",
    "        if x < self.mu:\n",
    "            return 0.5 * math.exp((x - self.mu) / self.b)\n",
    "        else:\n",
    "            return 1 - 0.5 * math.exp(-(x - self.mu) / self.b)\n",
    "\n",
    "    def ppf(self, p):\n",
    "        # Laplace-eloszlás inverz kumulatív eloszlásfüggvénye\n",
    "        if p < 0.5:\n",
    "            return self.mu + self.b * math.log(2 * p)\n",
    "        else:\n",
    "            return self.mu - self.b * math.log(2 - 2 * p)\n",
    "\n",
    "    def mean(self):\n",
    "        # Várható érték a középérték (mu) alapján\n",
    "        return self.mu\n",
    "\n",
    "    def variance(self):\n",
    "        # Variancia számítása\n",
    "        return 2 * self.b ** 2\n",
    "\n",
    "# Példa használat:\n",
    "laplace = LaplaceDistribution(0, 1)\n",
    "variance_value = laplace.variance()\n",
    "print(f\"Variancia: {variance_value}\")\n"
   ],
   "metadata": {
    "collapsed": false,
    "ExecuteTime": {
     "end_time": "2023-09-27T17:38:06.517204200Z",
     "start_time": "2023-09-27T17:38:06.470253500Z"
    }
   },
   "id": "1bbfb20fad2389c6"
  },
  {
   "cell_type": "code",
   "execution_count": null,
   "outputs": [],
   "source": [
    "8., Egészítse ki a LaplaceDistribution osztályt egy új függvénnyel, amely visszaadja az eloszlás függvény ferdeségét. Ha az eloszlásnak nincsen ilyen értéke, akkor return helyett hívja meg a raise Exception(\"Moment          undefined\") parancsot.\n",
    "    függvény név: skewness\n",
    "    bemenet: None\n",
    "    kimeneti típus: float"
   ],
   "metadata": {
    "collapsed": false
   },
   "id": "90ba5132a4b2b77a"
  },
  {
   "cell_type": "code",
   "execution_count": 9,
   "outputs": [
    {
     "name": "stdout",
     "output_type": "stream",
     "text": [
      "Ferdeség: 0\n"
     ]
    }
   ],
   "source": [
    "import math\n",
    "\n",
    "class LaplaceDistribution:\n",
    "    def __init__(self, mu, b):\n",
    "        self.mu = mu  # Az eloszlás középértéke\n",
    "        self.b = b    # Az eloszlás skálája\n",
    "\n",
    "    def pdf(self, x):\n",
    "        # Laplace-eloszlás valószínűségi sűrűségfüggvénye\n",
    "        return 0.5 * math.exp(-abs(x - self.mu) / self.b) / self.b\n",
    "\n",
    "    def cdf(self, x):\n",
    "        # Laplace-eloszlás kumulatív eloszlásfüggvénye\n",
    "        if x < self.mu:\n",
    "            return 0.5 * math.exp((x - self.mu) / self.b)\n",
    "        else:\n",
    "            return 1 - 0.5 * math.exp(-(x - self.mu) / self.b)\n",
    "\n",
    "    def ppf(self, p):\n",
    "        # Laplace-eloszlás inverz kumulatív eloszlásfüggvénye\n",
    "        if p < 0.5:\n",
    "            return self.mu + self.b * math.log(2 * p)\n",
    "        else:\n",
    "            return self.mu - self.b * math.log(2 - 2 * p)\n",
    "\n",
    "    def mean(self):\n",
    "        # Várható érték a középérték (mu) alapján\n",
    "        return self.mu\n",
    "\n",
    "    def variance(self):\n",
    "        # Variancia számítása\n",
    "        return 2 * self.b ** 2\n",
    "\n",
    "    def skewness(self):\n",
    "        # Ferdeség számítása\n",
    "        return 0\n",
    "\n",
    "# Példa használat:\n",
    "laplace = LaplaceDistribution(0, 1)\n",
    "skewness_value = laplace.skewness()\n",
    "print(f\"Ferdeség: {skewness_value}\")\n"
   ],
   "metadata": {
    "collapsed": false,
    "ExecuteTime": {
     "end_time": "2023-09-27T17:38:58.337997700Z",
     "start_time": "2023-09-27T17:38:58.232235800Z"
    }
   },
   "id": "816f87df6cebd405"
  },
  {
   "cell_type": "code",
   "execution_count": null,
   "outputs": [],
   "source": [
    "9., Egészítse ki a LaplaceDistribution osztályt egy új függvénnyel, amely visszaadja az eloszlás függvény többlet csúcsosságát. Ha az eloszlásnak nincsen ilyen értéke, akkor return helyett hívja meg a raise Exception        (\"Moment undefined\") parancsot.\n",
    "    függvény név: ex_kurtosis\n",
    "    bemenet: None\n",
    "    kimeneti típus: float"
   ],
   "metadata": {
    "collapsed": false
   },
   "id": "c2ac29fea5d86bfc"
  },
  {
   "cell_type": "code",
   "execution_count": 10,
   "outputs": [
    {
     "name": "stdout",
     "output_type": "stream",
     "text": [
      "Többlet csúcsosság: 3\n"
     ]
    }
   ],
   "source": [
    "import math\n",
    "\n",
    "class LaplaceDistribution:\n",
    "    def __init__(self, mu, b):\n",
    "        self.mu = mu  # Az eloszlás középértéke\n",
    "        self.b = b    # Az eloszlás skálája\n",
    "\n",
    "    def pdf(self, x):\n",
    "        # Laplace-eloszlás valószínűségi sűrűségfüggvénye\n",
    "        return 0.5 * math.exp(-abs(x - self.mu) / self.b) / self.b\n",
    "\n",
    "    def cdf(self, x):\n",
    "        # Laplace-eloszlás kumulatív eloszlásfüggvénye\n",
    "        if x < self.mu:\n",
    "            return 0.5 * math.exp((x - self.mu) / self.b)\n",
    "        else:\n",
    "            return 1 - 0.5 * math.exp(-(x - self.mu) / self.b)\n",
    "\n",
    "    def ppf(self, p):\n",
    "        # Laplace-eloszlás inverz kumulatív eloszlásfüggvénye\n",
    "        if p < 0.5:\n",
    "            return self.mu + self.b * math.log(2 * p)\n",
    "        else:\n",
    "            return self.mu - self.b * math.log(2 - 2 * p)\n",
    "\n",
    "    def mean(self):\n",
    "        # Várható érték a középérték (mu) alapján\n",
    "        return self.mu\n",
    "\n",
    "    def variance(self):\n",
    "        # Variancia számítása\n",
    "        return 2 * self.b ** 2\n",
    "\n",
    "    def skewness(self):\n",
    "        # Ferdeség számítása\n",
    "        return 0\n",
    "\n",
    "    def ex_kurtosis(self):\n",
    "        # Többlet csúcsosság számítása\n",
    "        return 3\n",
    "\n",
    "# Példa használat:\n",
    "laplace = LaplaceDistribution(0, 1)\n",
    "ex_kurtosis_value = laplace.ex_kurtosis()\n",
    "print(f\"Többlet csúcsosság: {ex_kurtosis_value}\")\n"
   ],
   "metadata": {
    "collapsed": false,
    "ExecuteTime": {
     "end_time": "2023-09-27T17:39:32.714043800Z",
     "start_time": "2023-09-27T17:39:32.622741Z"
    }
   },
   "id": "d386c65809f526b2"
  },
  {
   "cell_type": "code",
   "execution_count": null,
   "outputs": [],
   "source": [
    "10., Egészítse ki a LaplaceDistribution osztályt egy új függvénnyel, amely visszaadja az eloszlás függvény első momentumát, a 2. és 3. cetrális momentumát, és a többlet csúcsosságot.. Ha az eloszlásnak nincsenek ilyen       értékei, akkor return helyett hívja meg a raise Exception(\"Moment undefined\") parancsot.\n",
    "    függvény név: mvsk\n",
    "    bemenet: None\n",
    "    kimeneti típus: List"
   ],
   "metadata": {
    "collapsed": false
   },
   "id": "93c1b09aaab561cf"
  },
  {
   "cell_type": "code",
   "execution_count": 11,
   "outputs": [
    {
     "name": "stdout",
     "output_type": "stream",
     "text": [
      "Momentumok és többlet csúcsosság: [0, 2, 0, 3]\n"
     ]
    }
   ],
   "source": [
    "import math\n",
    "\n",
    "class LaplaceDistribution:\n",
    "    def __init__(self, mu, b):\n",
    "        self.mu = mu  # Az eloszlás középértéke\n",
    "        self.b = b    # Az eloszlás skálája\n",
    "\n",
    "    def pdf(self, x):\n",
    "        # Laplace-eloszlás valószínűségi sűrűségfüggvénye\n",
    "        return 0.5 * math.exp(-abs(x - self.mu) / self.b) / self.b\n",
    "\n",
    "    def cdf(self, x):\n",
    "        # Laplace-eloszlás kumulatív eloszlásfüggvénye\n",
    "        if x < self.mu:\n",
    "            return 0.5 * math.exp((x - self.mu) / self.b)\n",
    "        else:\n",
    "            return 1 - 0.5 * math.exp(-(x - self.mu) / self.b)\n",
    "\n",
    "    def ppf(self, p):\n",
    "        # Laplace-eloszlás inverz kumulatív eloszlásfüggvénye\n",
    "        if p < 0.5:\n",
    "            return self.mu + self.b * math.log(2 * p)\n",
    "        else:\n",
    "            return self.mu - self.b * math.log(2 - 2 * p)\n",
    "\n",
    "    def mean(self):\n",
    "        # Várható érték a középérték (mu) alapján\n",
    "        return self.mu\n",
    "\n",
    "    def variance(self):\n",
    "        # Variancia számítása\n",
    "        return 2 * self.b ** 2\n",
    "\n",
    "    def skewness(self):\n",
    "        # Ferdeség számítása\n",
    "        return 0\n",
    "\n",
    "    def ex_kurtosis(self):\n",
    "        # Többlet csúcsosság számítása\n",
    "        return 3\n",
    "\n",
    "    def mvsk(self):\n",
    "        # Eloszlás momentumok és többlet csúcsosságának számítása\n",
    "        if self.b == 0:\n",
    "            raise Exception(\"Moment undefined\")\n",
    "\n",
    "        mean = self.mean()\n",
    "        variance = self.variance()\n",
    "        skewness = self.skewness()\n",
    "        kurtosis = self.ex_kurtosis()\n",
    "\n",
    "        return [mean, variance, skewness, kurtosis]\n",
    "\n",
    "# Példa használat:\n",
    "laplace = LaplaceDistribution(0, 1)\n",
    "moments = laplace.mvsk()\n",
    "print(f\"Momentumok és többlet csúcsosság: {moments}\")\n"
   ],
   "metadata": {
    "collapsed": false,
    "ExecuteTime": {
     "end_time": "2023-09-27T17:40:12.665899100Z",
     "start_time": "2023-09-27T17:40:12.580681800Z"
    }
   },
   "id": "e7f883ebece94693"
  },
  {
   "cell_type": "code",
   "execution_count": null,
   "outputs": [],
   "source": [
    "\"\"\"\n",
    "11., Hozzan létre egy új osztályt aminek a neve ParetoDistribution. Definiáljon benne a __init__ nevű függvényt, amelynek bemenetként kap egy véletlenszám generátort, és az eloszlás skála paraméterét (scale) és alak         paraméterét (shape), amely értékeket adattagokba ment le.\n",
    "    Osztály név: ParetoDistribution\n",
    "    függvény név: __init__\n",
    "    bemenet: self, rand, scale, shape\n",
    "    link: https://en.wikipedia.org/wiki/Pareto_distribution\n",
    "    help: https://www.wolframalpha.com/input?i=pareto+distribution+k%3D1+alpha+%3D+2.1"
   ],
   "metadata": {
    "collapsed": false
   },
   "id": "86c7d65dad8f7731"
  },
  {
   "cell_type": "code",
   "execution_count": 12,
   "outputs": [],
   "source": [
    "class ParetoDistribution:\n",
    "    def __init__(self, rand, scale, shape):\n",
    "        self.rand = rand  # A véletlenszám generátor\n",
    "        self.scale = scale  # Skála paraméter (scale)\n",
    "        self.shape = shape  # Alak paraméter (shape)\n",
    "        \n",
    "    # További függvényeket is lehet definiálni az osztályban az eloszlással kapcsolatban.\n",
    "\n",
    "# Példa használat:\n",
    "# Az alábbi példa bemutatja, hogyan hozzuk létre egy ParetoDistribution objektumot:\n",
    "import random\n",
    "\n",
    "scale = 1.0\n",
    "shape = 2.1\n",
    "random_generator = random.Random()\n",
    "pareto = ParetoDistribution(random_generator, scale, shape)\n"
   ],
   "metadata": {
    "collapsed": false,
    "ExecuteTime": {
     "end_time": "2023-09-27T17:40:50.584209800Z",
     "start_time": "2023-09-27T17:40:50.533052900Z"
    }
   },
   "id": "1e2b4e044d4d6d0a"
  },
  {
   "cell_type": "code",
   "execution_count": null,
   "outputs": [],
   "source": [
    "12., Egészítse ki a ParetoDistribution osztályt egy új függvénnyel, amely loc várható értékű, scale varianciájú és asymmmetry ferdeségű  aszimmetrikus laplace eloszlás eloszlásfüggvényéből rendel valószínűségi értéket a     bemeneti x valós számhoz.\n",
    "    függvény név: pdf\n",
    "    bemenet: x\n",
    "    kimeneti típus: float"
   ],
   "metadata": {
    "collapsed": false
   },
   "id": "59b11ff9956c88d8"
  },
  {
   "cell_type": "code",
   "execution_count": 13,
   "outputs": [
    {
     "name": "stdout",
     "output_type": "stream",
     "text": [
      "Pareto PDF at x = 3.0: 0.12246058013920598\n"
     ]
    }
   ],
   "source": [
    "class ParetoDistribution:\n",
    "    def __init__(self, rand, loc, scale, shape):\n",
    "        self.rand = rand\n",
    "        self.loc = loc\n",
    "        self.scale = scale\n",
    "        self.shape = shape\n",
    "\n",
    "    def pdf(self, x):\n",
    "        if x < self.loc:\n",
    "            return 0\n",
    "        else:\n",
    "            return (self.shape / self.scale) * (1 + (x - self.loc) / self.scale) ** (-self.shape - 1)\n",
    "\n",
    "# Példa használat:\n",
    "# Pareto eloszlás paramétereinek beállítása\n",
    "loc = 1.0\n",
    "scale = 2.0\n",
    "shape = 2.1\n",
    "\n",
    "random_generator = random.Random()\n",
    "pareto = ParetoDistribution(random_generator, loc, scale, shape)\n",
    "\n",
    "# Valószínűségi sűrűségfüggvény értékének kiszámítása egy adott x értékre\n",
    "x = 3.0\n",
    "pdf_value = pareto.pdf(x)\n",
    "print(f\"Pareto PDF at x = {x}: {pdf_value}\")\n"
   ],
   "metadata": {
    "collapsed": false,
    "ExecuteTime": {
     "end_time": "2023-09-27T17:41:34.461045900Z",
     "start_time": "2023-09-27T17:41:34.374169600Z"
    }
   },
   "id": "eb37a0498ac1ba81"
  },
  {
   "cell_type": "code",
   "execution_count": null,
   "outputs": [],
   "source": [
    "13., Egészítse ki a ParetoDistribution osztályt egy új függvénnyel, amely megvalósítja az eloszlás kumulatív eloszlás függvényét.\n",
    "    függvény név: cdf\n",
    "    bemenet: x\n",
    "    kimeneti típus: float"
   ],
   "metadata": {
    "collapsed": false
   },
   "id": "4fb92459a082c1f1"
  },
  {
   "cell_type": "code",
   "execution_count": 14,
   "outputs": [
    {
     "name": "stdout",
     "output_type": "stream",
     "text": [
      "Pareto CDF at x = 3.0: 0.0\n"
     ]
    }
   ],
   "source": [
    "class ParetoDistribution:\n",
    "    def __init__(self, rand, loc, scale, shape):\n",
    "        self.rand = rand\n",
    "        self.loc = loc\n",
    "        self.scale = scale\n",
    "        self.shape = shape\n",
    "\n",
    "    def pdf(self, x):\n",
    "        if x < self.loc:\n",
    "            return 0\n",
    "        else:\n",
    "            return (self.shape / self.scale) * (1 + (x - self.loc) / self.scale) ** (-self.shape - 1)\n",
    "\n",
    "    def cdf(self, x):\n",
    "        if x < self.loc:\n",
    "            return 0\n",
    "        else:\n",
    "            return 1 - (self.scale / (x - self.loc)) ** self.shape\n",
    "\n",
    "# Példa használat:\n",
    "# Pareto eloszlás paramétereinek beállítása\n",
    "loc = 1.0\n",
    "scale = 2.0\n",
    "shape = 2.1\n",
    "\n",
    "random_generator = random.Random()\n",
    "pareto = ParetoDistribution(random_generator, loc, scale, shape)\n",
    "\n",
    "# Kumulatív eloszlásfüggvény értékének kiszámítása egy adott x értékre\n",
    "x = 3.0\n",
    "cdf_value = pareto.cdf(x)\n",
    "print(f\"Pareto CDF at x = {x}: {cdf_value}\")\n"
   ],
   "metadata": {
    "collapsed": false,
    "ExecuteTime": {
     "end_time": "2023-09-27T17:42:48.939503900Z",
     "start_time": "2023-09-27T17:42:48.844044800Z"
    }
   },
   "id": "957d43340f557a87"
  },
  {
   "cell_type": "code",
   "execution_count": null,
   "outputs": [],
   "source": [
    "14., Egészítse ki a ParetoDistribution osztályt egy új függvénnyel, amely implementálja az eloszlás inverz kumulatív eloszlás függvényét\n",
    "    függvény név: ppf\n",
    "    bemenet: p\n",
    "    kimeneti típus: float   "
   ],
   "metadata": {
    "collapsed": false
   },
   "id": "a9e1bc4c7f0d0e66"
  },
  {
   "cell_type": "code",
   "execution_count": 15,
   "outputs": [
    {
     "name": "stdout",
     "output_type": "stream",
     "text": [
      "Pareto PPF at p = 0.7: 3.3702427876801413\n"
     ]
    }
   ],
   "source": [
    "class ParetoDistribution:\n",
    "    def __init__(self, rand, loc, scale, shape):\n",
    "        self.rand = rand\n",
    "        self.loc = loc\n",
    "        self.scale = scale\n",
    "        self.shape = shape\n",
    "\n",
    "    def pdf(self, x):\n",
    "        if x < self.loc:\n",
    "            return 0\n",
    "        else:\n",
    "            return (self.shape / self.scale) * (1 + (x - self.loc) / self.scale) ** (-self.shape - 1)\n",
    "\n",
    "    def cdf(self, x):\n",
    "        if x < self.loc:\n",
    "            return 0\n",
    "        else:\n",
    "            return 1 - (self.scale / (x - self.loc)) ** self.shape\n",
    "\n",
    "    def ppf(self, p):\n",
    "        if p <= 0 or p >= 1:\n",
    "            raise ValueError(\"Invalid p value. p must be in the open interval (0, 1).\")\n",
    "        return self.loc + self.scale / (p ** (1 / self.shape))\n",
    "\n",
    "# Példa használat:\n",
    "# Pareto eloszlás paramétereinek beállítása\n",
    "loc = 1.0\n",
    "scale = 2.0\n",
    "shape = 2.1\n",
    "\n",
    "random_generator = random.Random()\n",
    "pareto = ParetoDistribution(random_generator, loc, scale, shape)\n",
    "\n",
    "# Inverz kumulatív eloszlásfüggvény értékének kiszámítása egy adott p valószámhoz\n",
    "p = 0.7\n",
    "ppf_value = pareto.ppf(p)\n",
    "print(f\"Pareto PPF at p = {p}: {ppf_value}\")\n"
   ],
   "metadata": {
    "collapsed": false,
    "ExecuteTime": {
     "end_time": "2023-09-27T17:44:15.352832400Z",
     "start_time": "2023-09-27T17:44:15.241597800Z"
    }
   },
   "id": "9e9e605f30b52d05"
  },
  {
   "cell_type": "code",
   "execution_count": null,
   "outputs": [],
   "source": [
    "    15., Egészítse ki a ParetoDistribution osztályt egy új függvénnyel, amely az osztály létrehozásánál megadott paraméterek mellett, aszimmetrikus laplace eloszlású véletlen számokat generál minden meghívásnál\n",
    "        függvény név: gen_random\n",
    "        bemenet: None\n",
    "        kimeneti típus: float"
   ],
   "metadata": {
    "collapsed": false
   },
   "id": "1e3057eaf0ef1883"
  },
  {
   "cell_type": "code",
   "execution_count": 16,
   "outputs": [
    {
     "name": "stdout",
     "output_type": "stream",
     "text": [
      "Aszimmetrikus Laplace eloszlású véletlen szám: 3.8344943283342494\n"
     ]
    }
   ],
   "source": [
    "class ParetoDistribution:\n",
    "    def __init__(self, rand, loc, scale, shape):\n",
    "        self.rand = rand\n",
    "        self.loc = loc\n",
    "        self.scale = scale\n",
    "        self.shape = shape\n",
    "\n",
    "    def pdf(self, x):\n",
    "        if x < self.loc:\n",
    "            return 0\n",
    "        else:\n",
    "            return (self.shape / self.scale) * (1 + (x - self.loc) / self.scale) ** (-self.shape - 1)\n",
    "\n",
    "    def cdf(self, x):\n",
    "        if x < self.loc:\n",
    "            return 0\n",
    "        else:\n",
    "            return 1 - (self.scale / (x - self.loc)) ** self.shape\n",
    "\n",
    "    def ppf(self, p):\n",
    "        if p <= 0 or p >= 1:\n",
    "            raise ValueError(\"Invalid p value. p must be in the open interval (0, 1).\")\n",
    "        return self.loc + self.scale / (p ** (1 / self.shape))\n",
    "\n",
    "    def gen_random(self):\n",
    "        # Aszimmetrikus Laplace eloszlás generálása Pareto eloszlás alapján\n",
    "        p = self.rand.random()\n",
    "        return self.ppf(p)\n",
    "\n",
    "# Példa használat:\n",
    "# Pareto eloszlás paramétereinek beállítása\n",
    "loc = 1.0\n",
    "scale = 2.0\n",
    "shape = 2.1\n",
    "\n",
    "random_generator = random.Random()\n",
    "pareto = ParetoDistribution(random_generator, loc, scale, shape)\n",
    "\n",
    "# Aszimmetrikus Laplace eloszlású véletlen szám generálása\n",
    "random_value = pareto.gen_random()\n",
    "print(f\"Aszimmetrikus Laplace eloszlású véletlen szám: {random_value}\")\n"
   ],
   "metadata": {
    "collapsed": false,
    "ExecuteTime": {
     "end_time": "2023-09-27T17:44:36.397066100Z",
     "start_time": "2023-09-27T17:44:36.381432400Z"
    }
   },
   "id": "c9edd54e30dab861"
  },
  {
   "cell_type": "code",
   "execution_count": null,
   "outputs": [],
   "source": [
    "16., Egészítse ki a ParetoDistribution osztályt egy új függvénnyel, amely visszaadja az eloszlás függvény várható értékét. Ha az eloszlásnak nincsen ilyen értéke, akkor return helyett hívja meg a raise Exception(\"Moment     undefined\") parancsot.\n",
    "    függvény név: mean\n",
    "    bemenet: None\n",
    "    kimeneti típus: float"
   ],
   "metadata": {
    "collapsed": false
   },
   "id": "c6d813918aaf99be"
  },
  {
   "cell_type": "code",
   "execution_count": 17,
   "outputs": [
    {
     "name": "stdout",
     "output_type": "stream",
     "text": [
      "Pareto Mean: 4.818181818181818\n"
     ]
    }
   ],
   "source": [
    "class ParetoDistribution:\n",
    "    def __init__(self, rand, loc, scale, shape):\n",
    "        self.rand = rand\n",
    "        self.loc = loc\n",
    "        self.scale = scale\n",
    "        self.shape = shape\n",
    "\n",
    "    def pdf(self, x):\n",
    "        if x < self.loc:\n",
    "            return 0\n",
    "        else:\n",
    "            return (self.shape / self.scale) * (1 + (x - self.loc) / self.scale) ** (-self.shape - 1)\n",
    "\n",
    "    def cdf(self, x):\n",
    "        if x < self.loc:\n",
    "            return 0\n",
    "        else:\n",
    "            return 1 - (self.scale / (x - self.loc)) ** self.shape\n",
    "\n",
    "    def ppf(self, p):\n",
    "        if p <= 0 or p >= 1:\n",
    "            raise ValueError(\"Invalid p value. p must be in the open interval (0, 1).\")\n",
    "        return self.loc + self.scale / (p ** (1 / self.shape))\n",
    "\n",
    "    def gen_random(self):\n",
    "        p = self.rand.random()\n",
    "        return self.ppf(p)\n",
    "\n",
    "    def mean(self):\n",
    "        if self.shape <= 1:\n",
    "            raise Exception(\"Moment undefined\")\n",
    "        return (self.scale * self.shape) / (self.shape - 1) + self.loc\n",
    "\n",
    "# Példa használat:\n",
    "loc = 1.0\n",
    "scale = 2.0\n",
    "shape = 2.1\n",
    "\n",
    "random_generator = random.Random()\n",
    "pareto = ParetoDistribution(random_generator, loc, scale, shape)\n",
    "\n",
    "mean_value = pareto.mean()\n",
    "print(f\"Pareto Mean: {mean_value}\")\n"
   ],
   "metadata": {
    "collapsed": false,
    "ExecuteTime": {
     "end_time": "2023-09-27T17:44:53.711816200Z",
     "start_time": "2023-09-27T17:44:53.681599800Z"
    }
   },
   "id": "ce9968598d483012"
  },
  {
   "cell_type": "code",
   "execution_count": null,
   "outputs": [],
   "source": [
    "17., Egészítse ki a ParetoDistribution osztályt egy új függvénnyel, amely visszaadja az eloszlás függvény varianciáját.  Ha az eloszlásnak nincsen ilyen értéke, akkor return helyett hívja meg a raise Exception(\"Moment       undefined\") parancsot.\n",
    "    függvény név: variance\n",
    "    bemenet: None\n",
    "    kimeneti típus: float"
   ],
   "metadata": {
    "collapsed": false
   },
   "id": "8538a5d5547b0aee"
  },
  {
   "cell_type": "code",
   "execution_count": 19,
   "outputs": [
    {
     "name": "stdout",
     "output_type": "stream",
     "text": [
      "Pareto Variance: 69.42148760330572\n"
     ]
    }
   ],
   "source": [
    "class ParetoDistribution:\n",
    "    def __init__(self, rand, loc, scale, shape):\n",
    "        self.rand = rand\n",
    "        self.loc = loc\n",
    "        self.scale = scale\n",
    "        self.shape = shape\n",
    "\n",
    "    def pdf(self, x):\n",
    "        if x < self.loc:\n",
    "            return 0\n",
    "        else:\n",
    "            return (self.shape / self.scale) * (1 + (x - self.loc) / self.scale) ** (-self.shape - 1)\n",
    "\n",
    "    def cdf(self, x):\n",
    "        if x < self.loc:\n",
    "            return 0\n",
    "        else:\n",
    "            return 1 - (self.scale / (x - self.loc)) ** self.shape\n",
    "\n",
    "    def ppf(self, p):\n",
    "        if p <= 0 or p >= 1:\n",
    "            raise ValueError(\"Invalid p value. p must be in the open interval (0, 1).\")\n",
    "        return self.loc + self.scale / (p ** (1 / self.shape))\n",
    "\n",
    "    def gen_random(self):\n",
    "        p = self.rand.random()\n",
    "        return self.ppf(p)\n",
    "\n",
    "    def mean(self):\n",
    "        if self.shape <= 1:\n",
    "            raise Exception(\"Moment undefined\")\n",
    "        return (self.scale * self.shape) / (self.shape - 1) + self.loc\n",
    "\n",
    "    def variance(self):\n",
    "        if self.shape <= 2:\n",
    "            raise Exception(\"Moment undefined\")\n",
    "        return (self.scale ** 2 * self.shape) / ((self.shape - 1) ** 2 * (self.shape - 2))\n",
    "\n",
    "# Példa használat:\n",
    "loc = 1.0\n",
    "scale = 2.0\n",
    "shape = 2.1\n",
    "\n",
    "random_generator = random.Random()\n",
    "pareto = ParetoDistribution(random_generator, loc, scale, shape)\n",
    "\n",
    "variance_value = pareto.variance()\n",
    "print(f\"Pareto Variance: {variance_value}\")\n"
   ],
   "metadata": {
    "collapsed": false,
    "ExecuteTime": {
     "end_time": "2023-09-27T17:45:51.177831Z",
     "start_time": "2023-09-27T17:45:51.098716800Z"
    }
   },
   "id": "cb5781a03501d691"
  },
  {
   "cell_type": "code",
   "execution_count": null,
   "outputs": [],
   "source": [
    "18., Egészítse ki a ParetoDistribution osztályt egy új függvénnyel, amely visszaadja az eloszlás függvény ferdeségét.  Ha az eloszlásnak nincsen ilyen értéke, akkor return helyett hívja meg a raise Exception(\"Moment         undefined\") parancsot.\n",
    "    függvény név: skewness\n",
    "    bemenet: None\n",
    "    kimeneti típus: float"
   ],
   "metadata": {
    "collapsed": false
   },
   "id": "fdd111027a81c59f"
  },
  {
   "cell_type": "code",
   "execution_count": 25,
   "outputs": [
    {
     "ename": "Exception",
     "evalue": "Moment undefined",
     "output_type": "error",
     "traceback": [
      "\u001B[1;31m---------------------------------------------------------------------------\u001B[0m",
      "\u001B[1;31mException\u001B[0m                                 Traceback (most recent call last)",
      "Cell \u001B[1;32mIn[25], line 52\u001B[0m\n\u001B[0;32m     49\u001B[0m random_generator \u001B[38;5;241m=\u001B[39m random\u001B[38;5;241m.\u001B[39mRandom()\n\u001B[0;32m     50\u001B[0m pareto \u001B[38;5;241m=\u001B[39m ParetoDistribution(random_generator, loc, scale, shape)\n\u001B[1;32m---> 52\u001B[0m skewness_value \u001B[38;5;241m=\u001B[39m \u001B[43mpareto\u001B[49m\u001B[38;5;241;43m.\u001B[39;49m\u001B[43mskewness\u001B[49m\u001B[43m(\u001B[49m\u001B[43m)\u001B[49m\n\u001B[0;32m     53\u001B[0m \u001B[38;5;28mprint\u001B[39m(\u001B[38;5;124mf\u001B[39m\u001B[38;5;124m\"\u001B[39m\u001B[38;5;124mPareto Skewness: \u001B[39m\u001B[38;5;132;01m{\u001B[39;00mskewness_value\u001B[38;5;132;01m}\u001B[39;00m\u001B[38;5;124m\"\u001B[39m)\n",
      "Cell \u001B[1;32mIn[25], line 41\u001B[0m, in \u001B[0;36mParetoDistribution.skewness\u001B[1;34m(self)\u001B[0m\n\u001B[0;32m     39\u001B[0m \u001B[38;5;28;01mdef\u001B[39;00m \u001B[38;5;21mskewness\u001B[39m(\u001B[38;5;28mself\u001B[39m):\n\u001B[0;32m     40\u001B[0m     \u001B[38;5;28;01mif\u001B[39;00m \u001B[38;5;28mself\u001B[39m\u001B[38;5;241m.\u001B[39mshape \u001B[38;5;241m<\u001B[39m\u001B[38;5;241m=\u001B[39m \u001B[38;5;241m4\u001B[39m:\n\u001B[1;32m---> 41\u001B[0m         \u001B[38;5;28;01mraise\u001B[39;00m \u001B[38;5;167;01mException\u001B[39;00m(\u001B[38;5;124m\"\u001B[39m\u001B[38;5;124mMoment undefined\u001B[39m\u001B[38;5;124m\"\u001B[39m)\n\u001B[0;32m     42\u001B[0m     \u001B[38;5;28;01mreturn\u001B[39;00m (\u001B[38;5;241m2\u001B[39m \u001B[38;5;241m*\u001B[39m (\u001B[38;5;241m1\u001B[39m \u001B[38;5;241m+\u001B[39m \u001B[38;5;28mself\u001B[39m\u001B[38;5;241m.\u001B[39mshape) \u001B[38;5;241m/\u001B[39m (\u001B[38;5;28mself\u001B[39m\u001B[38;5;241m.\u001B[39mshape \u001B[38;5;241m-\u001B[39m \u001B[38;5;241m3\u001B[39m)) \u001B[38;5;241m*\u001B[39m (\u001B[38;5;28mself\u001B[39m\u001B[38;5;241m.\u001B[39mshape \u001B[38;5;241m-\u001B[39m \u001B[38;5;241m2\u001B[39m) \u001B[38;5;241m/\u001B[39m ((\u001B[38;5;28mself\u001B[39m\u001B[38;5;241m.\u001B[39mshape \u001B[38;5;241m-\u001B[39m \u001B[38;5;241m4\u001B[39m) \u001B[38;5;241m*\u001B[39m\u001B[38;5;241m*\u001B[39m \u001B[38;5;241m0.5\u001B[39m)\n",
      "\u001B[1;31mException\u001B[0m: Moment undefined"
     ]
    }
   ],
   "source": [
    "class ParetoDistribution:\n",
    "    def __init__(self, rand, loc, scale, shape):\n",
    "        self.rand = rand\n",
    "        self.loc = loc\n",
    "        self.scale = scale\n",
    "        self.shape = shape\n",
    "\n",
    "    def pdf(self, x):\n",
    "        if x < self.loc:\n",
    "            return 0\n",
    "        else:\n",
    "            return (self.shape / self.scale) * (1 + (x - self.loc) / self.scale) ** (-self.shape - 1)\n",
    "\n",
    "    def cdf(self, x):\n",
    "        if x < self.loc:\n",
    "            return 0\n",
    "        else:\n",
    "            return 1 - (self.scale / (x - self.loc)) ** self.shape\n",
    "\n",
    "    def ppf(self, p):\n",
    "        if p <= 0 or p >= 1:\n",
    "            raise ValueError(\"Invalid p value. p must be in the open interval (0, 1).\")\n",
    "        return self.loc + self.scale / (p ** (1 / self.shape))\n",
    "\n",
    "    def gen_random(self):\n",
    "        p = self.rand.random()\n",
    "        return self.ppf(p)\n",
    "\n",
    "    def mean(self):\n",
    "        if self.shape <= 1:\n",
    "            raise Exception(\"Moment undefined\")\n",
    "        return (self.scale * self.shape) / (self.shape - 1) + self.loc\n",
    "\n",
    "    def variance(self):\n",
    "        if self.shape <= 2:\n",
    "            raise Exception(\"Moment undefined\")\n",
    "        return (self.scale ** 2 * self.shape) / ((self.shape - 1) ** 2 * (self.shape - 2))\n",
    "\n",
    "    def skewness(self):\n",
    "        if self.shape <= 4:\n",
    "            raise Exception(\"Moment undefined\")\n",
    "        return (2 * (1 + self.shape) / (self.shape - 3)) * (self.shape - 2) / ((self.shape - 4) ** 0.5)\n",
    "\n",
    "# Példa használat:\n",
    "loc = 1.0\n",
    "scale = 2.0\n",
    "shape = 2.1\n",
    "\n",
    "random_generator = random.Random()\n",
    "pareto = ParetoDistribution(random_generator, loc, scale, shape)\n",
    "\n",
    "skewness_value = pareto.skewness()\n",
    "print(f\"Pareto Skewness: {skewness_value}\")\n",
    "\n"
   ],
   "metadata": {
    "collapsed": false,
    "ExecuteTime": {
     "end_time": "2023-09-27T17:48:11.872619200Z",
     "start_time": "2023-09-27T17:48:11.809752200Z"
    }
   },
   "id": "64772512bb4e2905"
  },
  {
   "cell_type": "code",
   "execution_count": null,
   "outputs": [],
   "source": [
    "19., Egészítse ki a ParetoDistribution osztályt egy új függvénnyel, amely visszaadja az eloszlás függvény többlet csúcsosságát.  Ha az eloszlásnak nincsen ilyen értéke, akkor return helyett hívja meg a raise Exception       (\"Moment undefined\") parancsot.\n",
    "    függvény név: ex_kurtosis\n",
    "    bemenet: None\n",
    "    kimeneti típus: float"
   ],
   "metadata": {
    "collapsed": false
   },
   "id": "ed68a6c67e4027f7"
  },
  {
   "cell_type": "code",
   "execution_count": 26,
   "outputs": [
    {
     "ename": "Exception",
     "evalue": "Moment undefined",
     "output_type": "error",
     "traceback": [
      "\u001B[1;31m---------------------------------------------------------------------------\u001B[0m",
      "\u001B[1;31mException\u001B[0m                                 Traceback (most recent call last)",
      "Cell \u001B[1;32mIn[26], line 57\u001B[0m\n\u001B[0;32m     54\u001B[0m random_generator \u001B[38;5;241m=\u001B[39m random\u001B[38;5;241m.\u001B[39mRandom()\n\u001B[0;32m     55\u001B[0m pareto \u001B[38;5;241m=\u001B[39m ParetoDistribution(random_generator, loc, scale, shape)\n\u001B[1;32m---> 57\u001B[0m ex_kurtosis_value \u001B[38;5;241m=\u001B[39m \u001B[43mpareto\u001B[49m\u001B[38;5;241;43m.\u001B[39;49m\u001B[43mex_kurtosis\u001B[49m\u001B[43m(\u001B[49m\u001B[43m)\u001B[49m\n\u001B[0;32m     58\u001B[0m \u001B[38;5;28mprint\u001B[39m(\u001B[38;5;124mf\u001B[39m\u001B[38;5;124m\"\u001B[39m\u001B[38;5;124mPareto Excess Kurtosis: \u001B[39m\u001B[38;5;132;01m{\u001B[39;00mex_kurtosis_value\u001B[38;5;132;01m}\u001B[39;00m\u001B[38;5;124m\"\u001B[39m)\n",
      "Cell \u001B[1;32mIn[26], line 46\u001B[0m, in \u001B[0;36mParetoDistribution.ex_kurtosis\u001B[1;34m(self)\u001B[0m\n\u001B[0;32m     44\u001B[0m \u001B[38;5;28;01mdef\u001B[39;00m \u001B[38;5;21mex_kurtosis\u001B[39m(\u001B[38;5;28mself\u001B[39m):\n\u001B[0;32m     45\u001B[0m     \u001B[38;5;28;01mif\u001B[39;00m \u001B[38;5;28mself\u001B[39m\u001B[38;5;241m.\u001B[39mshape \u001B[38;5;241m<\u001B[39m\u001B[38;5;241m=\u001B[39m \u001B[38;5;241m4\u001B[39m:\n\u001B[1;32m---> 46\u001B[0m         \u001B[38;5;28;01mraise\u001B[39;00m \u001B[38;5;167;01mException\u001B[39;00m(\u001B[38;5;124m\"\u001B[39m\u001B[38;5;124mMoment undefined\u001B[39m\u001B[38;5;124m\"\u001B[39m)\n\u001B[0;32m     47\u001B[0m     \u001B[38;5;28;01mreturn\u001B[39;00m (\u001B[38;5;241m6\u001B[39m \u001B[38;5;241m*\u001B[39m (\u001B[38;5;28mself\u001B[39m\u001B[38;5;241m.\u001B[39mshape\u001B[38;5;241m*\u001B[39m\u001B[38;5;241m*\u001B[39m\u001B[38;5;241m3\u001B[39m \u001B[38;5;241m+\u001B[39m \u001B[38;5;28mself\u001B[39m\u001B[38;5;241m.\u001B[39mshape\u001B[38;5;241m*\u001B[39m\u001B[38;5;241m*\u001B[39m\u001B[38;5;241m2\u001B[39m \u001B[38;5;241m-\u001B[39m \u001B[38;5;241m6\u001B[39m\u001B[38;5;241m*\u001B[39m\u001B[38;5;28mself\u001B[39m\u001B[38;5;241m.\u001B[39mshape \u001B[38;5;241m-\u001B[39m \u001B[38;5;241m2\u001B[39m)) \u001B[38;5;241m/\u001B[39m (\u001B[38;5;28mself\u001B[39m\u001B[38;5;241m.\u001B[39mshape \u001B[38;5;241m*\u001B[39m (\u001B[38;5;28mself\u001B[39m\u001B[38;5;241m.\u001B[39mshape \u001B[38;5;241m-\u001B[39m \u001B[38;5;241m3\u001B[39m) \u001B[38;5;241m*\u001B[39m (\u001B[38;5;28mself\u001B[39m\u001B[38;5;241m.\u001B[39mshape \u001B[38;5;241m-\u001B[39m \u001B[38;5;241m4\u001B[39m))\n",
      "\u001B[1;31mException\u001B[0m: Moment undefined"
     ]
    }
   ],
   "source": [
    "class ParetoDistribution:\n",
    "    def __init__(self, rand, loc, scale, shape):\n",
    "        self.rand = rand\n",
    "        self.loc = loc\n",
    "        self.scale = scale\n",
    "        self.shape = shape\n",
    "\n",
    "    def pdf(self, x):\n",
    "        if x < self.loc:\n",
    "            return 0\n",
    "        else:\n",
    "            return (self.shape / self.scale) * (1 + (x - self.loc) / self.scale) ** (-self.shape - 1)\n",
    "\n",
    "    def cdf(self, x):\n",
    "        if x < self.loc:\n",
    "            return 0\n",
    "        else:\n",
    "            return 1 - (self.scale / (x - self.loc)) ** self.shape\n",
    "\n",
    "    def ppf(self, p):\n",
    "        if p <= 0 or p >= 1:\n",
    "            raise ValueError(\"Invalid p value. p must be in the open interval (0, 1).\")\n",
    "        return self.loc + self.scale / (p ** (1 / self.shape))\n",
    "\n",
    "    def gen_random(self):\n",
    "        p = self.rand.random()\n",
    "        return self.ppf(p)\n",
    "\n",
    "    def mean(self):\n",
    "        if self.shape <= 1:\n",
    "            raise Exception(\"Moment undefined\")\n",
    "        return (self.scale * self.shape) / (self.shape - 1) + self.loc\n",
    "\n",
    "    def variance(self):\n",
    "        if self.shape <= 2:\n",
    "            raise Exception(\"Moment undefined\")\n",
    "        return (self.scale ** 2 * self.shape) / ((self.shape - 1) ** 2 * (self.shape - 2))\n",
    "\n",
    "    def skewness(self):\n",
    "        if self.shape <= 4:\n",
    "            raise Exception(\"Moment undefined\")\n",
    "        return (2 * (1 + self.shape) / (self.shape - 3)) * (self.shape - 2) / ((self.shape - 4) ** 0.5)\n",
    "\n",
    "    def ex_kurtosis(self):\n",
    "        if self.shape <= 4:\n",
    "            raise Exception(\"Moment undefined\")\n",
    "        return (6 * (self.shape**3 + self.shape**2 - 6*self.shape - 2)) / (self.shape * (self.shape - 3) * (self.shape - 4))\n",
    "\n",
    "# Példa használat:\n",
    "loc = 1.0\n",
    "scale = 2.0\n",
    "shape = 2.1\n",
    "\n",
    "random_generator = random.Random()\n",
    "pareto = ParetoDistribution(random_generator, loc, scale, shape)\n",
    "\n",
    "ex_kurtosis_value = pareto.ex_kurtosis()\n",
    "print(f\"Pareto Excess Kurtosis: {ex_kurtosis_value}\")\n"
   ],
   "metadata": {
    "collapsed": false,
    "ExecuteTime": {
     "end_time": "2023-09-27T17:49:01.978801800Z",
     "start_time": "2023-09-27T17:49:01.898813100Z"
    }
   },
   "id": "1a8aaa21b8be050d"
  },
  {
   "cell_type": "code",
   "execution_count": null,
   "outputs": [],
   "source": [
    "20., Egészítse ki a ParetoDistribution osztályt egy új függvénnyel, amely visszaadja az eloszlás függvény első momentumát, a 2. és 3. cetrális momentumát, és a többlet csúcsosságot.  Ha az eloszlásnak nincsenek ilyen        értékei, akkor return helyett hívja meg a raise Exception(\"Moment undefined\") parancsot.\n",
    "    függvény név: mvsk\n",
    "    bemenet: None\n",
    "    kimeneti típus: List\n",
    "\"\"\""
   ],
   "metadata": {
    "collapsed": false
   },
   "id": "d95c2927bfcc756f"
  },
  {
   "cell_type": "code",
   "execution_count": 27,
   "outputs": [
    {
     "ename": "Exception",
     "evalue": "Moment undefined",
     "output_type": "error",
     "traceback": [
      "\u001B[1;31m---------------------------------------------------------------------------\u001B[0m",
      "\u001B[1;31mException\u001B[0m                                 Traceback (most recent call last)",
      "Cell \u001B[1;32mIn[27], line 66\u001B[0m\n\u001B[0;32m     63\u001B[0m random_generator \u001B[38;5;241m=\u001B[39m random\u001B[38;5;241m.\u001B[39mRandom()\n\u001B[0;32m     64\u001B[0m pareto \u001B[38;5;241m=\u001B[39m ParetoDistribution(random_generator, loc, scale, shape)\n\u001B[1;32m---> 66\u001B[0m mvsk_values \u001B[38;5;241m=\u001B[39m \u001B[43mpareto\u001B[49m\u001B[38;5;241;43m.\u001B[39;49m\u001B[43mmvsk\u001B[49m\u001B[43m(\u001B[49m\u001B[43m)\u001B[49m\n\u001B[0;32m     67\u001B[0m \u001B[38;5;28mprint\u001B[39m(\u001B[38;5;124m\"\u001B[39m\u001B[38;5;124mPareto MVSK values:\u001B[39m\u001B[38;5;124m\"\u001B[39m)\n\u001B[0;32m     68\u001B[0m \u001B[38;5;28mprint\u001B[39m(\u001B[38;5;124mf\u001B[39m\u001B[38;5;124m\"\u001B[39m\u001B[38;5;124mMean: \u001B[39m\u001B[38;5;132;01m{\u001B[39;00mmvsk_values[\u001B[38;5;241m0\u001B[39m]\u001B[38;5;132;01m}\u001B[39;00m\u001B[38;5;124m\"\u001B[39m)\n",
      "Cell \u001B[1;32mIn[27], line 51\u001B[0m, in \u001B[0;36mParetoDistribution.mvsk\u001B[1;34m(self)\u001B[0m\n\u001B[0;32m     49\u001B[0m \u001B[38;5;28;01mdef\u001B[39;00m \u001B[38;5;21mmvsk\u001B[39m(\u001B[38;5;28mself\u001B[39m):\n\u001B[0;32m     50\u001B[0m     \u001B[38;5;28;01mif\u001B[39;00m \u001B[38;5;28mself\u001B[39m\u001B[38;5;241m.\u001B[39mshape \u001B[38;5;241m<\u001B[39m\u001B[38;5;241m=\u001B[39m \u001B[38;5;241m4\u001B[39m:\n\u001B[1;32m---> 51\u001B[0m         \u001B[38;5;28;01mraise\u001B[39;00m \u001B[38;5;167;01mException\u001B[39;00m(\u001B[38;5;124m\"\u001B[39m\u001B[38;5;124mMoment undefined\u001B[39m\u001B[38;5;124m\"\u001B[39m)\n\u001B[0;32m     52\u001B[0m     mean \u001B[38;5;241m=\u001B[39m \u001B[38;5;28mself\u001B[39m\u001B[38;5;241m.\u001B[39mmean()\n\u001B[0;32m     53\u001B[0m     variance \u001B[38;5;241m=\u001B[39m \u001B[38;5;28mself\u001B[39m\u001B[38;5;241m.\u001B[39mvariance()\n",
      "\u001B[1;31mException\u001B[0m: Moment undefined"
     ]
    }
   ],
   "source": [
    "class ParetoDistribution:\n",
    "    def __init__(self, rand, loc, scale, shape):\n",
    "        self.rand = rand\n",
    "        self.loc = loc\n",
    "        self.scale = scale\n",
    "        self.shape = shape\n",
    "\n",
    "    def pdf(self, x):\n",
    "        if x < self.loc:\n",
    "            return 0\n",
    "        else:\n",
    "            return (self.shape / self.scale) * (1 + (x - self.loc) / self.scale) ** (-self.shape - 1)\n",
    "\n",
    "    def cdf(self, x):\n",
    "        if x < self.loc:\n",
    "            return 0\n",
    "        else:\n",
    "            return 1 - (self.scale / (x - self.loc)) ** self.shape\n",
    "\n",
    "    def ppf(self, p):\n",
    "        if p <= 0 or p >= 1:\n",
    "            raise ValueError(\"Invalid p value. p must be in the open interval (0, 1).\")\n",
    "        return self.loc + self.scale / (p ** (1 / self.shape))\n",
    "\n",
    "    def gen_random(self):\n",
    "        p = self.rand.random()\n",
    "        return self.ppf(p)\n",
    "\n",
    "    def mean(self):\n",
    "        if self.shape <= 1:\n",
    "            raise Exception(\"Moment undefined\")\n",
    "        return (self.scale * self.shape) / (self.shape - 1) + self.loc\n",
    "\n",
    "    def variance(self):\n",
    "        if self.shape <= 2:\n",
    "            raise Exception(\"Moment undefined\")\n",
    "        return (self.scale ** 2 * self.shape) / ((self.shape - 1) ** 2 * (self.shape - 2))\n",
    "\n",
    "    def skewness(self):\n",
    "        if self.shape <= 4:\n",
    "            raise Exception(\"Moment undefined\")\n",
    "        return (2 * (1 + self.shape) / (self.shape - 3)) * (self.shape - 2) / ((self.shape - 4) ** 0.5)\n",
    "\n",
    "    def ex_kurtosis(self):\n",
    "        if self.shape <= 4:\n",
    "            raise Exception(\"Moment undefined\")\n",
    "        return (6 * (self.shape**3 + self.shape**2 - 6*self.shape - 2)) / (self.shape * (self.shape - 3) * (self.shape - 4))\n",
    "\n",
    "    def mvsk(self):\n",
    "        if self.shape <= 4:\n",
    "            raise Exception(\"Moment undefined\")\n",
    "        mean = self.mean()\n",
    "        variance = self.variance()\n",
    "        skewness = self.skewness()\n",
    "        ex_kurtosis = self.ex_kurtosis()\n",
    "        return [mean, variance, skewness, ex_kurtosis]\n",
    "\n",
    "# Példa használat:\n",
    "loc = 1.0\n",
    "scale = 2.0\n",
    "shape = 2.1\n",
    "\n",
    "random_generator = random.Random()\n",
    "pareto = ParetoDistribution(random_generator, loc, scale, shape)\n",
    "\n",
    "mvsk_values = pareto.mvsk()\n",
    "print(\"Pareto MVSK values:\")\n",
    "print(f\"Mean: {mvsk_values[0]}\")\n",
    "print(f\"Variance: {mvsk_values[1]}\")\n",
    "print(f\"Skewness: {mvsk_values[2]}\")\n",
    "print(f\"Excess Kurtosis: {mvsk_values[3]}\")\n"
   ],
   "metadata": {
    "collapsed": false,
    "ExecuteTime": {
     "end_time": "2023-09-27T17:49:44.051175200Z",
     "start_time": "2023-09-27T17:49:43.986806200Z"
    }
   },
   "id": "9db07f6108130900"
  },
  {
   "cell_type": "code",
   "execution_count": null,
   "outputs": [],
   "source": [],
   "metadata": {
    "collapsed": false
   },
   "id": "baf80fe79cd87979"
  }
 ],
 "metadata": {
  "kernelspec": {
   "display_name": "Python 3",
   "language": "python",
   "name": "python3"
  },
  "language_info": {
   "codemirror_mode": {
    "name": "ipython",
    "version": 2
   },
   "file_extension": ".py",
   "mimetype": "text/x-python",
   "name": "python",
   "nbconvert_exporter": "python",
   "pygments_lexer": "ipython2",
   "version": "2.7.6"
  }
 },
 "nbformat": 4,
 "nbformat_minor": 5
}
