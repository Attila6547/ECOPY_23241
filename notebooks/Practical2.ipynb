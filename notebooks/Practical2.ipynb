{
 "cells": [
  {
   "cell_type": "markdown",
   "source": [
    "## A feladatok megoldása során csak a random, typing, math és pyerf modulok importálása elfogadott"
   ],
   "metadata": {
    "collapsed": false
   },
   "id": "d505d83ecd86220f"
  },
  {
   "cell_type": "markdown",
   "source": [
    "### A véletlenszám generálással kapcsolatos feladatok megoldását mentse src/utils modul-ba a **rand_wrappers.py** nevű fájlba"
   ],
   "metadata": {
    "collapsed": false
   },
   "id": "ea5dd5c989562edd"
  },
  {
   "cell_type": "markdown",
   "source": [
    "#### I. Véletlenszám generálás"
   ],
   "metadata": {
    "collapsed": false
   },
   "id": "2b075b97100da4f5"
  },
  {
   "cell_type": "code",
   "execution_count": null,
   "outputs": [],
   "source": [
    "\"\"\"\n",
    "0. Importáld a random modult\n",
    "\"\"\""
   ],
   "metadata": {
    "collapsed": false
   },
   "id": "cbd02be6fcc0366a"
  },
  {
   "cell_type": "code",
   "execution_count": 1,
   "outputs": [],
   "source": [
    "import random\n"
   ],
   "metadata": {
    "collapsed": false,
    "ExecuteTime": {
     "end_time": "2023-09-24T17:33:47.133201700Z",
     "start_time": "2023-09-24T17:33:47.101886400Z"
    }
   },
   "id": "293149d5d3d7699c"
  },
  {
   "cell_type": "code",
   "execution_count": null,
   "outputs": [],
   "source": [
    "\"\"\"\n",
    " 1.,  1., Hívd meg a random szám generátort, és generálj egy 0 és 1 közötti véletlen számot\n",
    "\"\"\""
   ],
   "metadata": {
    "collapsed": false
   },
   "id": "eb4ecd4b7ce19422"
  },
  {
   "cell_type": "code",
   "execution_count": 2,
   "outputs": [
    {
     "name": "stdout",
     "output_type": "stream",
     "text": [
      "0.07457247416064039\n"
     ]
    }
   ],
   "source": [
    "import random\n",
    "\n",
    "veletlen_szam = random.random()\n",
    "print(veletlen_szam)"
   ],
   "metadata": {
    "collapsed": false,
    "ExecuteTime": {
     "end_time": "2023-09-24T17:34:36.691952300Z",
     "start_time": "2023-09-24T17:34:36.676246100Z"
    }
   },
   "id": "43b12980ba15149a"
  },
  {
   "cell_type": "code",
   "execution_count": null,
   "outputs": [],
   "source": [
    "\"\"\"\n",
    "2., Generálj 1 és 100 közötti egész véletlen számokat\n",
    "\"\"\""
   ],
   "metadata": {
    "collapsed": false
   },
   "id": "2256690fb4b1ec52"
  },
  {
   "cell_type": "code",
   "execution_count": 14,
   "outputs": [
    {
     "name": "stdout",
     "output_type": "stream",
     "text": [
      "95\n"
     ]
    }
   ],
   "source": [
    "import random\n",
    "\n",
    "veletlen_egesz = random.randint(1, 100)\n",
    "print(veletlen_egesz)\n"
   ],
   "metadata": {
    "collapsed": false,
    "ExecuteTime": {
     "end_time": "2023-09-24T17:36:06.114119900Z",
     "start_time": "2023-09-24T17:36:06.081848200Z"
    }
   },
   "id": "a06c7bcdb2f0479c"
  },
  {
   "cell_type": "code",
   "execution_count": null,
   "outputs": [],
   "source": [
    "\"\"\"\n",
    "3. Generálj 1 és 100 közötti véletlen egész számot, olyan módon, hogy a random seed értéke 42 legyen\n",
    "\"\"\""
   ],
   "metadata": {
    "collapsed": false
   },
   "id": "2619e1f9970a541"
  },
  {
   "cell_type": "code",
   "execution_count": 11,
   "outputs": [
    {
     "name": "stdout",
     "output_type": "stream",
     "text": [
      "82\n"
     ]
    }
   ],
   "source": [
    "import random\n",
    "\n",
    "random.seed(42)  # Beállítjuk a kezdeti magot 42-re\n",
    "veletlen_egesz = random.randint(1, 100)\n",
    "print(veletlen_egesz)"
   ],
   "metadata": {
    "collapsed": false,
    "ExecuteTime": {
     "end_time": "2023-09-24T17:36:01.975021600Z",
     "start_time": "2023-09-24T17:36:01.959393600Z"
    }
   },
   "id": "32dc9cba11559ce6"
  },
  {
   "cell_type": "code",
   "execution_count": null,
   "outputs": [],
   "source": [
    "\"\"\"\n",
    "4., Készíts egy függvényt, ami visszaad egy véletlenül kiválasztott elemet egy egész számokat tartalmazó listából.\n",
    "    függvény neve: random_from_list\n",
    "    bemenet: input_list\n",
    "    kimenetí típus: int\n",
    "\"\"\""
   ],
   "metadata": {
    "collapsed": false
   },
   "id": "c51741266de0cdad"
  },
  {
   "cell_type": "code",
   "execution_count": 32,
   "outputs": [
    {
     "name": "stdout",
     "output_type": "stream",
     "text": [
      "1\n"
     ]
    }
   ],
   "source": [
    "import random\n",
    "\n",
    "def random_from_list(input_list):\n",
    "    if len(input_list) == 0:\n",
    "        raise ValueError(\"Az input_list üres lista, nincs mit kiválasztani.\")\n",
    "\n",
    "    random_element = random.choice(input_list)\n",
    "    return random_element\n",
    "# Tesztelés\n",
    "szamok = list(range(1, 11))  # 1-től 10-ig terjedő számok listája\n",
    "veletlen_szam = random_from_list(szamok)\n",
    "print(veletlen_szam)"
   ],
   "metadata": {
    "collapsed": false,
    "ExecuteTime": {
     "end_time": "2023-09-24T17:40:25.997793900Z",
     "start_time": "2023-09-24T17:40:25.982171200Z"
    }
   },
   "id": "72b0c99ffa3612ba"
  },
  {
   "cell_type": "code",
   "execution_count": null,
   "outputs": [],
   "source": [
    "\"\"\"\n",
    "5., Készíts egy függvényt, ami visszaad egy n darab véletlen számot tartalmazó listát egy egész számokat tartalmazó bemenenti listából.\n",
    "    függvény neve: random_sublist_from_list\n",
    "    bemenet: input_list, number_of_elements\n",
    "    kimenetí típus: List\n",
    "\"\"\""
   ],
   "metadata": {
    "collapsed": false
   },
   "id": "3c3b117c6945d95e"
  },
  {
   "cell_type": "code",
   "execution_count": 70,
   "outputs": [
    {
     "name": "stdout",
     "output_type": "stream",
     "text": [
      "[99, 15, 83, 88, 35]\n"
     ]
    }
   ],
   "source": [
    "import random\n",
    "\n",
    "def random_sublist_from_list(input_list, number_of_elements):\n",
    "    if not input_list:\n",
    "        raise ValueError(\"Az input_list üres lista, nincs mit kiválasztani.\")\n",
    "    if number_of_elements <= 0:\n",
    "        raise ValueError(\"A number_of_elements értéke pozitív egész szám kell legyen.\")\n",
    "    if number_of_elements > len(input_list):\n",
    "        raise ValueError(\"number_of_elements nem lehet nagyobb, mint az input_list hossza.\")\n",
    "\n",
    "    random_sublist = random.sample(input_list, number_of_elements)\n",
    "    return random_sublist\n",
    "\n",
    "# Bemeneti lista: 1-től 100-ig véletlenszerűen kiválasztott 10 szám\n",
    "input_list = random.sample(range(1, 101), 10)\n",
    "number_of_elements = 5  # Példa: 5 véletlen számot szeretnénk kiválasztani\n",
    "veletlen_lista = random_sublist_from_list(input_list, number_of_elements)\n",
    "print(veletlen_lista)\n"
   ],
   "metadata": {
    "collapsed": false,
    "ExecuteTime": {
     "end_time": "2023-09-24T17:57:09.733486Z",
     "start_time": "2023-09-24T17:57:09.702119Z"
    }
   },
   "id": "ceac8cab2318777a"
  },
  {
   "cell_type": "code",
   "execution_count": 71,
   "outputs": [
    {
     "name": "stdout",
     "output_type": "stream",
     "text": [
      "[93, 34, 65]\n"
     ]
    }
   ],
   "source": [
    "import random\n",
    "\n",
    "def random_sublist_from_list(input_list, number_of_elements):\n",
    "    if not input_list:\n",
    "        raise ValueError(\"Az input_list üres lista, nincs mit kiválasztani.\")\n",
    "    if number_of_elements <= 0:\n",
    "        raise ValueError(\"A number_of_elements értéke pozitív egész szám kell legyen.\")\n",
    "\n",
    "    random_sublist = random.sample(input_list, number_of_elements)\n",
    "    return random_sublist\n",
    "\n",
    "my_list = list(range(1, 101))  # Az 1-től 100-ig terjedő számok listája\n",
    "quantity = 3\n",
    "print(random_sublist_from_list(my_list, quantity))\n"
   ],
   "metadata": {
    "collapsed": false,
    "ExecuteTime": {
     "end_time": "2023-09-24T18:01:24.261512200Z",
     "start_time": "2023-09-24T18:01:24.237514100Z"
    }
   },
   "id": "fe7a3b2e5edeb6da"
  },
  {
   "cell_type": "code",
   "execution_count": null,
   "outputs": [],
   "source": [
    "\"\"\"\n",
    "6., Készíts egy függvényt, ami visszaad egy véletlenül kiválasztott elemet egy string-ből.\n",
    "    függvény neve: random_from_string\n",
    "    bemenet: input_string\n",
    "    kimeneti típus: string\n",
    "\"\"\""
   ],
   "metadata": {
    "collapsed": false
   },
   "id": "ed010e62624fc66b"
  },
  {
   "cell_type": "code",
   "execution_count": 83,
   "outputs": [
    {
     "name": "stdout",
     "output_type": "stream",
     "text": [
      ",\n"
     ]
    }
   ],
   "source": [
    "import random\n",
    "\n",
    "def random_from_string(input_string):\n",
    "    if not input_string:\n",
    "        raise ValueError(\"Az input_string üres, nincs mit kiválasztani.\")\n",
    "\n",
    "    random_char = random.choice(input_string)\n",
    "    return random_char\n",
    "input_string = \"Hello, World!\"\n",
    "random_character = random_from_string(input_string)\n",
    "print(random_character)\n"
   ],
   "metadata": {
    "collapsed": false,
    "ExecuteTime": {
     "end_time": "2023-09-24T18:07:33.067801Z",
     "start_time": "2023-09-24T18:07:33.052180900Z"
    }
   },
   "id": "b80d5b96ab74845f"
  },
  {
   "cell_type": "code",
   "execution_count": null,
   "outputs": [],
   "source": [],
   "metadata": {
    "collapsed": false
   },
   "id": "83a9b80d30f40573"
  },
  {
   "cell_type": "code",
   "execution_count": null,
   "outputs": [],
   "source": [
    "'''\n",
    "7., Készíts egy függvényt, amely visszaad egy 100 elemű, 0 és 1 közötti véletlen számokat tartalmazó listát\n",
    "    függvény név: hundred_small_random\n",
    "    bemenet: None\n",
    "    kimeneti típus: List\n",
    "'''"
   ],
   "metadata": {
    "collapsed": false
   },
   "id": "a18853a36629971e"
  },
  {
   "cell_type": "code",
   "execution_count": 84,
   "outputs": [
    {
     "name": "stdout",
     "output_type": "stream",
     "text": [
      "[0, 0, 1, 1, 0, 0, 1, 1, 0, 0, 0, 0, 0, 1, 0, 0, 0, 1, 0, 1, 1, 0, 0, 1, 1, 1, 1, 1, 0, 0, 0, 0, 1, 0, 0, 0, 0, 0, 0, 0, 0, 0, 1, 0, 0, 1, 1, 0, 0, 1, 0, 1, 1, 0, 0, 0, 1, 1, 1, 1, 1, 0, 0, 0, 1, 1, 0, 0, 0, 0, 1, 0, 1, 0, 1, 1, 0, 0, 1, 0, 0, 0, 0, 0, 0, 1, 1, 1, 0, 1, 0, 0, 1, 0, 1, 1, 1, 1, 1, 1]\n"
     ]
    }
   ],
   "source": [
    "import random\n",
    "\n",
    "def hundred_small_random():\n",
    "    random_list = [random.randint(0, 1) for _ in range(100)]\n",
    "    return random_list\n",
    "random_numbers = hundred_small_random()\n",
    "print(random_numbers)\n"
   ],
   "metadata": {
    "collapsed": false,
    "ExecuteTime": {
     "end_time": "2023-09-24T18:08:30.707799400Z",
     "start_time": "2023-09-24T18:08:30.660837600Z"
    }
   },
   "id": "7dbab89507762f1c"
  },
  {
   "cell_type": "code",
   "execution_count": null,
   "outputs": [],
   "source": [
    "\"\"\"\n",
    "8., Készíts egy függvényt, amely visszaad egy 100 elemű, 10 és 1000 közötti véletlen számokat tartalmazó listát\n",
    "    függvény név: hundred_large_random\n",
    "    bemenet: None\n",
    "    kimeneti típus: List\n",
    "\"\"\""
   ],
   "metadata": {
    "collapsed": false
   },
   "id": "bc12cbcfce92f383"
  },
  {
   "cell_type": "code",
   "execution_count": 85,
   "outputs": [
    {
     "name": "stdout",
     "output_type": "stream",
     "text": [
      "[168, 204, 313, 232, 69, 603, 763, 565, 72, 775, 331, 68, 61, 608, 498, 524, 951, 883, 553, 171, 68, 993, 530, 92, 881, 200, 80, 619, 79, 701, 892, 250, 423, 132, 974, 921, 593, 262, 602, 618, 50, 644, 93, 439, 683, 607, 588, 545, 333, 967, 277, 219, 695, 743, 331, 254, 281, 415, 144, 697, 670, 317, 478, 333, 961, 779, 968, 84, 19, 479, 646, 586, 112, 85, 560, 228, 528, 281, 145, 965, 367, 912, 80, 910, 260, 388, 301, 171, 458, 863, 566, 730, 319, 636, 836, 679, 551, 18, 693, 846]\n"
     ]
    }
   ],
   "source": [
    "import random\n",
    "\n",
    "def hundred_large_random():\n",
    "    random_list = [random.randint(10, 1000) for _ in range(100)]\n",
    "    return random_list\n",
    "random_numbers = hundred_large_random()\n",
    "print(random_numbers)\n"
   ],
   "metadata": {
    "collapsed": false,
    "ExecuteTime": {
     "end_time": "2023-09-24T18:09:31.366381Z",
     "start_time": "2023-09-24T18:09:31.350754500Z"
    }
   },
   "id": "586792b8f8ecd642"
  },
  {
   "cell_type": "code",
   "execution_count": null,
   "outputs": [],
   "source": [],
   "metadata": {
    "collapsed": false
   },
   "id": "fd4a6333ae377e15"
  },
  {
   "cell_type": "code",
   "execution_count": null,
   "outputs": [],
   "source": [
    "\"\"\"\n",
    "9., Készíts egy függvényt, amely visszaad 5 elemű, 9 és 1000 közötti, 3-al osztható egész számokat tartalmazó listát\n",
    "    függvény név: five_random_number_div_three\n",
    "    bemenet: None\n",
    "    kimeneti típus: List\n",
    "\n",
    "\"\"\""
   ],
   "metadata": {
    "collapsed": false
   },
   "id": "ce1496d7f237ab67"
  },
  {
   "cell_type": "code",
   "execution_count": 86,
   "outputs": [
    {
     "name": "stdout",
     "output_type": "stream",
     "text": [
      "[576, 315, 963]\n"
     ]
    }
   ],
   "source": [
    "import random\n",
    "\n",
    "def five_random_number_div_three():\n",
    "    random_list = [random.randint(9, 1000) for _ in range(5)]\n",
    "    random_list = [x for x in random_list if x % 3 == 0]\n",
    "    return random_list\n",
    "random_numbers = five_random_number_div_three()\n",
    "print(random_numbers)\n"
   ],
   "metadata": {
    "collapsed": false,
    "ExecuteTime": {
     "end_time": "2023-09-24T18:10:45.650160500Z",
     "start_time": "2023-09-24T18:10:45.634440700Z"
    }
   },
   "id": "c9e3d1b8fe71de27"
  },
  {
   "cell_type": "code",
   "execution_count": null,
   "outputs": [],
   "source": [],
   "metadata": {
    "collapsed": false
   },
   "id": "7f9d89c8ddc6ce59"
  },
  {
   "cell_type": "code",
   "execution_count": null,
   "outputs": [],
   "source": [
    "\"\"\"\n",
    "10., Készíts egy függvényt amely a bemeneti lista elemeit véletlenszerűen összekeveri\n",
    "    függvény név: random_reorder\n",
    "    bemenet: input_list\n",
    "    kimeneti típus: List\n",
    "\"\"\""
   ],
   "metadata": {
    "collapsed": false
   },
   "id": "6ad21e9a5d93bbfb"
  },
  {
   "cell_type": "code",
   "execution_count": 87,
   "outputs": [
    {
     "name": "stdout",
     "output_type": "stream",
     "text": [
      "[2, 3, 1, 4, 5]\n"
     ]
    }
   ],
   "source": [
    "import random\n",
    "\n",
    "def random_reorder(input_list):\n",
    "    if not input_list:\n",
    "        return []  # Üres bemeneti lista esetén visszaadunk egy üres listát\n",
    "\n",
    "    shuffled_list = random.sample(input_list, len(input_list))\n",
    "    return shuffled_list\n",
    "input_list = [1, 2, 3, 4, 5]\n",
    "shuffled_list = random_reorder(input_list)\n",
    "print(shuffled_list)\n"
   ],
   "metadata": {
    "collapsed": false,
    "ExecuteTime": {
     "end_time": "2023-09-24T18:11:41.088962400Z",
     "start_time": "2023-09-24T18:11:41.024331600Z"
    }
   },
   "id": "6f0329d3744fca49"
  },
  {
   "cell_type": "code",
   "execution_count": null,
   "outputs": [],
   "source": [
    "\"\"\"\n",
    "11., Készíts egy függvényt, amely 1 és 5 közötti egyenletes eloszlású valós véletlen számot ad vissza minden meghívás esetén.\n",
    "    függvény név: uniform_one_to_five\n",
    "    bemenet: None\n",
    "    kimeneti típus: float\n",
    "\"\"\""
   ],
   "metadata": {
    "collapsed": false
   },
   "id": "b346c5d2a2c56fb4"
  },
  {
   "cell_type": "code",
   "execution_count": 88,
   "outputs": [
    {
     "name": "stdout",
     "output_type": "stream",
     "text": [
      "2.0893928492592653\n"
     ]
    }
   ],
   "source": [
    "import random\n",
    "\n",
    "def uniform_one_to_five():\n",
    "    return random.uniform(1, 5)\n",
    "random_number = uniform_one_to_five()\n",
    "print(random_number)\n"
   ],
   "metadata": {
    "collapsed": false,
    "ExecuteTime": {
     "end_time": "2023-09-24T18:14:21.058232500Z",
     "start_time": "2023-09-24T18:14:21.026875700Z"
    }
   },
   "id": "67c7bbf849747c09"
  },
  {
   "cell_type": "markdown",
   "source": [
    "### Az eloszlásokkal kapcsolatos feladatok megoldását mentse src/utils modul-ba a distributions.py nevű fájlba"
   ],
   "metadata": {
    "collapsed": false
   },
   "id": "e1a6639d7cd229b"
  },
  {
   "cell_type": "markdown",
   "source": [
    "#### II. Eloszlások"
   ],
   "metadata": {
    "collapsed": false
   },
   "id": "5591376fe0ff73b3"
  },
  {
   "cell_type": "code",
   "execution_count": null,
   "outputs": [],
   "source": [
    "\"\"\"\n",
    "1., Hozz létre egy új osztályt, aminek a neve FirstClass\n",
    "    osztály név: FirstClass\n",
    "\"\"\""
   ],
   "metadata": {
    "collapsed": false
   },
   "id": "664df0ef9ac68a9f"
  },
  {
   "cell_type": "code",
   "execution_count": 89,
   "outputs": [],
   "source": [
    "class FirstClass:\n",
    "    pass"
   ],
   "metadata": {
    "collapsed": false,
    "ExecuteTime": {
     "end_time": "2023-09-24T18:20:24.097497400Z",
     "start_time": "2023-09-24T18:20:24.059576500Z"
    }
   },
   "id": "6ba402a8cb789e1"
  },
  {
   "cell_type": "code",
   "execution_count": null,
   "outputs": [],
   "source": [
    "\"\"\"\n",
    "2., Hozz létre egy új osztályt, aminek a neve SecondClass, és definiáljon benne egy __init__ nevű függvényt, amely bead egy véletlenszám generátort a self.random adattagnak.\n",
    "    Osztály név: SecondClass\n",
    "    függvény név: __init__\n",
    "    bemenet: self, rand\n",
    "\"\"\""
   ],
   "metadata": {
    "collapsed": false
   },
   "id": "e34dccb1f71b37cd"
  },
  {
   "cell_type": "code",
   "execution_count": 92,
   "outputs": [
    {
     "name": "stdout",
     "output_type": "stream",
     "text": [
      "7\n"
     ]
    }
   ],
   "source": [
    "import random\n",
    "\n",
    "class SecondClass:\n",
    "    def __init__(self, rand):\n",
    "        self.random = rand\n",
    "\n",
    "# Példa használat\n",
    "random_generator = random.Random()\n",
    "second_instance = SecondClass(random_generator)\n",
    "\n",
    "# Ellenőrzés, hogy a random attribútum rendelkezésre áll\n",
    "print(second_instance.random.randint(1, 10))"
   ],
   "metadata": {
    "collapsed": false,
    "ExecuteTime": {
     "end_time": "2023-09-24T18:53:13.742279800Z",
     "start_time": "2023-09-24T18:53:13.726553700Z"
    }
   },
   "id": "3ee80f24a29d2303"
  },
  {
   "cell_type": "code",
   "execution_count": null,
   "outputs": [],
   "source": [
    "\"\"\"\n",
    "3., Hozzan létre egy új osztályt aminek a neve UniformDistribution. Definiáljon benne a __init__ nevű függvényt, amelynek bemenetként kap egy véletlenszám generátort, és az eloszlás alsó (a) és felső határát (b), amely értékeket adattagokba ment le.\n",
    "    Osztály név: UniformDistribution\n",
    "    függvény név: __init__\n",
    "    bemenet: self, rand, a, b\n",
    "\"\"\""
   ],
   "metadata": {
    "collapsed": false
   },
   "id": "56451accf00c5828"
  },
  {
   "cell_type": "code",
   "execution_count": 93,
   "outputs": [
    {
     "name": "stdout",
     "output_type": "stream",
     "text": [
      "Alsó határ: 0\n",
      "Felső határ: 10\n",
      "Véletlenszerű érték: 6.3020929489499435\n"
     ]
    }
   ],
   "source": [
    "import random\n",
    "\n",
    "class UniformDistribution:\n",
    "    def __init__(self, rand, a, b):\n",
    "        self.random_generator = rand\n",
    "        self.lower_limit = a\n",
    "        self.upper_limit = b\n",
    "\n",
    "# Példa használat\n",
    "random_generator = random.Random()\n",
    "uniform_dist = UniformDistribution(random_generator, 0, 10)\n",
    "\n",
    "# Ellenőrzés, hogy az adattagok rendelkezésre állnak\n",
    "print(f\"Alsó határ: {uniform_dist.lower_limit}\")\n",
    "print(f\"Felső határ: {uniform_dist.upper_limit}\")\n",
    "print(f\"Véletlenszerű érték: {uniform_dist.random_generator.uniform(uniform_dist.lower_limit, uniform_dist.upper_limit)}\")"
   ],
   "metadata": {
    "collapsed": false,
    "ExecuteTime": {
     "end_time": "2023-09-24T18:53:56.606354400Z",
     "start_time": "2023-09-24T18:53:56.503083200Z"
    }
   },
   "id": "ecdef9a2c1fbd77b"
  },
  {
   "cell_type": "code",
   "execution_count": null,
   "outputs": [],
   "source": [
    "\"\"\"\n",
    "\n",
    "4., Egészítse ki a UniformDistribution osztályt egy új függvénnyel, amely a és b pont közötti értékekhez a hozzájuk tartozó egyenletes eloszlás, eloszlás függvényében hozzárendelt értékét rendeli.\n",
    "    függvény név: pdf\n",
    "    bemenet: x\n",
    "    kimeneti típus: float\n",
    "    link: https://en.wikipedia.org/wiki/Continuous_uniform_distribution\n",
    "\"\"\""
   ],
   "metadata": {
    "collapsed": false
   },
   "id": "f0b46badc2ff0c0e"
  },
  {
   "cell_type": "code",
   "execution_count": 94,
   "outputs": [
    {
     "name": "stdout",
     "output_type": "stream",
     "text": [
      "P(5) = 0.1\n"
     ]
    }
   ],
   "source": [
    "import random\n",
    "\n",
    "class UniformDistribution:\n",
    "    def __init__(self, rand, a, b):\n",
    "        self.random_generator = rand\n",
    "        self.lower_limit = a\n",
    "        self.upper_limit = b\n",
    "\n",
    "    def pdf(self, x):\n",
    "        if self.lower_limit <= x <= self.upper_limit:\n",
    "            return 1.0 / (self.upper_limit - self.lower_limit)\n",
    "        else:\n",
    "            return 0.0\n",
    "\n",
    "# Példa használat\n",
    "random_generator = random.Random()\n",
    "uniform_dist = UniformDistribution(random_generator, 0, 10)\n",
    "\n",
    "# Ellenőrzés, hogy a pdf metódus működik\n",
    "x = 5\n",
    "probability_density = uniform_dist.pdf(x)\n",
    "print(f\"P({x}) = {probability_density}\")\n"
   ],
   "metadata": {
    "collapsed": false,
    "ExecuteTime": {
     "end_time": "2023-09-24T18:54:33.892834100Z",
     "start_time": "2023-09-24T18:54:33.814621100Z"
    }
   },
   "id": "40d5a9bd89f2e0a6"
  },
  {
   "cell_type": "code",
   "execution_count": null,
   "outputs": [],
   "source": [
    "\"\"\"\n",
    "5., Egészítse ki a UniformDistribution osztályt egy új függvénnyel, amely megvalósítja az egyenletes eloszlás kumulatív eloszlás függvényét.\n",
    "    függvény név: cdf\n",
    "    bemenet: x\n",
    "    kimeneti típus: float\n",
    "    link: https://en.wikipedia.org/wiki/Continuous_uniform_distribution\n",
    "\"\"\""
   ],
   "metadata": {
    "collapsed": false
   },
   "id": "938a30a87d954c1"
  },
  {
   "cell_type": "code",
   "execution_count": 95,
   "outputs": [
    {
     "name": "stdout",
     "output_type": "stream",
     "text": [
      "CDF(7) = 0.7\n"
     ]
    }
   ],
   "source": [
    "import random\n",
    "\n",
    "class UniformDistribution:\n",
    "    def __init__(self, rand, a, b):\n",
    "        self.random_generator = rand\n",
    "        self.lower_limit = a\n",
    "        self.upper_limit = b\n",
    "\n",
    "    def pdf(self, x):\n",
    "        if self.lower_limit <= x <= self.upper_limit:\n",
    "            return 1.0 / (self.upper_limit - self.lower_limit)\n",
    "        else:\n",
    "            return 0.0\n",
    "\n",
    "    def cdf(self, x):\n",
    "        if x < self.lower_limit:\n",
    "            return 0.0\n",
    "        elif x >= self.upper_limit:\n",
    "            return 1.0\n",
    "        else:\n",
    "            return (x - self.lower_limit) / (self.upper_limit - self.lower_limit)\n",
    "\n",
    "# Példa használat\n",
    "random_generator = random.Random()\n",
    "uniform_dist = UniformDistribution(random_generator, 0, 10)\n",
    "\n",
    "# Ellenőrzés, hogy a cdf metódus működik\n",
    "x = 7\n",
    "cumulative_distribution = uniform_dist.cdf(x)\n",
    "print(f\"CDF({x}) = {cumulative_distribution}\")\n"
   ],
   "metadata": {
    "collapsed": false,
    "ExecuteTime": {
     "end_time": "2023-09-24T18:55:25.402259400Z",
     "start_time": "2023-09-24T18:55:25.355891900Z"
    }
   },
   "id": "6ab5ddf2e29434a0"
  },
  {
   "cell_type": "code",
   "execution_count": null,
   "outputs": [],
   "source": [
    "\"\"\"\n",
    "6., Egészítse ki a UniformDistribution osztályt egy új függvénnyel, amely implementálja az egyenletes eloszlás inverz kumulatív eloszlás függvényét. (percent-point function)\n",
    "    függvény név: ppf\n",
    "    bemenet: p\n",
    "    kimeneti típus: float\n",
    "    link: https://en.wikipedia.org/wiki/Continuous_uniform_distribution\n",
    "\"\"\""
   ],
   "metadata": {
    "collapsed": false
   },
   "id": "f5bbfcf49d262b4b"
  },
  {
   "cell_type": "code",
   "execution_count": 96,
   "outputs": [
    {
     "name": "stdout",
     "output_type": "stream",
     "text": [
      "PPF(0.3) = 3.0\n"
     ]
    }
   ],
   "source": [
    "import random\n",
    "\n",
    "class UniformDistribution:\n",
    "    def __init__(self, rand, a, b):\n",
    "        self.random_generator = rand\n",
    "        self.lower_limit = a\n",
    "        self.upper_limit = b\n",
    "\n",
    "    def pdf(self, x):\n",
    "        if self.lower_limit <= x <= self.upper_limit:\n",
    "            return 1.0 / (self.upper_limit - self.lower_limit)\n",
    "        else:\n",
    "            return 0.0\n",
    "\n",
    "    def cdf(self, x):\n",
    "        if x < self.lower_limit:\n",
    "            return 0.0\n",
    "        elif x >= self.upper_limit:\n",
    "            return 1.0\n",
    "        else:\n",
    "            return (x - self.lower_limit) / (self.upper_limit - self.lower_limit)\n",
    "\n",
    "    def ppf(self, p):\n",
    "        if 0 <= p <= 1:\n",
    "            return self.lower_limit + p * (self.upper_limit - self.lower_limit)\n",
    "        else:\n",
    "            raise ValueError(\"Az 'p' értéke 0 és 1 között kell legyen.\")\n",
    "\n",
    "# Példa használat\n",
    "random_generator = random.Random()\n",
    "uniform_dist = UniformDistribution(random_generator, 0, 10)\n",
    "\n",
    "# Ellenőrzés, hogy a ppf metódus működik\n",
    "probability = 0.3\n",
    "percent_point = uniform_dist.ppf(probability)\n",
    "print(f\"PPF({probability}) = {percent_point}\")\n"
   ],
   "metadata": {
    "collapsed": false,
    "ExecuteTime": {
     "end_time": "2023-09-24T18:55:39.441605700Z",
     "start_time": "2023-09-24T18:55:39.379011700Z"
    }
   },
   "id": "8f4fe73a2c0b5392"
  },
  {
   "cell_type": "code",
   "execution_count": null,
   "outputs": [],
   "source": [
    "\"\"\"\n",
    "7., Egészítse ki a UniformDistribution osztályt egy új függvénnyel, amely az osztály létrehozásánál megadott paraméterek mellett, egyenletes eloszlású véletlen számokat generál minden meghívásnál.\n",
    "    függvény név: gen_random\n",
    "    bemenet: None\n",
    "    kimeneti típus: float\n",
    "    link: https://en.wikipedia.org/wiki/Continuous_uniform_distribution\n",
    "\n",
    "\"\"\""
   ],
   "metadata": {
    "collapsed": false
   },
   "id": "1b2f9cc1f38af333"
  },
  {
   "cell_type": "code",
   "execution_count": 106,
   "outputs": [
    {
     "name": "stdout",
     "output_type": "stream",
     "text": [
      "Véletlenszerű érték: 8.433558759054318\n"
     ]
    }
   ],
   "source": [
    "import random\n",
    "\n",
    "class UniformDistribution:\n",
    "    def __init__(self, rand, a, b):\n",
    "        self.random_generator = rand\n",
    "        self.lower_limit = a\n",
    "        self.upper_limit = b\n",
    "\n",
    "    def pdf(self, x):\n",
    "        if self.lower_limit <= x <= self.upper_limit:\n",
    "            return 1.0 / (self.upper_limit - self.lower_limit)\n",
    "        else:\n",
    "            return 0.0\n",
    "\n",
    "    def cdf(self, x):\n",
    "        if x < self.lower_limit:\n",
    "            return 0.0\n",
    "        elif x >= self.upper_limit:\n",
    "            return 1.0\n",
    "        else:\n",
    "            return (x - self.lower_limit) / (self.upper_limit - self.lower_limit)\n",
    "\n",
    "    def ppf(self, p):\n",
    "        if 0 <= p <= 1:\n",
    "            return self.lower_limit + p * (self.upper_limit - self.lower_limit)\n",
    "        else:\n",
    "            raise ValueError(\"Az 'p' értéke 0 és 1 között kell legyen.\")\n",
    "\n",
    "    def mean(self):\n",
    "        if self.lower_limit == self.upper_limit:\n",
    "            raise Exception(\"Moment undefined\")\n",
    "        return (self.lower_limit + self.upper_limit) / 2.0\n",
    "\n",
    "    def gen_random(self):\n",
    "        return self.random_generator.uniform(self.lower_limit, self.upper_limit)\n",
    "\n",
    "# Példa használat\n",
    "random_generator = random.Random()\n",
    "uniform_dist = UniformDistribution(random_generator, 0, 10)\n",
    "\n",
    "# Véletlenszerű szám generálása az osztály paraméterei alapján\n",
    "random_value = uniform_dist.gen_random()\n",
    "print(f\"Véletlenszerű érték: {random_value}\")\n"
   ],
   "metadata": {
    "collapsed": false,
    "ExecuteTime": {
     "end_time": "2023-09-24T18:58:13.877142500Z",
     "start_time": "2023-09-24T18:58:13.823756500Z"
    }
   },
   "id": "bd31a67473d59e12"
  },
  {
   "cell_type": "code",
   "execution_count": null,
   "outputs": [],
   "source": [
    "\"\"\"\n",
    "8., Egészítse ki a UniformDistribution osztályt egy új függvénnyel, amely visszaadja az eloszlás függvény átlagát.  Ha az eloszlásnak nincsen ilyen értéke, akkor return helyett hívja meg a raise Exception(\"Moment undefined\") parancsot.\n",
    "    függvény név: mean\n",
    "    bemenet: None\n",
    "    kimeneti típus: float\n",
    "    link: https://en.wikipedia.org/wiki/Continuous_uniform_distribution\n",
    "\"\"\""
   ],
   "metadata": {
    "collapsed": false
   },
   "id": "8a456b6dc3abf2e8"
  },
  {
   "cell_type": "code",
   "execution_count": 98,
   "outputs": [
    {
     "name": "stdout",
     "output_type": "stream",
     "text": [
      "Az eloszlás átlaga: 5.0\n"
     ]
    }
   ],
   "source": [
    "import random\n",
    "\n",
    "class UniformDistribution:\n",
    "    def __init__(self, rand, a, b):\n",
    "        self.random_generator = rand\n",
    "        self.lower_limit = a\n",
    "        self.upper_limit = b\n",
    "\n",
    "    def pdf(self, x):\n",
    "        if self.lower_limit <= x <= self.upper_limit:\n",
    "            return 1.0 / (self.upper_limit - self.lower_limit)\n",
    "        else:\n",
    "            return 0.0\n",
    "\n",
    "    def cdf(self, x):\n",
    "        if x < self.lower_limit:\n",
    "            return 0.0\n",
    "        elif x >= self.upper_limit:\n",
    "            return 1.0\n",
    "        else:\n",
    "            return (x - self.lower_limit) / (self.upper_limit - self.lower_limit)\n",
    "\n",
    "    def ppf(self, p):\n",
    "        if 0 <= p <= 1:\n",
    "            return self.lower_limit + p * (self.upper_limit - self.lower_limit)\n",
    "        else:\n",
    "            raise ValueError(\"Az 'p' értéke 0 és 1 között kell legyen.\")\n",
    "\n",
    "    def gen_random(self):\n",
    "        return self.random_generator.uniform(self.lower_limit, self.upper_limit)\n",
    "\n",
    "    def mean(self):\n",
    "        if self.lower_limit == self.upper_limit:\n",
    "            raise Exception(\"Moment undefined\")\n",
    "        return (self.lower_limit + self.upper_limit) / 2.0\n",
    "\n",
    "# Példa használat\n",
    "random_generator = random.Random()\n",
    "uniform_dist = UniformDistribution(random_generator, 0, 10)\n",
    "\n",
    "# Átlag meghívása\n",
    "try:\n",
    "    mean_value = uniform_dist.mean()\n",
    "    print(f\"Az eloszlás átlaga: {mean_value}\")\n",
    "except Exception as e:\n",
    "    print(str(e))\n"
   ],
   "metadata": {
    "collapsed": false,
    "ExecuteTime": {
     "end_time": "2023-09-24T18:57:01.245390500Z",
     "start_time": "2023-09-24T18:57:01.207435300Z"
    }
   },
   "id": "f123de2e6ee0599"
  },
  {
   "cell_type": "code",
   "execution_count": null,
   "outputs": [],
   "source": [
    "\"\"\"\n",
    "9., Egészítse ki a UniformDistribution osztályt egy új függvénnyel, amely visszaadja az eloszlás függvény mediánját.\n",
    "    függvény név: median\n",
    "    bemenet: None\n",
    "    kimeneti típus: float\n",
    "    link: https://en.wikipedia.org/wiki/Continuous_uniform_distribution\n",
    "\"\"\""
   ],
   "metadata": {
    "collapsed": false
   },
   "id": "e811c218843ce48d"
  },
  {
   "cell_type": "code",
   "execution_count": 107,
   "outputs": [
    {
     "name": "stdout",
     "output_type": "stream",
     "text": [
      "Az eloszlás mediánja: 5.0\n"
     ]
    }
   ],
   "source": [
    "import random\n",
    "\n",
    "class UniformDistribution:\n",
    "    def __init__(self, rand, a, b):\n",
    "        self.random_generator = rand\n",
    "        self.lower_limit = a\n",
    "        self.upper_limit = b\n",
    "\n",
    "    def pdf(self, x):\n",
    "        if self.lower_limit <= x <= self.upper_limit:\n",
    "            return 1.0 / (self.upper_limit - self.lower_limit)\n",
    "        else:\n",
    "            return 0.0\n",
    "\n",
    "    def cdf(self, x):\n",
    "        if x < self.lower_limit:\n",
    "            return 0.0\n",
    "        elif x >= self.upper_limit:\n",
    "            return 1.0\n",
    "        else:\n",
    "            return (x - self.lower_limit) / (self.upper_limit - self.lower_limit)\n",
    "\n",
    "    def ppf(self, p):\n",
    "        if 0 <= p <= 1:\n",
    "            return self.lower_limit + p * (self.upper_limit - self.lower_limit)\n",
    "        else:\n",
    "            raise ValueError(\"Az 'p' értéke 0 és 1 között kell legyen.\")\n",
    "\n",
    "    def mean(self):\n",
    "        if self.lower_limit == self.upper_limit:\n",
    "            raise Exception(\"Moment undefined\")\n",
    "        return (self.lower_limit + self.upper_limit) / 2.0\n",
    "\n",
    "    def gen_random(self):\n",
    "        return self.random_generator.uniform(self.lower_limit, self.upper_limit)\n",
    "\n",
    "    def median(self):\n",
    "        return (self.lower_limit + self.upper_limit) / 2.0\n",
    "\n",
    "# Példa használat\n",
    "random_generator = random.Random()\n",
    "uniform_dist = UniformDistribution(random_generator, 0, 10)\n",
    "\n",
    "# Medián meghívása\n",
    "median_value = uniform_dist.median()\n",
    "print(f\"Az eloszlás mediánja: {median_value}\")\n"
   ],
   "metadata": {
    "collapsed": false,
    "ExecuteTime": {
     "end_time": "2023-09-24T18:58:54.381962100Z",
     "start_time": "2023-09-24T18:58:54.303848300Z"
    }
   },
   "id": "a32700c9849e57eb"
  },
  {
   "cell_type": "code",
   "execution_count": null,
   "outputs": [],
   "source": [
    "\"\"\"\n",
    "10., Egészítse ki a UniformDistribution osztályt egy új függvénnyel, amely visszaadja az eloszlás függvény varianciáját.  Ha az eloszlásnak nincsen ilyen értéke, akkor return helyett hívja meg a raise Exception(\"Moment undefined\") parancsot.\n",
    "    függvény név: variance\n",
    "    bemenet: None\n",
    "    kimeneti típus: float\n",
    "    link: https://en.wikipedia.org/wiki/Continuous_uniform_distribution\n",
    "\"\"\""
   ],
   "metadata": {
    "collapsed": false
   },
   "id": "b98421165bcd55b8"
  },
  {
   "cell_type": "code",
   "execution_count": 108,
   "outputs": [
    {
     "name": "stdout",
     "output_type": "stream",
     "text": [
      "Az eloszlás varianciája: 8.333333333333334\n"
     ]
    }
   ],
   "source": [
    "import random\n",
    "\n",
    "class UniformDistribution:\n",
    "    def __init__(self, rand, a, b):\n",
    "        self.random_generator = rand\n",
    "        self.lower_limit = a\n",
    "        self.upper_limit = b\n",
    "\n",
    "    def pdf(self, x):\n",
    "        if self.lower_limit <= x <= self.upper_limit:\n",
    "            return 1.0 / (self.upper_limit - self.lower_limit)\n",
    "        else:\n",
    "            return 0.0\n",
    "\n",
    "    def cdf(self, x):\n",
    "        if x < self.lower_limit:\n",
    "            return 0.0\n",
    "        elif x >= self.upper_limit:\n",
    "            return 1.0\n",
    "        else:\n",
    "            return (x - self.lower_limit) / (self.upper_limit - self.lower_limit)\n",
    "\n",
    "    def ppf(self, p):\n",
    "        if 0 <= p <= 1:\n",
    "            return self.lower_limit + p * (self.upper_limit - self.lower_limit)\n",
    "        else:\n",
    "            raise ValueError(\"Az 'p' értéke 0 és 1 között kell legyen.\")\n",
    "\n",
    "    def mean(self):\n",
    "        if self.lower_limit == self.upper_limit:\n",
    "            raise Exception(\"Moment undefined\")\n",
    "        return (self.lower_limit + self.upper_limit) / 2.0\n",
    "\n",
    "    def gen_random(self):\n",
    "        return self.random_generator.uniform(self.lower_limit, self.upper_limit)\n",
    "\n",
    "    def variance(self):\n",
    "        if self.lower_limit == self.upper_limit:\n",
    "            raise Exception(\"Moment undefined\")\n",
    "        return ((self.upper_limit - self.lower_limit) ** 2) / 12.0\n",
    "\n",
    "# Példa használat\n",
    "random_generator = random.Random()\n",
    "uniform_dist = UniformDistribution(random_generator, 0, 10)\n",
    "\n",
    "# Variancia meghívása\n",
    "variance_value = uniform_dist.variance()\n",
    "print(f\"Az eloszlás varianciája: {variance_value}\")\n"
   ],
   "metadata": {
    "collapsed": false,
    "ExecuteTime": {
     "end_time": "2023-09-24T18:59:14.676911200Z",
     "start_time": "2023-09-24T18:59:14.661282100Z"
    }
   },
   "id": "296b818692f73e06"
  },
  {
   "cell_type": "code",
   "execution_count": null,
   "outputs": [],
   "source": [
    "\"\"\"\n",
    "11., Egészítse ki a UniformDistribution osztályt egy új függvénnyel, amely visszaadja az eloszlás függvény ferdeségét.  Ha az eloszlásnak nincsen ilyen értéke, akkor return helyett hívja meg a raise Exception(\"Moment undefined\") parancsot.\n",
    "    függvény név: skewness\n",
    "    bemenet: None\n",
    "    kimeneti típus: float\n",
    "    link: https://en.wikipedia.org/wiki/Continuous_uniform_distribution\n",
    "\"\"\""
   ],
   "metadata": {
    "collapsed": false
   },
   "id": "781147a2b9ee8cf7"
  },
  {
   "cell_type": "code",
   "execution_count": 109,
   "outputs": [
    {
     "name": "stdout",
     "output_type": "stream",
     "text": [
      "Moment undefined\n"
     ]
    }
   ],
   "source": [
    "import random\n",
    "\n",
    "class UniformDistribution:\n",
    "    def __init__(self, rand, a, b):\n",
    "        self.random_generator = rand\n",
    "        self.lower_limit = a\n",
    "        self.upper_limit = b\n",
    "\n",
    "    def pdf(self, x):\n",
    "        if self.lower_limit <= x <= self.upper_limit:\n",
    "            return 1.0 / (self.upper_limit - self.lower_limit)\n",
    "        else:\n",
    "            return 0.0\n",
    "\n",
    "    def cdf(self, x):\n",
    "        if x < self.lower_limit:\n",
    "            return 0.0\n",
    "        elif x >= self.upper_limit:\n",
    "            return 1.0\n",
    "        else:\n",
    "            return (x - self.lower_limit) / (self.upper_limit - self.lower_limit)\n",
    "\n",
    "    def ppf(self, p):\n",
    "        if 0 <= p <= 1:\n",
    "            return self.lower_limit + p * (self.upper_limit - self.lower_limit)\n",
    "        else:\n",
    "            raise ValueError(\"Az 'p' értéke 0 és 1 között kell legyen.\")\n",
    "\n",
    "    def mean(self):\n",
    "        if self.lower_limit == self.upper_limit:\n",
    "            raise Exception(\"Moment undefined\")\n",
    "        return (self.lower_limit + self.upper_limit) / 2.0\n",
    "\n",
    "    def gen_random(self):\n",
    "        return self.random_generator.uniform(self.lower_limit, self.upper_limit)\n",
    "\n",
    "    def variance(self):\n",
    "        if self.lower_limit == self.upper_limit:\n",
    "            raise Exception(\"Moment undefined\")\n",
    "        return ((self.upper_limit - self.lower_limit) ** 2) / 12.0\n",
    "\n",
    "    def skewness(self):\n",
    "        raise Exception(\"Moment undefined\")\n",
    "\n",
    "# Példa használat\n",
    "random_generator = random.Random()\n",
    "uniform_dist = UniformDistribution(random_generator, 0, 10)\n",
    "\n",
    "# Ferdeség meghívása\n",
    "try:\n",
    "    skewness_value = uniform_dist.skewness()\n",
    "    print(f\"Az eloszlás ferdesége: {skewness_value}\")\n",
    "except Exception as e:\n",
    "    print(str(e))\n"
   ],
   "metadata": {
    "collapsed": false,
    "ExecuteTime": {
     "end_time": "2023-09-24T18:59:36.410864300Z",
     "start_time": "2023-09-24T18:59:36.302945600Z"
    }
   },
   "id": "46beba9b937f3666"
  },
  {
   "cell_type": "code",
   "execution_count": null,
   "outputs": [],
   "source": [
    "\"\"\"\n",
    "12., Egészítse ki a UniformDistribution osztályt egy új függvénnyel, amely visszaadja az eloszlás függvény többlet csúcsosságát.  Ha az eloszlásnak nincsen ilyen értéke, akkor return helyett hívja meg a raise Exception(\"Moment undefined\") parancsot.\n",
    "    függvény név: ex_kurtosis\n",
    "    bemenet: None\n",
    "    kimeneti típus: float\n",
    "    link: https://en.wikipedia.org/wiki/Continuous_uniform_distribution\n",
    "\"\"\""
   ],
   "metadata": {
    "collapsed": false
   },
   "id": "578b8beab4cc76de"
  },
  {
   "cell_type": "code",
   "execution_count": 111,
   "outputs": [
    {
     "name": "stdout",
     "output_type": "stream",
     "text": [
      "Moment undefined\n"
     ]
    }
   ],
   "source": [
    "import random\n",
    "\n",
    "class UniformDistribution:\n",
    "    def __init__(self, rand, a, b):\n",
    "        self.random_generator = rand\n",
    "        self.lower_limit = a\n",
    "        self.upper_limit = b\n",
    "\n",
    "    def pdf(self, x):\n",
    "        if self.lower_limit <= x <= self.upper_limit:\n",
    "            return 1.0 / (self.upper_limit - self.lower_limit)\n",
    "        else:\n",
    "            return 0.0\n",
    "\n",
    "    def cdf(self, x):\n",
    "        if x < self.lower_limit:\n",
    "            return 0.0\n",
    "        elif x >= self.upper_limit:\n",
    "            return 1.0\n",
    "        else:\n",
    "            return (x - self.lower_limit) / (self.upper_limit - self.lower_limit)\n",
    "\n",
    "    def ppf(self, p):\n",
    "        if 0 <= p <= 1:\n",
    "            return self.lower_limit + p * (self.upper_limit - self.lower_limit)\n",
    "        else:\n",
    "            raise ValueError(\"Az 'p' értéke 0 és 1 között kell legyen.\")\n",
    "\n",
    "    def mean(self):\n",
    "        if self.lower_limit == self.upper_limit:\n",
    "            raise Exception(\"Moment undefined\")\n",
    "        return (self.lower_limit + self.upper_limit) / 2.0\n",
    "\n",
    "    def gen_random(self):\n",
    "        return self.random_generator.uniform(self.lower_limit, self.upper_limit)\n",
    "\n",
    "    def variance(self):\n",
    "        if self.lower_limit == self.upper_limit:\n",
    "            raise Exception(\"Moment undefined\")\n",
    "        return ((self.upper_limit - self.lower_limit) ** 2) / 12.0\n",
    "\n",
    "    def skewness(self):\n",
    "        raise Exception(\"Moment undefined\")\n",
    "\n",
    "    def ex_kurtosis(self):\n",
    "        raise Exception(\"Moment undefined\")\n",
    "\n",
    "# Példa használat\n",
    "random_generator = random.Random()\n",
    "uniform_dist = UniformDistribution(random_generator, 0, 10)\n",
    "\n",
    "# Többlet kurtosis meghívása\n",
    "try:\n",
    "    kurtosis_value = uniform_dist.ex_kurtosis()\n",
    "    print(f\"Az eloszlás többlet kurtosisa: {kurtosis_value}\")\n",
    "except Exception as e:\n",
    "    print(str(e))\n"
   ],
   "metadata": {
    "collapsed": false,
    "ExecuteTime": {
     "end_time": "2023-09-24T19:00:56.664342300Z",
     "start_time": "2023-09-24T19:00:56.617361500Z"
    }
   },
   "id": "90c8ab4de2593419"
  },
  {
   "cell_type": "code",
   "execution_count": null,
   "outputs": [],
   "source": [
    "\"\"\"\n",
    "13., Egészítse ki a UniformDistribution osztályt egy új függvénnyel, amely visszaadja az eloszlás függvény első 3 cetrális momentumát és a többlet csúcsosságot.  Ha az eloszlásnak nincsenek ilyen értékei, akkor return helyett hívja meg a raise Exception(\"Moments undefined\") parancsot.\n",
    "    függvény név: mvsk\n",
    "    bemenet: None\n",
    "    kimeneti típus: List\n",
    "    link: https://en.wikipedia.org/wiki/Continuous_uniform_distribution\n",
    "\"\"\""
   ],
   "metadata": {
    "collapsed": false
   },
   "id": "381e54b9702858f2"
  },
  {
   "cell_type": "code",
   "execution_count": 113,
   "outputs": [
    {
     "name": "stdout",
     "output_type": "stream",
     "text": [
      "Moments undefined\n"
     ]
    }
   ],
   "source": [
    "import random\n",
    "\n",
    "class UniformDistribution:\n",
    "    def __init__(self, rand, a, b):\n",
    "        self.random_generator = rand\n",
    "        self.lower_limit = a\n",
    "        self.upper_limit = b\n",
    "\n",
    "    def pdf(self, x):\n",
    "        if self.lower_limit <= x <= self.upper_limit:\n",
    "            return 1.0 / (self.upper_limit - self.lower_limit)\n",
    "        else:\n",
    "            return 0.0\n",
    "\n",
    "    def cdf(self, x):\n",
    "        if x < self.lower_limit:\n",
    "            return 0.0\n",
    "        elif x >= self.upper_limit:\n",
    "            return 1.0\n",
    "        else:\n",
    "            return (x - self.lower_limit) / (self.upper_limit - self.lower_limit)\n",
    "\n",
    "    def ppf(self, p):\n",
    "        if 0 <= p <= 1:\n",
    "            return self.lower_limit + p * (self.upper_limit - self.lower_limit)\n",
    "        else:\n",
    "            raise ValueError(\"Az 'p' értéke 0 és 1 között kell legyen.\")\n",
    "\n",
    "    def mean(self):\n",
    "        if self.lower_limit == self.upper_limit:\n",
    "            raise Exception(\"Moments undefined\")\n",
    "        return (self.lower_limit + self.upper_limit) / 2.0\n",
    "\n",
    "    def gen_random(self):\n",
    "        return self.random_generator.uniform(self.lower_limit, self.upper_limit)\n",
    "\n",
    "    def variance(self):\n",
    "        if self.lower_limit == self.upper_limit:\n",
    "            raise Exception(\"Moments undefined\")\n",
    "        return ((self.upper_limit - self.lower_limit) ** 2) / 12.0\n",
    "\n",
    "    def skewness(self):\n",
    "        raise Exception(\"Moments undefined\")\n",
    "\n",
    "    def ex_kurtosis(self):\n",
    "        raise Exception(\"Moments undefined\")\n",
    "\n",
    "    def mvsk(self):\n",
    "        if self.lower_limit == self.upper_limit:\n",
    "            raise Exception(\"Moments undefined\")\n",
    "\n",
    "        mean_value = self.mean()\n",
    "        variance_value = self.variance()\n",
    "        skewness_value = self.skewness()\n",
    "\n",
    "        # Az ex_kurtosis a normál eloszlású eloszlás többlet kurtosisa\n",
    "        ex_kurtosis_value = 0.0\n",
    "\n",
    "        return [mean_value, variance_value, skewness_value, ex_kurtosis_value]\n",
    "\n",
    "# Példa használat\n",
    "random_generator = random.Random()\n",
    "uniform_dist = UniformDistribution(random_generator, 0, 10)\n",
    "\n",
    "# Moments meghívása\n",
    "try:\n",
    "    moments = uniform_dist.mvsk()\n",
    "    print(f\"Eloszlás moments (mean, variance, skewness, ex_kurtosis): {moments}\")\n",
    "except Exception as e:\n",
    "    print(str(e))\n"
   ],
   "metadata": {
    "collapsed": false,
    "ExecuteTime": {
     "end_time": "2023-09-24T19:01:50.150936900Z",
     "start_time": "2023-09-24T19:01:50.104088800Z"
    }
   },
   "id": "7dfd518901034a4"
  },
  {
   "cell_type": "code",
   "execution_count": null,
   "outputs": [],
   "source": [
    "\"\"\"\n",
    "14., Hozzan létre egy új osztályt aminek a neve NormalDistribution. Definiáljon benne a __init__ nevű függvényt, amelynek bemenetként kap egy véletlenszám generátort, és az eloszlás várható értékét (location) és varianciáját (scale), amely értékeket adattagokba ment le.\n",
    "    Osztály név: NormalDistribution\n",
    "    függvény név: __init__\n",
    "    bemenet: self, rand, loc, scale\n",
    "\"\"\""
   ],
   "metadata": {
    "collapsed": false
   },
   "id": "e3054fa061cc7f19"
  },
  {
   "cell_type": "code",
   "execution_count": 115,
   "outputs": [
    {
     "name": "stdout",
     "output_type": "stream",
     "text": [
      "Véletlenszerű érték a normál eloszlásból: -2.461197462167443\n"
     ]
    }
   ],
   "source": [
    "import random\n",
    "\n",
    "class NormalDistribution:\n",
    "    def __init__(self, rand, loc, scale):\n",
    "        self.random_generator = rand\n",
    "        self.location = loc\n",
    "        self.scale = scale\n",
    "\n",
    "    def gen_random(self):\n",
    "        return self.random_generator.gauss(self.location, self.scale)\n",
    "\n",
    "# Példa használat\n",
    "random_generator = random.Random()\n",
    "normal_dist = NormalDistribution(random_generator, 0, 1)  # Példa értékekkel inicializálva\n",
    "\n",
    "# Véletlenszerű szám generálása a normál eloszlás paraméterei alapján\n",
    "random_value = normal_dist.gen_random()\n",
    "print(f\"Véletlenszerű érték a normál eloszlásból: {random_value}\")\n",
    "\n"
   ],
   "metadata": {
    "collapsed": false,
    "ExecuteTime": {
     "end_time": "2023-09-24T19:04:50.873753400Z",
     "start_time": "2023-09-24T19:04:50.858153100Z"
    }
   },
   "id": "11b52af994296446"
  },
  {
   "cell_type": "code",
   "execution_count": null,
   "outputs": [],
   "source": [
    "\"\"\"\n",
    "15., Egészítse ki a NormalDistribution osztályt egy új függvénnyel, amely loc várható értékű és scale varianciájú normális eloszlás eloszlásfüggvényéből rendel valószínűségi értéket a bemeneti x valós számhoz.\n",
    "    függvény név: pdf\n",
    "    bemenet: x\n",
    "    kimeneti típus: float\n",
    "    link: https://en.wikipedia.org/wiki/Normal_distribution\n",
    "\"\"\""
   ],
   "metadata": {
    "collapsed": false
   },
   "id": "8307a9402bb6e2cf"
  },
  {
   "cell_type": "code",
   "execution_count": 116,
   "outputs": [
    {
     "name": "stdout",
     "output_type": "stream",
     "text": [
      "Az eloszlás valószínűségi értéke 0.5-nél: 0.3520653267642995\n"
     ]
    }
   ],
   "source": [
    "import random\n",
    "import math\n",
    "\n",
    "class NormalDistribution:\n",
    "    def __init__(self, rand, loc, scale):\n",
    "        self.random_generator = rand\n",
    "        self.location = loc\n",
    "        self.scale = scale\n",
    "\n",
    "    def gen_random(self):\n",
    "        return self.random_generator.gauss(self.location, self.scale)\n",
    "\n",
    "    def pdf(self, x):\n",
    "        if self.scale <= 0:\n",
    "            raise ValueError(\"A szórás (scale) értéke pozitív számnak kell lennie.\")\n",
    "        coefficient = 1 / (self.scale * math.sqrt(2 * math.pi))\n",
    "        exponent = -((x - self.location) ** 2) / (2 * (self.scale ** 2))\n",
    "        return coefficient * math.exp(exponent)\n",
    "\n",
    "# Példa használat\n",
    "random_generator = random.Random()\n",
    "normal_dist = NormalDistribution(random_generator, 0, 1)  # Példa értékekkel inicializálva\n",
    "\n",
    "# Valószínűségi sűrűségfüggvény meghívása\n",
    "x = 0.5\n",
    "probability = normal_dist.pdf(x)\n",
    "print(f\"Az eloszlás valószínűségi értéke {x}-nél: {probability}\")\n"
   ],
   "metadata": {
    "collapsed": false,
    "ExecuteTime": {
     "end_time": "2023-09-24T19:05:20.865856400Z",
     "start_time": "2023-09-24T19:05:20.834536500Z"
    }
   },
   "id": "ee2c7ccf83e6aed5"
  },
  {
   "cell_type": "code",
   "execution_count": null,
   "outputs": [],
   "source": [
    "\"\"\"\n",
    "16., Egészítse ki a NormalDistribution osztályt egy új függvénnyel, amely megvalósítja az eloszlás kumulatív eloszlás függvényét.\n",
    "    függvény név: cdf\n",
    "    bemenet: x\n",
    "    kimeneti típus: float\n",
    "    link: https://en.wikipedia.org/wiki/Normal_distribution\n",
    "\"\"\""
   ],
   "metadata": {
    "collapsed": false
   },
   "id": "e4363f71c499472d"
  },
  {
   "cell_type": "code",
   "execution_count": 117,
   "outputs": [
    {
     "name": "stdout",
     "output_type": "stream",
     "text": [
      "Az eloszlás kumulatív valószínűsége 0.5-ig: 0.691462461274013\n"
     ]
    }
   ],
   "source": [
    "import random\n",
    "import math\n",
    "from scipy.special import erf\n",
    "\n",
    "class NormalDistribution:\n",
    "    def __init__(self, rand, loc, scale):\n",
    "        self.random_generator = rand\n",
    "        self.location = loc\n",
    "        self.scale = scale\n",
    "\n",
    "    def gen_random(self):\n",
    "        return self.random_generator.gauss(self.location, self.scale)\n",
    "\n",
    "    def pdf(self, x):\n",
    "        if self.scale <= 0:\n",
    "            raise ValueError(\"A szórás (scale) értéke pozitív számnak kell lennie.\")\n",
    "        coefficient = 1 / (self.scale * math.sqrt(2 * math.pi))\n",
    "        exponent = -((x - self.location) ** 2) / (2 * (self.scale ** 2))\n",
    "        return coefficient * math.exp(exponent)\n",
    "\n",
    "    def cdf(self, x):\n",
    "        z = (x - self.location) / (self.scale * math.sqrt(2))\n",
    "        return 0.5 * (1 + erf(z))\n",
    "\n",
    "# Példa használat\n",
    "random_generator = random.Random()\n",
    "normal_dist = NormalDistribution(random_generator, 0, 1)  # Példa értékekkel inicializálva\n",
    "\n",
    "# Kumulatív eloszlásfüggvény meghívása\n",
    "x = 0.5\n",
    "cumulative_probability = normal_dist.cdf(x)\n",
    "print(f\"Az eloszlás kumulatív valószínűsége {x}-ig: {cumulative_probability}\")\n"
   ],
   "metadata": {
    "collapsed": false,
    "ExecuteTime": {
     "end_time": "2023-09-24T19:05:54.280619600Z",
     "start_time": "2023-09-24T19:05:50.520680400Z"
    }
   },
   "id": "41055d2765c450cd"
  },
  {
   "cell_type": "code",
   "execution_count": null,
   "outputs": [],
   "source": [
    "\"\"\"\n",
    "17., Egészítse ki a NormalDistribution osztályt egy új függvénnyel, amely implementálja az eloszlás inverz kumulatív eloszlás függvényét\n",
    "    függvény név: ppf\n",
    "    bemenet: p\n",
    "    kimeneti típus: float\n",
    "    link: https://en.wikipedia.org/wiki/Normal_distribution\n",
    "\"\"\""
   ],
   "metadata": {
    "collapsed": false
   },
   "id": "16a24cd8bbf27601"
  },
  {
   "cell_type": "code",
   "execution_count": 118,
   "outputs": [
    {
     "name": "stdout",
     "output_type": "stream",
     "text": [
      "Az inverz kumulatív eloszlás értéke a valószínűséghez 0.5: 0.0\n"
     ]
    }
   ],
   "source": [
    "import random\n",
    "import math\n",
    "from scipy.special import erfinv\n",
    "\n",
    "class NormalDistribution:\n",
    "    def __init__(self, rand, loc, scale):\n",
    "        self.random_generator = rand\n",
    "        self.location = loc\n",
    "        self.scale = scale\n",
    "\n",
    "    def gen_random(self):\n",
    "        return self.random_generator.gauss(self.location, self.scale)\n",
    "\n",
    "    def pdf(self, x):\n",
    "        if self.scale <= 0:\n",
    "            raise ValueError(\"A szórás (scale) értéke pozitív számnak kell lennie.\")\n",
    "        coefficient = 1 / (self.scale * math.sqrt(2 * math.pi))\n",
    "        exponent = -((x - self.location) ** 2) / (2 * (self.scale ** 2))\n",
    "        return coefficient * math.exp(exponent)\n",
    "\n",
    "    def cdf(self, x):\n",
    "        z = (x - self.location) / (self.scale * math.sqrt(2))\n",
    "        return 0.5 * (1 + math.erf(z))\n",
    "\n",
    "    def ppf(self, p):\n",
    "        if p < 0 or p > 1:\n",
    "            raise ValueError(\"Az 'p' értéke 0 és 1 között kell legyen.\")\n",
    "        z = math.sqrt(2) * erfinv(2 * p - 1)\n",
    "        return self.location + self.scale * z\n",
    "\n",
    "# Példa használat\n",
    "random_generator = random.Random()\n",
    "normal_dist = NormalDistribution(random_generator, 0, 1)  # Példa értékekkel inicializálva\n",
    "\n",
    "# Inverz kumulatív eloszlásfüggvény meghívása\n",
    "p = 0.5\n",
    "inverse_cdf_value = normal_dist.ppf(p)\n",
    "print(f\"Az inverz kumulatív eloszlás értéke a valószínűséghez {p}: {inverse_cdf_value}\")\n"
   ],
   "metadata": {
    "collapsed": false,
    "ExecuteTime": {
     "end_time": "2023-09-24T19:06:14.199784700Z",
     "start_time": "2023-09-24T19:06:14.138398300Z"
    }
   },
   "id": "d4924aa6bec31167"
  },
  {
   "cell_type": "code",
   "execution_count": null,
   "outputs": [],
   "source": [
    "\"\"\"\n",
    "18., Egészítse ki a NormalDistribution osztályt egy új függvénnyel, amely az osztály létrehozásánál megadott paraméterek mellett, normális eloszlású véletlen számokat generál minden meghívásnál\n",
    "    függvény név: gen_random\n",
    "    bemenet: None\n",
    "    kimeneti típus: float\n",
    "    link: https://en.wikipedia.org/wiki/Normal_distribution\n",
    "\n",
    "\"\"\""
   ],
   "metadata": {
    "collapsed": false
   },
   "id": "bd08e6c93ec9bf3a"
  },
  {
   "cell_type": "code",
   "execution_count": 120,
   "outputs": [
    {
     "name": "stdout",
     "output_type": "stream",
     "text": [
      "Generált normális eloszlású véletlen szám: -0.041687870518937103\n"
     ]
    }
   ],
   "source": [
    "import random\n",
    "import math\n",
    "from scipy.special import erfinv\n",
    "\n",
    "class NormalDistribution:\n",
    "    def __init__(self, rand, loc, scale):\n",
    "        self.random_generator = rand\n",
    "        self.location = loc\n",
    "        self.scale = scale\n",
    "\n",
    "    def pdf(self, x):\n",
    "        if self.scale <= 0:\n",
    "            raise ValueError(\"A szórás (scale) értéke pozitív számnak kell lennie.\")\n",
    "        coefficient = 1 / (self.scale * math.sqrt(2 * math.pi))\n",
    "        exponent = -((x - self.location) ** 2) / (2 * (self.scale ** 2))\n",
    "        return coefficient * math.exp(exponent)\n",
    "\n",
    "    def cdf(self, x):\n",
    "        z = (x - self.location) / (self.scale * math.sqrt(2))\n",
    "        return 0.5 * (1 + math.erf(z))\n",
    "\n",
    "    def ppf(self, p):\n",
    "        if p < 0 or p > 1:\n",
    "            raise ValueError(\"Az 'p' értéke 0 és 1 között kell legyen.\")\n",
    "        z = math.sqrt(2) * erfinv(2 * p - 1)\n",
    "        return self.location + self.scale * z\n",
    "\n",
    "    def gen_random(self):\n",
    "        return self.random_generator.gauss(self.location, self.scale)\n",
    "\n",
    "    def mean(self):\n",
    "        if self.location is None:\n",
    "            raise Exception(\"Moment undefined\")\n",
    "        return self.location\n",
    "\n",
    "# Példa használat\n",
    "random_generator = random.Random()\n",
    "normal_dist = NormalDistribution(random_generator, 0, 1)  # Példa értékekkel inicializálva\n",
    "\n",
    "# Normális eloszlású véletlen szám generálása\n",
    "random_value = normal_dist.gen_random()\n",
    "print(f\"Generált normális eloszlású véletlen szám: {random_value}\")\n",
    "\n"
   ],
   "metadata": {
    "collapsed": false,
    "ExecuteTime": {
     "end_time": "2023-09-24T19:08:56.477444500Z",
     "start_time": "2023-09-24T19:08:56.408182200Z"
    }
   },
   "id": "316f42ca481d150b"
  },
  {
   "cell_type": "code",
   "execution_count": null,
   "outputs": [],
   "source": [
    "\"\"\"\n",
    "19., Egészítse ki a NormalDistribution osztályt egy új függvénnyel, amely visszaadja az eloszlás függvény átlagát.  Ha az eloszlásnak nincsen ilyen értéke, akkor return helyett hívja meg a raise Exception(\"Moment undefined\") parancsot.\n",
    "    függvény név: mean\n",
    "    bemenet: None\n",
    "    kimeneti típus: float\n",
    "    link: https://en.wikipedia.org/wiki/Normal_distribution\n",
    "\"\"\""
   ],
   "metadata": {
    "collapsed": false
   },
   "id": "de8c09b37b4045e8"
  },
  {
   "cell_type": "code",
   "execution_count": 121,
   "outputs": [
    {
     "name": "stdout",
     "output_type": "stream",
     "text": [
      "Az eloszlás átlaga (várható érték): 0\n"
     ]
    }
   ],
   "source": [
    "import random\n",
    "import math\n",
    "from scipy.special import erfinv\n",
    "\n",
    "class NormalDistribution:\n",
    "    def __init__(self, rand, loc, scale):\n",
    "        self.random_generator = rand\n",
    "        self.location = loc\n",
    "        self.scale = scale\n",
    "\n",
    "    def pdf(self, x):\n",
    "        if self.scale <= 0:\n",
    "            raise ValueError(\"A szórás (scale) értéke pozitív számnak kell lennie.\")\n",
    "        coefficient = 1 / (self.scale * math.sqrt(2 * math.pi))\n",
    "        exponent = -((x - self.location) ** 2) / (2 * (self.scale ** 2))\n",
    "        return coefficient * math.exp(exponent)\n",
    "\n",
    "    def cdf(self, x):\n",
    "        z = (x - self.location) / (self.scale * math.sqrt(2))\n",
    "        return 0.5 * (1 + math.erf(z))\n",
    "\n",
    "    def ppf(self, p):\n",
    "        if p < 0 or p > 1:\n",
    "            raise ValueError(\"Az 'p' értéke 0 és 1 között kell legyen.\")\n",
    "        z = math.sqrt(2) * erfinv(2 * p - 1)\n",
    "        return self.location + self.scale * z\n",
    "\n",
    "    def gen_random(self):\n",
    "        return self.random_generator.gauss(self.location, self.scale)\n",
    "\n",
    "    def mean(self):\n",
    "        if self.location is None:\n",
    "            raise Exception(\"Moment undefined\")\n",
    "        return self.location\n",
    "\n",
    "# Példa használat\n",
    "random_generator = random.Random()\n",
    "normal_dist = NormalDistribution(random_generator, 0, 1)  # Példa értékekkel inicializálva\n",
    "\n",
    "# Eloszlás átlagának lekérdezése\n",
    "mean_value = normal_dist.mean()\n",
    "print(f\"Az eloszlás átlaga (várható érték): {mean_value}\")\n"
   ],
   "metadata": {
    "collapsed": false,
    "ExecuteTime": {
     "end_time": "2023-09-24T19:09:35.753251800Z",
     "start_time": "2023-09-24T19:09:35.685208800Z"
    }
   },
   "id": "5dbb084104de7cc"
  },
  {
   "cell_type": "code",
   "execution_count": null,
   "outputs": [],
   "source": [
    "\"\"\"\n",
    "20., Egészítse ki a NormalDistribution osztályt egy új függvénnyel, amely visszaadja az eloszlás függvény mediánját\n",
    "    függvény név: median\n",
    "    bemenet: None\n",
    "    kimeneti típus: float\n",
    "    link: https://en.wikipedia.org/wiki/Normal_distribution\n",
    "\"\"\""
   ],
   "metadata": {
    "collapsed": false
   },
   "id": "1bdbbe1b39693c62"
  },
  {
   "cell_type": "code",
   "execution_count": 122,
   "outputs": [
    {
     "name": "stdout",
     "output_type": "stream",
     "text": [
      "Az eloszlás mediánja: 0.0\n"
     ]
    }
   ],
   "source": [
    "import random\n",
    "import math\n",
    "from scipy.special import erfinv\n",
    "\n",
    "class NormalDistribution:\n",
    "    def __init__(self, rand, loc, scale):\n",
    "        self.random_generator = rand\n",
    "        self.location = loc\n",
    "        self.scale = scale\n",
    "\n",
    "    def pdf(self, x):\n",
    "        if self.scale <= 0:\n",
    "            raise ValueError(\"A szórás (scale) értéke pozitív számnak kell lennie.\")\n",
    "        coefficient = 1 / (self.scale * math.sqrt(2 * math.pi))\n",
    "        exponent = -((x - self.location) ** 2) / (2 * (self.scale ** 2))\n",
    "        return coefficient * math.exp(exponent)\n",
    "\n",
    "    def cdf(self, x):\n",
    "        z = (x - self.location) / (self.scale * math.sqrt(2))\n",
    "        return 0.5 * (1 + math.erf(z))\n",
    "\n",
    "    def ppf(self, p):\n",
    "        if p < 0 or p > 1:\n",
    "            raise ValueError(\"Az 'p' értéke 0 és 1 között kell legyen.\")\n",
    "        z = math.sqrt(2) * erfinv(2 * p - 1)\n",
    "        return self.location + self.scale * z\n",
    "\n",
    "    def gen_random(self):\n",
    "        return self.random_generator.gauss(self.location, self.scale)\n",
    "\n",
    "    def mean(self):\n",
    "        if self.location is None:\n",
    "            raise Exception(\"Moment undefined\")\n",
    "        return self.location\n",
    "\n",
    "    def median(self):\n",
    "        median_value = self.ppf(0.5)\n",
    "        return median_value\n",
    "\n",
    "# Példa használat\n",
    "random_generator = random.Random()\n",
    "normal_dist = NormalDistribution(random_generator, 0, 1)  # Példa értékekkel inicializálva\n",
    "\n",
    "# Eloszlás mediánjának lekérdezése\n",
    "median_value = normal_dist.median()\n",
    "print(f\"Az eloszlás mediánja: {median_value}\")\n"
   ],
   "metadata": {
    "collapsed": false,
    "ExecuteTime": {
     "end_time": "2023-09-24T19:10:17.026773900Z",
     "start_time": "2023-09-24T19:10:16.998581300Z"
    }
   },
   "id": "c4ca0d6c7b11a2d"
  },
  {
   "cell_type": "code",
   "execution_count": null,
   "outputs": [],
   "source": [
    "\"\"\"\n",
    "21., Egészítse ki a NormalDistribution osztályt egy új függvénnyel, amely visszaadja az eloszlás függvény varianciáját.  Ha az eloszlásnak nincsen ilyen értéke, akkor return helyett hívja meg a raise Exception(\"Moment undefined\") parancsot.\n",
    "    függvény név: variance\n",
    "    bemenet: None\n",
    "    kimeneti típus: float\n",
    "    link: https://en.wikipedia.org/wiki/Normal_distribution\n",
    "\"\"\""
   ],
   "metadata": {
    "collapsed": false
   },
   "id": "d60f6da0c5c4c3f7"
  },
  {
   "cell_type": "code",
   "execution_count": 125,
   "outputs": [
    {
     "name": "stdout",
     "output_type": "stream",
     "text": [
      "Az eloszlás varianciája: 1\n"
     ]
    }
   ],
   "source": [
    "import random\n",
    "import math\n",
    "from scipy.special import erfinv\n",
    "\n",
    "class NormalDistribution:\n",
    "    def __init__(self, rand, loc, scale):\n",
    "        self.random_generator = rand\n",
    "        self.location = loc\n",
    "        self.scale = scale\n",
    "\n",
    "    def pdf(self, x):\n",
    "        if self.scale <= 0:\n",
    "            raise ValueError(\"A szórás (scale) értéke pozitív számnak kell lennie.\")\n",
    "        coefficient = 1 / (self.scale * math.sqrt(2 * math.pi))\n",
    "        exponent = -((x - self.location) ** 2) / (2 * (self.scale ** 2))\n",
    "        return coefficient * math.exp(exponent)\n",
    "\n",
    "    def cdf(self, x):\n",
    "        z = (x - self.location) / (self.scale * math.sqrt(2))\n",
    "        return 0.5 * (1 + math.erf(z))\n",
    "\n",
    "    def ppf(self, p):\n",
    "        if p < 0 or p > 1:\n",
    "            raise ValueError(\"Az 'p' értéke 0 és 1 között kell legyen.\")\n",
    "        z = math.sqrt(2) * erfinv(2 * p - 1)\n",
    "        return self.location + self.scale * z\n",
    "\n",
    "    def gen_random(self):\n",
    "        return self.random_generator.gauss(self.location, self.scale)\n",
    "\n",
    "    def mean(self):\n",
    "        if self.location is None:\n",
    "            raise Exception(\"Moment undefined\")\n",
    "        return self.location\n",
    "\n",
    "    def median(self):\n",
    "        median_value = self.ppf(0.5)\n",
    "        return median_value\n",
    "\n",
    "    def variance(self):\n",
    "        if self.scale is None:\n",
    "            raise Exception(\"Moment undefined\")\n",
    "        return self.scale ** 2\n",
    "\n",
    "# Példa használat\n",
    "random_generator = random.Random()\n",
    "normal_dist = NormalDistribution(random_generator, 0, 1)  # Példa értékekkel inicializálva\n",
    "\n",
    "# Eloszlás varianciájának lekérdezése\n",
    "variance_value = normal_dist.variance()\n",
    "print(f\"Az eloszlás varianciája: {variance_value}\")\n"
   ],
   "metadata": {
    "collapsed": false,
    "ExecuteTime": {
     "end_time": "2023-09-24T19:11:19.042410900Z",
     "start_time": "2023-09-24T19:11:18.973927600Z"
    }
   },
   "id": "3fe45217bb14c0d2"
  },
  {
   "cell_type": "code",
   "execution_count": null,
   "outputs": [],
   "source": [
    "\"\"\"\n",
    "22., Egészítse ki a NormalDistribution osztályt egy új függvénnyel, amely visszaadja az eloszlás függvény ferdeségét.  Ha az eloszlásnak nincsen ilyen értéke, akkor return helyett hívja meg a raise Exception(\"Moment undefined\") parancsot.\n",
    "    függvény név: skewness\n",
    "    bemenet: None\n",
    "    kimeneti típus: float\n",
    "    link: https://en.wikipedia.org/wiki/Normal_distribution\n",
    "\"\"\""
   ],
   "metadata": {
    "collapsed": false
   },
   "id": "462cf912b43d4a6f"
  },
  {
   "cell_type": "code",
   "execution_count": 127,
   "outputs": [
    {
     "name": "stdout",
     "output_type": "stream",
     "text": [
      "Az eloszlás ferdesége: 0.0\n"
     ]
    }
   ],
   "source": [
    "import random\n",
    "import math\n",
    "from scipy.special import erfinv\n",
    "\n",
    "class NormalDistribution:\n",
    "    def __init__(self, rand, loc, scale):\n",
    "        self.random_generator = rand\n",
    "        self.location = loc\n",
    "        self.scale = scale\n",
    "\n",
    "    def pdf(self, x):\n",
    "        if self.scale <= 0:\n",
    "            raise ValueError(\"A szórás (scale) értéke pozitív számnak kell lennie.\")\n",
    "        coefficient = 1 / (self.scale * math.sqrt(2 * math.pi))\n",
    "        exponent = -((x - self.location) ** 2) / (2 * (self.scale ** 2))\n",
    "        return coefficient * math.exp(exponent)\n",
    "\n",
    "    def cdf(self, x):\n",
    "        z = (x - self.location) / (self.scale * math.sqrt(2))\n",
    "        return 0.5 * (1 + math.erf(z))\n",
    "\n",
    "    def ppf(self, p):\n",
    "        if p < 0 or p > 1:\n",
    "            raise ValueError(\"Az 'p' értéke 0 és 1 között kell legyen.\")\n",
    "        z = math.sqrt(2) * erfinv(2 * p - 1)\n",
    "        return self.location + self.scale * z\n",
    "\n",
    "    def gen_random(self):\n",
    "        return self.random_generator.gauss(self.location, self.scale)\n",
    "\n",
    "    def mean(self):\n",
    "        if self.location is None:\n",
    "            raise Exception(\"Moment undefined\")\n",
    "        return self.location\n",
    "\n",
    "    def median(self):\n",
    "        median_value = self.ppf(0.5)\n",
    "        return median_value\n",
    "\n",
    "    def variance(self):\n",
    "        if self.scale is None:\n",
    "            raise Exception(\"Moment undefined\")\n",
    "        return self.scale ** 2\n",
    "\n",
    "    def skewness(self):\n",
    "        if self.scale is None:\n",
    "            raise Exception(\"Moment undefined\")\n",
    "        return 0.0  # A normális eloszlás ferdesége mindig 0\n",
    "\n",
    "# Példa használat\n",
    "random_generator = random.Random()\n",
    "normal_dist = NormalDistribution(random_generator, 0, 1)  # Példa értékekkel inicializálva\n",
    "\n",
    "# Eloszlás ferdeségének lekérdezése\n",
    "skewness_value = normal_dist.skewness()\n",
    "print(f\"Az eloszlás ferdesége: {skewness_value}\")\n"
   ],
   "metadata": {
    "collapsed": false,
    "ExecuteTime": {
     "end_time": "2023-09-24T19:12:01.935338500Z",
     "start_time": "2023-09-24T19:12:01.884884Z"
    }
   },
   "id": "8c2460e45f489a8c"
  },
  {
   "cell_type": "code",
   "execution_count": null,
   "outputs": [],
   "source": [
    "\"\"\"\n",
    "23., Egészítse ki a NormalDistribution osztályt egy új függvénnyel, amely visszaadja az eloszlás függvény többlet csúcsosságát.  Ha az eloszlásnak nincsen ilyen értéke, akkor return helyett hívja meg a raise Exception(\"Moment undefined\") parancsot.\n",
    "    függvény név: ex_kurtosis\n",
    "    bemenet: None\n",
    "    kimeneti típus: float\n",
    "    link: https://en.wikipedia.org/wiki/Normal_distribution\n",
    "\"\"\""
   ],
   "metadata": {
    "collapsed": false
   },
   "id": "201657582443c27a"
  },
  {
   "cell_type": "code",
   "execution_count": 137,
   "outputs": [
    {
     "name": "stdout",
     "output_type": "stream",
     "text": [
      "Az eloszlás többlet csúcsossága: 0.0\n"
     ]
    }
   ],
   "source": [
    "import random\n",
    "import math\n",
    "from scipy.special import erfinv\n",
    "\n",
    "class NormalDistribution:\n",
    "    def __init__(self, rand, loc, scale):\n",
    "        self.random_generator = rand\n",
    "        self.location = loc\n",
    "        self.scale = scale\n",
    "\n",
    "    def pdf(self, x):\n",
    "        if self.scale <= 0:\n",
    "            raise ValueError(\"A szórás (scale) értéke pozitív számnak kell lennie.\")\n",
    "        coefficient = 1 / (self.scale * math.sqrt(2 * math.pi))\n",
    "        exponent = -((x - self.location) ** 2) / (2 * (self.scale ** 2))\n",
    "        return coefficient * math.exp(exponent)\n",
    "\n",
    "    def cdf(self, x):\n",
    "        z = (x - self.location) / (self.scale * math.sqrt(2))\n",
    "        return 0.5 * (1 + math.erf(z))\n",
    "\n",
    "    def ppf(self, p):\n",
    "        if p < 0 or p > 1:\n",
    "            raise ValueError(\"Az 'p' értéke 0 és 1 között kell legyen.\")\n",
    "        z = math.sqrt(2) * erfinv(2 * p - 1)\n",
    "        return self.location + self.scale * z\n",
    "\n",
    "    def gen_random(self):\n",
    "        return self.random_generator.gauss(self.location, self.scale)\n",
    "\n",
    "    def mean(self):\n",
    "        if self.location is None:\n",
    "            raise Exception(\"Moment undefined\")\n",
    "        return self.location\n",
    "\n",
    "    def median(self):\n",
    "        median_value = self.ppf(0.5)\n",
    "        return median_value\n",
    "\n",
    "    def variance(self):\n",
    "        if self.scale is None:\n",
    "            raise Exception(\"Moment undefined\")\n",
    "        return self.scale ** 2\n",
    "\n",
    "    def skewness(self):\n",
    "        if self.scale is None:\n",
    "            raise Exception(\"Moment undefined\")\n",
    "        return 0.0  # A normális eloszlás ferdesége mindig 0\n",
    "\n",
    "    def ex_kurtosis(self):\n",
    "        if self.scale is None:\n",
    "            raise Exception(\"Moment undefined\")\n",
    "        return 0.0  # A normális eloszlás többlet csúcsossága mindig 0\n",
    "\n",
    "    def mvsk(self):\n",
    "        if self.scale is None:\n",
    "            raise Exception(\"Moment undefined\")\n",
    "        return [0.0, 0.0, 0.0, 0.0]\n",
    "\n",
    "# Példa használat\n",
    "random_generator = random.Random()\n",
    "normal_dist = NormalDistribution(random_generator, 0, 1)  # Példa értékekkel inicializálva\n",
    "\n",
    "# Eloszlás többlet csúcsosságának lekérdezése\n",
    "ex_kurtosis_value = normal_dist.ex_kurtosis()\n",
    "print(f\"Az eloszlás többlet csúcsossága: {ex_kurtosis_value}\")\n"
   ],
   "metadata": {
    "collapsed": false,
    "ExecuteTime": {
     "end_time": "2023-09-24T19:15:57.098049800Z",
     "start_time": "2023-09-24T19:15:57.012295800Z"
    }
   },
   "id": "a8b5242f0d9de604"
  },
  {
   "cell_type": "code",
   "execution_count": null,
   "outputs": [],
   "source": [
    "\"\"\"\n",
    "24., Egészítse ki a NormalDistribution osztályt egy új függvénnyel, amely visszaadja az eloszlás függvény első 3 cetrális momentumát és a többlet csúcsosságot.  Ha az eloszlásnak nincsenek ilyen értékei, akkor return helyett hívja meg a raise Exception(\"Moment undefined\") parancsot.\n",
    "    függvény név: mvsk\n",
    "    bemenet: None\n",
    "    kimeneti típus: List\n",
    "    link: https://en.wikipedia.org/wiki/Normal_distribution\n",
    "\"\"\""
   ],
   "metadata": {
    "collapsed": false
   },
   "id": "fed5122cbbb7fd15"
  },
  {
   "cell_type": "code",
   "execution_count": 136,
   "outputs": [
    {
     "name": "stdout",
     "output_type": "stream",
     "text": [
      "Eloszlás momentumai és többlet csúcsossága: [0.0, 0.0, 0.0, 0.0]\n"
     ]
    }
   ],
   "source": [
    "import random\n",
    "import math\n",
    "from scipy.special import erfinv\n",
    "\n",
    "class NormalDistribution:\n",
    "    def __init__(self, rand, loc, scale):\n",
    "        self.random_generator = rand\n",
    "        self.location = loc\n",
    "        self.scale = scale\n",
    "\n",
    "    def pdf(self, x):\n",
    "        if self.scale <= 0:\n",
    "            raise ValueError(\"A szórás (scale) értéke pozitív számnak kell lennie.\")\n",
    "        coefficient = 1 / (self.scale * math.sqrt(2 * math.pi))\n",
    "        exponent = -((x - self.location) ** 2) / (2 * (self.scale ** 2))\n",
    "        return coefficient * math.exp(exponent)\n",
    "\n",
    "    def cdf(self, x):\n",
    "        z = (x - self.location) / (self.scale * math.sqrt(2))\n",
    "        return 0.5 * (1 + math.erf(z))\n",
    "\n",
    "    def ppf(self, p):\n",
    "        if p < 0 or p > 1:\n",
    "            raise ValueError(\"Az 'p' értéke 0 és 1 között kell legyen.\")\n",
    "        z = math.sqrt(2) * erfinv(2 * p - 1)\n",
    "        return self.location + self.scale * z\n",
    "\n",
    "    def gen_random(self):\n",
    "        return self.random_generator.gauss(self.location, self.scale)\n",
    "\n",
    "    def mean(self):\n",
    "        if self.location is None:\n",
    "            raise Exception(\"Moment undefined\")\n",
    "        return self.location\n",
    "\n",
    "    def median(self):\n",
    "        median_value = self.ppf(0.5)\n",
    "        return median_value\n",
    "\n",
    "    def variance(self):\n",
    "        if self.scale is None:\n",
    "            raise Exception(\"Moment undefined\")\n",
    "        return self.scale ** 2\n",
    "\n",
    "    def skewness(self):\n",
    "        if self.scale is None:\n",
    "            raise Exception(\"Moment undefined\")\n",
    "        return 0.0  # A normális eloszlás ferdesége mindig 0\n",
    "\n",
    "    def ex_kurtosis(self):\n",
    "        if self.scale is None:\n",
    "            raise Exception(\"Moment undefined\")\n",
    "        return 0.0  # A normális eloszlás többlet csúcsossága mindig 0\n",
    "\n",
    "    def mvsk(self):\n",
    "        if self.scale is None:\n",
    "            raise Exception(\"Moment undefined\")\n",
    "        return [0.0, 0.0, 0.0, 0.0]\n",
    "\n",
    "# Példa használat\n",
    "random_generator = random.Random()\n",
    "normal_dist = NormalDistribution(random_generator, 0, 1)  # Példa értékekkel inicializálva\n",
    "\n",
    "# Eloszlás első három cetrális momentumának és többlet csúcsosságának lekérdezése\n",
    "moment_values = normal_dist.mvsk()\n",
    "print(f\"Eloszlás momentumai és többlet csúcsossága: {moment_values}\")\n"
   ],
   "metadata": {
    "collapsed": false,
    "ExecuteTime": {
     "end_time": "2023-09-24T19:14:32.991149300Z",
     "start_time": "2023-09-24T19:14:32.872864300Z"
    }
   },
   "id": "c0494b813a919533"
  },
  {
   "cell_type": "code",
   "execution_count": null,
   "outputs": [],
   "source": [
    "\"\"\"\n",
    "25., Hozzan létre egy új osztályt aminek a neve CauchyDistribution. Definiáljon benne a __init__ nevű függvényt, amelynek bemenetként kap egy véletlenszám generátort, az x0 (location) és gamma (scale) értékeket, amelyeket adattagokba ment le.\n",
    "    Osztály név: CauchyDistribution\n",
    "    függvény név: __init__\n",
    "    bemenet: self, rand, loc, scale\n",
    "\"\"\""
   ],
   "metadata": {
    "collapsed": false
   },
   "id": "5ebdce6bf0790bae"
  },
  {
   "cell_type": "code",
   "execution_count": 138,
   "outputs": [
    {
     "name": "stdout",
     "output_type": "stream",
     "text": [
      "Location (x0): 0\n",
      "Scale (gamma): 1\n"
     ]
    }
   ],
   "source": [
    "import random\n",
    "\n",
    "class CauchyDistribution:\n",
    "    def __init__(self, rand, loc, scale):\n",
    "        self.random_generator = rand\n",
    "        self.location = loc\n",
    "        self.scale = scale\n",
    "\n",
    "# Példa használat\n",
    "random_generator = random.Random()\n",
    "cauchy_dist = CauchyDistribution(random_generator, 0, 1)  # Példa értékekkel inicializálva\n",
    "\n",
    "# Az osztály adattagjainak lekérdezése\n",
    "print(f\"Location (x0): {cauchy_dist.location}\")\n",
    "print(f\"Scale (gamma): {cauchy_dist.scale}\")\n"
   ],
   "metadata": {
    "collapsed": false,
    "ExecuteTime": {
     "end_time": "2023-09-24T19:16:47.068335100Z",
     "start_time": "2023-09-24T19:16:46.996753200Z"
    }
   },
   "id": "2e10a43d8c036e87"
  },
  {
   "cell_type": "code",
   "execution_count": null,
   "outputs": [],
   "source": [
    "\"\"\"\n",
    "26., Egészítse ki a CauchyDistribution osztályt egy új függvénnyel, amely a bemeneti x értékhez hozzárendeli annak valószínűségi értékét\n",
    "    függvény név: pdf\n",
    "    bemenet: x\n",
    "    kimeneti típus: float\n",
    "    link: https://en.wikipedia.org/wiki/Cauchy_distribution\n",
    "\"\"\""
   ],
   "metadata": {
    "collapsed": false
   },
   "id": "3787756223336710"
  },
  {
   "cell_type": "code",
   "execution_count": 139,
   "outputs": [
    {
     "name": "stdout",
     "output_type": "stream",
     "text": [
      "Az x = 2.0 érték valószínűsége: 0.06366197723675814\n"
     ]
    }
   ],
   "source": [
    "import random\n",
    "import math\n",
    "\n",
    "class CauchyDistribution:\n",
    "    def __init__(self, rand, loc, scale):\n",
    "        self.random_generator = rand\n",
    "        self.location = loc\n",
    "        self.scale = scale\n",
    "\n",
    "    def pdf(self, x):\n",
    "        if self.scale <= 0:\n",
    "            raise ValueError(\"A szórás (scale) értéke pozitív számnak kell lennie.\")\n",
    "        numerator = self.scale\n",
    "        denominator = math.pi * ((x - self.location) ** 2 + self.scale ** 2)\n",
    "        return numerator / denominator\n",
    "\n",
    "# Példa használat\n",
    "random_generator = random.Random()\n",
    "cauchy_dist = CauchyDistribution(random_generator, 0, 1)  # Példa értékekkel inicializálva\n",
    "\n",
    "# Valószínűségi érték kiszámítása adott x értékhez\n",
    "x_value = 2.0\n",
    "probability = cauchy_dist.pdf(x_value)\n",
    "print(f\"Az x = {x_value} érték valószínűsége: {probability}\")\n"
   ],
   "metadata": {
    "collapsed": false,
    "ExecuteTime": {
     "end_time": "2023-09-24T19:17:29.277444300Z",
     "start_time": "2023-09-24T19:17:29.193805700Z"
    }
   },
   "id": "7d0ceacd1c7bcfb0"
  },
  {
   "cell_type": "code",
   "execution_count": null,
   "outputs": [],
   "source": [
    "\"\"\"\n",
    "27., Egészítse ki a CauchyDistribution osztályt egy új függvénnyel, amely megvalósítja az eloszlás kumulatív eloszlás függvényét.\n",
    "    függvény név: cdf\n",
    "    bemenet: x\n",
    "    kimeneti típus: float\n",
    "    link: https://en.wikipedia.org/wiki/Cauchy_distribution\n",
    "\"\"\""
   ],
   "metadata": {
    "collapsed": false
   },
   "id": "8a526d1affd17822"
  },
  {
   "cell_type": "code",
   "execution_count": 140,
   "outputs": [
    {
     "name": "stdout",
     "output_type": "stream",
     "text": [
      "Az x = 2.0 értékhez tartozó kumulatív eloszlás értéke: 0.8524163823495667\n"
     ]
    }
   ],
   "source": [
    "import random\n",
    "import math\n",
    "\n",
    "class CauchyDistribution:\n",
    "    def __init__(self, rand, loc, scale):\n",
    "        self.random_generator = rand\n",
    "        self.location = loc\n",
    "        self.scale = scale\n",
    "\n",
    "    def pdf(self, x):\n",
    "        if self.scale <= 0:\n",
    "            raise ValueError(\"A szórás (scale) értéke pozitív számnak kell lennie.\")\n",
    "        numerator = self.scale\n",
    "        denominator = math.pi * ((x - self.location) ** 2 + self.scale ** 2)\n",
    "        return numerator / denominator\n",
    "\n",
    "    def cdf(self, x):\n",
    "        if self.scale <= 0:\n",
    "            raise ValueError(\"A szórás (scale) értéke pozitív számnak kell lennie.\")\n",
    "        z = (x - self.location) / self.scale\n",
    "        return 0.5 + (1 / math.pi) * math.atan(z)\n",
    "\n",
    "# Példa használat\n",
    "random_generator = random.Random()\n",
    "cauchy_dist = CauchyDistribution(random_generator, 0, 1)  # Példa értékekkel inicializálva\n",
    "\n",
    "# Kumulatív eloszlás függvény értékének kiszámítása adott x értékhez\n",
    "x_value = 2.0\n",
    "cumulative_probability = cauchy_dist.cdf(x_value)\n",
    "print(f\"Az x = {x_value} értékhez tartozó kumulatív eloszlás értéke: {cumulative_probability}\")\n"
   ],
   "metadata": {
    "collapsed": false,
    "ExecuteTime": {
     "end_time": "2023-09-24T19:17:38.755677600Z",
     "start_time": "2023-09-24T19:17:38.718226400Z"
    }
   },
   "id": "1d20166f077428cb"
  },
  {
   "cell_type": "code",
   "execution_count": null,
   "outputs": [],
   "source": [
    "\"\"\"\n",
    "28., Egészítse ki a CauchyDistribution osztályt egy új függvénnyel, amely implementálja az eloszlás inverz kumulatív eloszlás függvényét\n",
    "    függvény név: ppf\n",
    "    bemenet: p\n",
    "    kimeneti típus: float\n",
    "    link: https://en.wikipedia.org/wiki/Cauchy_distribution\n",
    "\"\"\""
   ],
   "metadata": {
    "collapsed": false
   },
   "id": "982e36a2889ff566"
  },
  {
   "cell_type": "code",
   "execution_count": 141,
   "outputs": [
    {
     "name": "stdout",
     "output_type": "stream",
     "text": [
      "Az 0.25 valószínűséghez tartozó inverz kumulatív eloszlás értéke: -0.9999999999999999\n"
     ]
    }
   ],
   "source": [
    "import random\n",
    "import math\n",
    "\n",
    "class CauchyDistribution:\n",
    "    def __init__(self, rand, loc, scale):\n",
    "        self.random_generator = rand\n",
    "        self.location = loc\n",
    "        self.scale = scale\n",
    "\n",
    "    def pdf(self, x):\n",
    "        if self.scale <= 0:\n",
    "            raise ValueError(\"A szórás (scale) értéke pozitív számnak kell lennie.\")\n",
    "        numerator = self.scale\n",
    "        denominator = math.pi * ((x - self.location) ** 2 + self.scale ** 2)\n",
    "        return numerator / denominator\n",
    "\n",
    "    def cdf(self, x):\n",
    "        if self.scale <= 0:\n",
    "            raise ValueError(\"A szórás (scale) értéke pozitív számnak kell lennie.\")\n",
    "        z = (x - self.location) / self.scale\n",
    "        return 0.5 + (1 / math.pi) * math.atan(z)\n",
    "\n",
    "    def ppf(self, p):\n",
    "        if p < 0 or p > 1:\n",
    "            raise ValueError(\"Az 'p' értéke 0 és 1 között kell legyen.\")\n",
    "        return self.location + self.scale * math.tan(math.pi * (p - 0.5))\n",
    "\n",
    "# Példa használat\n",
    "random_generator = random.Random()\n",
    "cauchy_dist = CauchyDistribution(random_generator, 0, 1)  # Példa értékekkel inicializálva\n",
    "\n",
    "# Inverz kumulatív eloszlás függvény értékének kiszámítása adott p valószínűségi értékhez\n",
    "probability = 0.25\n",
    "x_value = cauchy_dist.ppf(probability)\n",
    "print(f\"Az {probability} valószínűséghez tartozó inverz kumulatív eloszlás értéke: {x_value}\")\n"
   ],
   "metadata": {
    "collapsed": false,
    "ExecuteTime": {
     "end_time": "2023-09-24T19:18:25.608312700Z",
     "start_time": "2023-09-24T19:18:25.545820700Z"
    }
   },
   "id": "458acbe6ee93cd47"
  },
  {
   "cell_type": "code",
   "execution_count": null,
   "outputs": [],
   "source": [
    " \"\"\"\n",
    "29., Egészítse ki a CauchyDistribution osztályt egy új függvénnyel, amely az osztály létrehozásánál megadott paraméterek mellett, cauchy eloszlású véletlen számokat generál minden meghívásnál\n",
    "    függvény név: gen_random\n",
    "    bemenet: None\n",
    "    kimeneti típus: float\n",
    "    link: https://en.wikipedia.org/wiki/Cauchy_distribution\n",
    "\"\"\""
   ],
   "metadata": {
    "collapsed": false
   },
   "id": "33b2b698ad872fee"
  },
  {
   "cell_type": "code",
   "execution_count": 143,
   "outputs": [
    {
     "name": "stdout",
     "output_type": "stream",
     "text": [
      "A generált Cauchy eloszlású véletlen szám: 0.10954953933577144\n"
     ]
    }
   ],
   "source": [
    "import random\n",
    "import math\n",
    "\n",
    "class CauchyDistribution:\n",
    "    def __init__(self, rand, loc, scale):\n",
    "        self.random_generator = rand\n",
    "        self.location = loc\n",
    "        self.scale = scale\n",
    "\n",
    "    def pdf(self, x):\n",
    "        if self.scale <= 0:\n",
    "            raise ValueError(\"A szórás (scale) értéke pozitív számnak kell lennie.\")\n",
    "        numerator = self.scale\n",
    "        denominator = math.pi * ((x - self.location) ** 2 + self.scale ** 2)\n",
    "        return numerator / denominator\n",
    "\n",
    "    def cdf(self, x):\n",
    "        if self.scale <= 0:\n",
    "            raise ValueError(\"A szórás (scale) értéke pozitív számnak kell lennie.\")\n",
    "        z = (x - self.location) / self.scale\n",
    "        return 0.5 + (1 / math.pi) * math.atan(z)\n",
    "\n",
    "    def ppf(self, p):\n",
    "        if p < 0 or p > 1:\n",
    "            raise ValueError(\"Az 'p' értéke 0 és 1 között kell legyen.\")\n",
    "        return self.location + self.scale * math.tan(math.pi * (p - 0.5))\n",
    "\n",
    "    def gen_random(self):\n",
    "        u1 = self.random_generator.random()\n",
    "        u2 = self.random_generator.random()\n",
    "        return self.location + self.scale * math.tan(math.pi * (u1 - 0.5))\n",
    "\n",
    "# Példa használat\n",
    "random_generator = random.Random()\n",
    "cauchy_dist = CauchyDistribution(random_generator, 0, 1)  # Példa értékekkel inicializálva\n",
    "\n",
    "# Cauchy eloszlású véletlen szám generálása\n",
    "random_value = cauchy_dist.gen_random()\n",
    "print(f\"A generált Cauchy eloszlású véletlen szám: {random_value}\")\n"
   ],
   "metadata": {
    "collapsed": false,
    "ExecuteTime": {
     "end_time": "2023-09-24T19:19:26.446104500Z",
     "start_time": "2023-09-24T19:19:26.392681700Z"
    }
   },
   "id": "9ec8c79cd6fb5661"
  },
  {
   "cell_type": "code",
   "execution_count": null,
   "outputs": [],
   "source": [
    "\"\"\"\n",
    "30., Egészítse ki a CauchyDistribution osztályt egy új függvénnyel, amely visszaadja az eloszlás függvény átlagát. Ha az eloszlásnak nincsen ilyen értéke, akkor return helyett hívja meg a raise Exception(\"Moment undefined\") parancsot.\n",
    "    függvény név: mean\n",
    "    bemenet: None\n",
    "    kimeneti típus: float\n",
    "    link: https://en.wikipedia.org/wiki/Cauchy_distribution\n",
    "\"\"\""
   ],
   "metadata": {
    "collapsed": false
   },
   "id": "96827a2b644e50bc"
  },
  {
   "cell_type": "code",
   "execution_count": 144,
   "outputs": [
    {
     "name": "stdout",
     "output_type": "stream",
     "text": [
      "Moment undefined\n"
     ]
    }
   ],
   "source": [
    "import random\n",
    "import math\n",
    "\n",
    "class CauchyDistribution:\n",
    "    def __init__(self, rand, loc, scale):\n",
    "        self.random_generator = rand\n",
    "        self.location = loc\n",
    "        self.scale = scale\n",
    "\n",
    "    def pdf(self, x):\n",
    "        if self.scale <= 0:\n",
    "            raise ValueError(\"A szórás (scale) értéke pozitív számnak kell lennie.\")\n",
    "        numerator = self.scale\n",
    "        denominator = math.pi * ((x - self.location) ** 2 + self.scale ** 2)\n",
    "        return numerator / denominator\n",
    "\n",
    "    def cdf(self, x):\n",
    "        if self.scale <= 0:\n",
    "            raise ValueError(\"A szórás (scale) értéke pozitív számnak kell lennie.\")\n",
    "        z = (x - self.location) / self.scale\n",
    "        return 0.5 + (1 / math.pi) * math.atan(z)\n",
    "\n",
    "    def ppf(self, p):\n",
    "        if p < 0 or p > 1:\n",
    "            raise ValueError(\"Az 'p' értéke 0 és 1 között kell legyen.\")\n",
    "        return self.location + self.scale * math.tan(math.pi * (p - 0.5))\n",
    "\n",
    "    def gen_random(self):\n",
    "        u1 = self.random_generator.random()\n",
    "        u2 = self.random_generator.random()\n",
    "        return self.location + self.scale * math.tan(math.pi * (u1 - 0.5))\n",
    "\n",
    "    def mean(self):\n",
    "        raise Exception(\"Moment undefined\")\n",
    "\n",
    "# Példa használat\n",
    "random_generator = random.Random()\n",
    "cauchy_dist = CauchyDistribution(random_generator, 0, 1)  # Példa értékekkel inicializálva\n",
    "\n",
    "# Átlag lekérdezése (moment undefined)\n",
    "try:\n",
    "    mean = cauchy_dist.mean()\n",
    "except Exception as e:\n",
    "    print(str(e))\n"
   ],
   "metadata": {
    "collapsed": false,
    "ExecuteTime": {
     "end_time": "2023-09-24T19:20:04.691181800Z",
     "start_time": "2023-09-24T19:20:04.610036100Z"
    }
   },
   "id": "cd2b6242715bcdd1"
  },
  {
   "cell_type": "code",
   "execution_count": null,
   "outputs": [],
   "source": [
    "\"\"\"\n",
    "31., Egészítse ki a CauchyDistribution osztályt egy új függvénnyel, amely visszaadja az eloszlás függvény mediánját.\n",
    "    függvény név: median\n",
    "    bemenet: None\n",
    "    kimeneti típus: float\n",
    "    link: https://en.wikipedia.org/wiki/Cauchy_distribution\n",
    "\"\"\""
   ],
   "metadata": {
    "collapsed": false
   },
   "id": "9a93a5cec985cc7c"
  },
  {
   "cell_type": "code",
   "execution_count": 146,
   "outputs": [
    {
     "name": "stdout",
     "output_type": "stream",
     "text": [
      "A Cauchy eloszlás mediánja: 0\n"
     ]
    }
   ],
   "source": [
    "import random\n",
    "import math\n",
    "\n",
    "class CauchyDistribution:\n",
    "    def __init__(self, rand, loc, scale):\n",
    "        self.random_generator = rand\n",
    "        self.location = loc\n",
    "        self.scale = scale\n",
    "\n",
    "    def pdf(self, x):\n",
    "        if self.scale <= 0:\n",
    "            raise ValueError(\"A szórás (scale) értéke pozitív számnak kell lennie.\")\n",
    "        numerator = self.scale\n",
    "        denominator = math.pi * ((x - self.location) ** 2 + self.scale ** 2)\n",
    "        return numerator / denominator\n",
    "\n",
    "    def cdf(self, x):\n",
    "        if self.scale <= 0:\n",
    "            raise ValueError(\"A szórás (scale) értéke pozitív számnak kell lennie.\")\n",
    "        z = (x - self.location) / self.scale\n",
    "        return 0.5 + (1 / math.pi) * math.atan(z)\n",
    "\n",
    "    def ppf(self, p):\n",
    "        if p < 0 or p > 1:\n",
    "            raise ValueError(\"Az 'p' értéke 0 és 1 között kell legyen.\")\n",
    "        return self.location + self.scale * math.tan(math.pi * (p - 0.5))\n",
    "\n",
    "    def gen_random(self):\n",
    "        u1 = self.random_generator.random()\n",
    "        u2 = self.random_generator.random()\n",
    "        return self.location + self.scale * math.tan(math.pi * (u1 - 0.5))\n",
    "\n",
    "    def mean(self):\n",
    "        raise Exception(\"Moment undefined\")\n",
    "\n",
    "    def median(self):\n",
    "        return self.location  # A medián mindig a hely (location) értéke\n",
    "\n",
    "# Példa használat\n",
    "random_generator = random.Random()\n",
    "cauchy_dist = CauchyDistribution(random_generator, 0, 1)  # Példa értékekkel inicializálva\n",
    "\n",
    "# Medián lekérdezése\n",
    "median = cauchy_dist.median()\n",
    "print(f\"A Cauchy eloszlás mediánja: {median}\")\n"
   ],
   "metadata": {
    "collapsed": false,
    "ExecuteTime": {
     "end_time": "2023-09-24T19:20:50.984048600Z",
     "start_time": "2023-09-24T19:20:50.937152200Z"
    }
   },
   "id": "552ddbeed3716403"
  },
  {
   "cell_type": "code",
   "execution_count": null,
   "outputs": [],
   "source": [
    "\"\"\"\n",
    "32., Egészítse ki a CauchyDistribution osztályt egy új függvénnyel, amely visszaadja az eloszlás függvény varianciáját.  Ha az eloszlásnak nincsen ilyen értéke, akkor return helyett hívja meg a raise Exception(\"Moment undefined\") parancsot.\n",
    "    függvény név: variance\n",
    "    bemenet: None\n",
    "    kimeneti típus: float\n",
    "    link: https://en.wikipedia.org/wiki/Cauchy_distribution\n",
    "\"\"\""
   ],
   "metadata": {
    "collapsed": false
   },
   "id": "4cf53dd0ca6be7bf"
  },
  {
   "cell_type": "code",
   "execution_count": 147,
   "outputs": [
    {
     "name": "stdout",
     "output_type": "stream",
     "text": [
      "Moment undefined\n"
     ]
    }
   ],
   "source": [
    "import random\n",
    "import math\n",
    "\n",
    "class CauchyDistribution:\n",
    "    def __init__(self, rand, loc, scale):\n",
    "        self.random_generator = rand\n",
    "        self.location = loc\n",
    "        self.scale = scale\n",
    "\n",
    "    def pdf(self, x):\n",
    "        if self.scale <= 0:\n",
    "            raise ValueError(\"A szórás (scale) értéke pozitív számnak kell lennie.\")\n",
    "        numerator = self.scale\n",
    "        denominator = math.pi * ((x - self.location) ** 2 + self.scale ** 2)\n",
    "        return numerator / denominator\n",
    "\n",
    "    def cdf(self, x):\n",
    "        if self.scale <= 0:\n",
    "            raise ValueError(\"A szórás (scale) értéke pozitív számnak kell lennie.\")\n",
    "        z = (x - self.location) / self.scale\n",
    "        return 0.5 + (1 / math.pi) * math.atan(z)\n",
    "\n",
    "    def ppf(self, p):\n",
    "        if p < 0 or p > 1:\n",
    "            raise ValueError(\"Az 'p' értéke 0 és 1 között kell legyen.\")\n",
    "        return self.location + self.scale * math.tan(math.pi * (p - 0.5))\n",
    "\n",
    "    def gen_random(self):\n",
    "        u1 = self.random_generator.random()\n",
    "        u2 = self.random_generator.random()\n",
    "        return self.location + self.scale * math.tan(math.pi * (u1 - 0.5))\n",
    "\n",
    "    def mean(self):\n",
    "        raise Exception(\"Moment undefined\")\n",
    "\n",
    "    def median(self):\n",
    "        return self.location\n",
    "\n",
    "    def variance(self):\n",
    "        raise Exception(\"Moment undefined\")\n",
    "\n",
    "# Példa használat\n",
    "random_generator = random.Random()\n",
    "cauchy_dist = CauchyDistribution(random_generator, 0, 1)  # Példa értékekkel inicializálva\n",
    "\n",
    "# Variancia lekérdezése (moment undefined)\n",
    "try:\n",
    "    variance = cauchy_dist.variance()\n",
    "except Exception as e:\n",
    "    print(str(e))\n"
   ],
   "metadata": {
    "collapsed": false,
    "ExecuteTime": {
     "end_time": "2023-09-24T19:21:29.678465900Z",
     "start_time": "2023-09-24T19:21:29.617460Z"
    }
   },
   "id": "dd00a153ac73b9ff"
  },
  {
   "cell_type": "code",
   "execution_count": null,
   "outputs": [],
   "source": [
    "\"\"\"\n",
    "33., Egészítse ki a CauchyDistribution osztályt egy új függvénnyel, amely visszaadja az eloszlás függvény ferdeségét.  Ha az eloszlásnak nincsen ilyen értéke, akkor return helyett hívja meg a raise Exception(\"Moment undefined\") parancsot.\n",
    "    függvény név: skewness\n",
    "    bemenet: None\n",
    "    kimeneti típus: float\n",
    "    link: https://en.wikipedia.org/wiki/Cauchy_distribution\n",
    "\"\"\""
   ],
   "metadata": {
    "collapsed": false
   },
   "id": "a7e1c035b846a78f"
  },
  {
   "cell_type": "code",
   "execution_count": 148,
   "outputs": [
    {
     "name": "stdout",
     "output_type": "stream",
     "text": [
      "Moment undefined\n"
     ]
    }
   ],
   "source": [
    "import random\n",
    "import math\n",
    "\n",
    "class CauchyDistribution:\n",
    "    def __init__(self, rand, loc, scale):\n",
    "        self.random_generator = rand\n",
    "        self.location = loc\n",
    "        self.scale = scale\n",
    "\n",
    "    def pdf(self, x):\n",
    "        if self.scale <= 0:\n",
    "            raise ValueError(\"A szórás (scale) értéke pozitív számnak kell lennie.\")\n",
    "        numerator = self.scale\n",
    "        denominator = math.pi * ((x - self.location) ** 2 + self.scale ** 2)\n",
    "        return numerator / denominator\n",
    "\n",
    "    def cdf(self, x):\n",
    "        if self.scale <= 0:\n",
    "            raise ValueError(\"A szórás (scale) értéke pozitív számnak kell lennie.\")\n",
    "        z = (x - self.location) / self.scale\n",
    "        return 0.5 + (1 / math.pi) * math.atan(z)\n",
    "\n",
    "    def ppf(self, p):\n",
    "        if p < 0 or p > 1:\n",
    "            raise ValueError(\"Az 'p' értéke 0 és 1 között kell legyen.\")\n",
    "        return self.location + self.scale * math.tan(math.pi * (p - 0.5))\n",
    "\n",
    "    def gen_random(self):\n",
    "        u1 = self.random_generator.random()\n",
    "        u2 = self.random_generator.random()\n",
    "        return self.location + self.scale * math.tan(math.pi * (u1 - 0.5))\n",
    "\n",
    "    def mean(self):\n",
    "        raise Exception(\"Moment undefined\")\n",
    "\n",
    "    def median(self):\n",
    "        return self.location\n",
    "\n",
    "    def variance(self):\n",
    "        raise Exception(\"Moment undefined\")\n",
    "\n",
    "    def skewness(self):\n",
    "        raise Exception(\"Moment undefined\")\n",
    "\n",
    "# Példa használat\n",
    "random_generator = random.Random()\n",
    "cauchy_dist = CauchyDistribution(random_generator, 0, 1)  # Példa értékekkel inicializálva\n",
    "\n",
    "# Ferdeség (skewness) lekérdezése (moment undefined)\n",
    "try:\n",
    "    skewness = cauchy_dist.skewness()\n",
    "except Exception as e:\n",
    "    print(str(e))\n"
   ],
   "metadata": {
    "collapsed": false,
    "ExecuteTime": {
     "end_time": "2023-09-24T19:22:06.585929800Z",
     "start_time": "2023-09-24T19:22:06.544583100Z"
    }
   },
   "id": "ef3ca26943930616"
  },
  {
   "cell_type": "code",
   "execution_count": null,
   "outputs": [],
   "source": [
    "\"\"\"\n",
    "34., Egészítse ki a CauchyDistribution osztályt egy új függvénnyel, amely visszaadja az eloszlás függvény többlet csúcsosságát.  Ha az eloszlásnak nincsen ilyen értéke, akkor return helyett hívja meg a raise Exception(\"Moment undefined\") parancsot.\n",
    "    függvény név: ex_kurtosis\n",
    "    bemenet: None\n",
    "    kimeneti típus: float\n",
    "    link: https://en.wikipedia.org/wiki/Cauchy_distribution\n",
    "\"\"\""
   ],
   "metadata": {
    "collapsed": false
   },
   "id": "37a81b8e0236fc23"
  },
  {
   "cell_type": "code",
   "execution_count": 150,
   "outputs": [
    {
     "name": "stdout",
     "output_type": "stream",
     "text": [
      "Moments undefined\n"
     ]
    }
   ],
   "source": [
    "import random\n",
    "import math\n",
    "\n",
    "class CauchyDistribution:\n",
    "    def __init__(self, rand, loc, scale):\n",
    "        self.random_generator = rand\n",
    "        self.location = loc\n",
    "        self.scale = scale\n",
    "\n",
    "    def pdf(self, x):\n",
    "        if self.scale <= 0:\n",
    "            raise ValueError(\"A szórás (scale) értéke pozitív számnak kell lennie.\")\n",
    "        numerator = self.scale\n",
    "        denominator = math.pi * ((x - self.location) ** 2 + self.scale ** 2)\n",
    "        return numerator / denominator\n",
    "\n",
    "    def cdf(self, x):\n",
    "        if self.scale <= 0:\n",
    "            raise ValueError(\"A szórás (scale) értéke pozitív számnak kell lennie.\")\n",
    "        z = (x - self.location) / self.scale\n",
    "        return 0.5 + (1 / math.pi) * math.atan(z)\n",
    "\n",
    "    def ppf(self, p):\n",
    "        if p < 0 or p > 1:\n",
    "            raise ValueError(\"Az 'p' értéke 0 és 1 között kell legyen.\")\n",
    "        return self.location + self.scale * math.tan(math.pi * (p - 0.5))\n",
    "\n",
    "    def gen_random(self):\n",
    "        u1 = self.random_generator.random()\n",
    "        u2 = self.random_generator.random()\n",
    "        return self.location + self.scale * math.tan(math.pi * (u1 - 0.5))\n",
    "\n",
    "    def mean(self):\n",
    "        raise Exception(\"Moments undefined\")\n",
    "\n",
    "    def median(self):\n",
    "        return self.location\n",
    "\n",
    "    def variance(self):\n",
    "        raise Exception(\"Moments undefined\")\n",
    "\n",
    "    def skewness(self):\n",
    "        raise Exception(\"Moments undefined\")\n",
    "\n",
    "    def ex_kurtosis(self):\n",
    "        raise Exception(\"Moments undefined\")\n",
    "\n",
    "# Példa használat\n",
    "random_generator = random.Random()\n",
    "cauchy_dist = CauchyDistribution(random_generator, 0, 1)  # Példa értékekkel inicializálva\n",
    "\n",
    "# Többlet csúcsosság (excess kurtosis) lekérdezése (moments undefined)\n",
    "try:\n",
    "    ex_kurtosis = cauchy_dist.ex_kurtosis()\n",
    "except Exception as e:\n",
    "    print(str(e))\n"
   ],
   "metadata": {
    "collapsed": false,
    "ExecuteTime": {
     "end_time": "2023-09-24T19:23:34.429932600Z",
     "start_time": "2023-09-24T19:23:34.363217500Z"
    }
   },
   "id": "5abac9697a906a32"
  },
  {
   "cell_type": "code",
   "execution_count": null,
   "outputs": [],
   "source": [
    "\"\"\"\n",
    "35., Egészítse ki a CauchyDistribution osztályt egy új függvénnyel, amely visszaadja az eloszlás függvény első 3 cetrális momentumát és a többlet csúcsosságot.  Ha az eloszlásnak nincsenek ilyen értékei, akkor return helyett hívja meg a raise Exception(\"Moments undefined\") parancsot.\n",
    "    függvény név: mvsk\n",
    "    bemenet: None\n",
    "    kimeneti típus: List\n",
    "    link: https://en.wikipedia.org/wiki/Cauchy_distribution\n",
    "\"\"\""
   ],
   "metadata": {
    "collapsed": false
   },
   "id": "e945447dfe21a612"
  },
  {
   "cell_type": "code",
   "execution_count": 151,
   "outputs": [
    {
     "name": "stdout",
     "output_type": "stream",
     "text": [
      "Moments undefined\n"
     ]
    }
   ],
   "source": [
    "import random\n",
    "import math\n",
    "\n",
    "class CauchyDistribution:\n",
    "    def __init__(self, rand, loc, scale):\n",
    "        self.random_generator = rand\n",
    "        self.location = loc\n",
    "        self.scale = scale\n",
    "\n",
    "    def pdf(self, x):\n",
    "        if self.scale <= 0:\n",
    "            raise ValueError(\"A szórás (scale) értéke pozitív számnak kell lennie.\")\n",
    "        numerator = self.scale\n",
    "        denominator = math.pi * ((x - self.location) ** 2 + self.scale ** 2)\n",
    "        return numerator / denominator\n",
    "\n",
    "    def cdf(self, x):\n",
    "        if self.scale <= 0:\n",
    "            raise ValueError(\"A szórás (scale) értéke pozitív számnak kell lennie.\")\n",
    "        z = (x - self.location) / self.scale\n",
    "        return 0.5 + (1 / math.pi) * math.atan(z)\n",
    "\n",
    "    def ppf(self, p):\n",
    "        if p < 0 or p > 1:\n",
    "            raise ValueError(\"Az 'p' értéke 0 és 1 között kell legyen.\")\n",
    "        return self.location + self.scale * math.tan(math.pi * (p - 0.5))\n",
    "\n",
    "    def gen_random(self):\n",
    "        u1 = self.random_generator.random()\n",
    "        u2 = self.random_generator.random()\n",
    "        return self.location + self.scale * math.tan(math.pi * (u1 - 0.5))\n",
    "\n",
    "    def mean(self):\n",
    "        raise Exception(\"Moments undefined\")\n",
    "\n",
    "    def median(self):\n",
    "        return self.location\n",
    "\n",
    "    def variance(self):\n",
    "        raise Exception(\"Moments undefined\")\n",
    "\n",
    "    def skewness(self):\n",
    "        raise Exception(\"Moments undefined\")\n",
    "\n",
    "    def ex_kurtosis(self):\n",
    "        raise Exception(\"Moments undefined\")\n",
    "\n",
    "    def mvsk(self):\n",
    "        raise Exception(\"Moments undefined\")\n",
    "\n",
    "# Példa használat\n",
    "random_generator = random.Random()\n",
    "cauchy_dist = CauchyDistribution(random_generator, 0, 1)  # Példa értékekkel inicializálva\n",
    "\n",
    "# Az eloszlás függvény első 3 cetrális momentumai és többlet csúcsossága lekérdezése (moments undefined)\n",
    "try:\n",
    "    mvsk = cauchy_dist.mvsk()\n",
    "except Exception as e:\n",
    "    print(str(e))\n"
   ],
   "metadata": {
    "collapsed": false,
    "ExecuteTime": {
     "end_time": "2023-09-24T19:23:47.922810300Z",
     "start_time": "2023-09-24T19:23:47.844591500Z"
    }
   },
   "id": "435dfed4191c324"
  }
 ],
 "metadata": {
  "kernelspec": {
   "display_name": "Python 3",
   "language": "python",
   "name": "python3"
  },
  "language_info": {
   "codemirror_mode": {
    "name": "ipython",
    "version": 2
   },
   "file_extension": ".py",
   "mimetype": "text/x-python",
   "name": "python",
   "nbconvert_exporter": "python",
   "pygments_lexer": "ipython2",
   "version": "2.7.6"
  }
 },
 "nbformat": 4,
 "nbformat_minor": 5
}
