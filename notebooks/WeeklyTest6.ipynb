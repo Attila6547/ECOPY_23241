{
 "cells": [
  {
   "cell_type": "markdown",
   "id": "de9d9737616514b8",
   "metadata": {
    "collapsed": false
   },
   "source": [
    "## Az eredményeket mentsd a src/weekly modul-ba weekly_test_6.py néven"
   ]
  },
  {
   "cell_type": "markdown",
   "id": "a9789db8f0fbd7ec",
   "metadata": {
    "collapsed": false
   },
   "source": [
    "#### Használható modulok: pathlib, pandas, typing, str, statsmodels"
   ]
  },
  {
   "cell_type": "code",
   "execution_count": null,
   "id": "dfea6e648868022e",
   "metadata": {
    "collapsed": false
   },
   "outputs": [],
   "source": [
    "from pathlib import Path\n",
    "\n",
    "import fastparquet\n",
    "import statsmodels"
   ]
  },
  {
   "cell_type": "code",
   "execution_count": null,
   "outputs": [],
   "source": [
    "datalib = Path.cwd().parent.joinpath('data')"
   ],
   "metadata": {
    "collapsed": false
   },
   "id": "b0b5dd4685315eda"
  },
  {
   "cell_type": "code",
   "execution_count": null,
   "outputs": [],
   "source": [
    "pip install fastparquet"
   ],
   "metadata": {
    "collapsed": false
   },
   "id": "ff5d095c30dc199"
  },
  {
   "cell_type": "code",
   "execution_count": null,
   "outputs": [],
   "source": [
    "pip install statsmodels"
   ],
   "metadata": {
    "collapsed": false
   },
   "id": "18b82f02e8d10f94"
  },
  {
   "cell_type": "code",
   "execution_count": null,
   "id": "9d26aec7b4e97407",
   "metadata": {
    "collapsed": false
   },
   "outputs": [],
   "source": [
    "\"\"\"\n",
    "1., Olvasd be a data mappa sp500.parquet nevű fájlját egy DataFrame-be. A betöltéshez használt engine paramétere legyen fastparquet\n",
    "\"\"\""
   ]
  },
  {
   "cell_type": "code",
   "execution_count": 12,
   "outputs": [],
   "source": [
    "import pandas as pd\n",
    "\n",
    "# Load data from 'sp500.parquet' using the 'fastparquet' engine with the full path\n",
    "df_sp500 = pd.read_parquet('C:/Users/Atti60/Documents/GitHub/ECOPY_23241/data/sp500.parquet', engine='fastparquet')\n",
    "\n"
   ],
   "metadata": {
    "collapsed": false,
    "ExecuteTime": {
     "end_time": "2023-10-25T17:32:48.229394500Z",
     "start_time": "2023-10-25T17:32:48.169336600Z"
    }
   },
   "id": "43f685fc4780d23a"
  },
  {
   "cell_type": "code",
   "execution_count": null,
   "outputs": [],
   "source": [
    "\"\"\"\n",
    "2., Olvasd be az ff_factors.parquet fájlt egy DataFrame-be. A betöltéshez használt engine paramétere legyen fastparquet\n",
    "\"\"\""
   ],
   "metadata": {
    "collapsed": false
   },
   "id": "d42ee754b557dcef"
  },
  {
   "cell_type": "code",
   "execution_count": 13,
   "outputs": [],
   "source": [
    "# Load data from 'ff_factors.parquet' using the 'fastparquet' engine\n",
    "df_factors = pd.read_parquet('C:/Users/Atti60/Documents/GitHub/ECOPY_23241/data/ff_factors.parquet', engine='fastparquet')\n"
   ],
   "metadata": {
    "collapsed": false,
    "ExecuteTime": {
     "end_time": "2023-10-25T17:33:47.306701100Z",
     "start_time": "2023-10-25T17:33:47.286891200Z"
    }
   },
   "id": "c757103536fa82f7"
  },
  {
   "cell_type": "code",
   "execution_count": null,
   "id": "b79c977da040d844",
   "metadata": {
    "collapsed": false
   },
   "outputs": [],
   "source": [
    "\"\"\"\n",
    "3., Kapcsold össze a két DataFrame-t egy új DataFrame-be. Az összekapcsolás módja, hogy a hozam adatokra balról kapcsoljuk rá a factor adatokat a 'Date' elsődleges kulcs alapján.\n",
    "\"\"\""
   ]
  },
  {
   "cell_type": "markdown",
   "source": [
    "![Joined data](../resources/weekly6/joined_data.jpg)"
   ],
   "metadata": {
    "collapsed": false
   },
   "id": "cf54c6765186a23e"
  },
  {
   "cell_type": "code",
   "execution_count": 14,
   "outputs": [],
   "source": [
    "merged_df = pd.merge(df_sp500, df_factors, on='Date', how='left')\n"
   ],
   "metadata": {
    "collapsed": false,
    "ExecuteTime": {
     "end_time": "2023-10-25T17:34:02.448375100Z",
     "start_time": "2023-10-25T17:34:02.407781Z"
    }
   },
   "id": "34bc40351687c32"
  },
  {
   "cell_type": "code",
   "execution_count": null,
   "id": "dd10fafbf699543d",
   "metadata": {
    "collapsed": false
   },
   "outputs": [],
   "source": [
    "\"\"\"\n",
    "4., Készíts egy új 'Excess Return' nevű oszlopot, ami a havi hozamok és a kockázat mentes hozam (RF) különbsége\n",
    "\"\"\""
   ]
  },
  {
   "cell_type": "code",
   "execution_count": 15,
   "outputs": [],
   "source": [
    "merged_df['Excess Return'] = merged_df['Monthly Returns'] - merged_df['RF']\n"
   ],
   "metadata": {
    "collapsed": false,
    "ExecuteTime": {
     "end_time": "2023-10-25T17:34:15.936679400Z",
     "start_time": "2023-10-25T17:34:15.912548100Z"
    }
   },
   "id": "fdc8822a72cb19f6"
  },
  {
   "cell_type": "code",
   "execution_count": null,
   "outputs": [],
   "source": [
    "\"\"\"\n",
    "5., Rendezd sorba dátum szerint az adatokat, majd generálj egy új oszlopot ('ex_ret_1'), amely minden ticker ('Symbol') esetén 1-el eltolja az Excess Return értékeit olyan módon, hogy minden sorban szerepeljen a következő időszaki Excess Return érték. \n",
    "\"\"\""
   ],
   "metadata": {
    "collapsed": false
   },
   "id": "c6af93a4a3c53398"
  },
  {
   "cell_type": "markdown",
   "source": [
    "![new column](../resources/weekly6/ex_ret_1.jpg)"
   ],
   "metadata": {
    "collapsed": false
   },
   "id": "a6be746933376572"
  },
  {
   "cell_type": "code",
   "execution_count": 16,
   "outputs": [],
   "source": [
    "merged_df['ex_ret_1'] = merged_df.groupby('Symbol')['Excess Return'].shift(-1)\n"
   ],
   "metadata": {
    "collapsed": false,
    "ExecuteTime": {
     "end_time": "2023-10-25T17:34:29.774509600Z",
     "start_time": "2023-10-25T17:34:29.746301400Z"
    }
   },
   "id": "2285003630c207d3"
  },
  {
   "cell_type": "code",
   "execution_count": null,
   "id": "30fd1aa0c59afb47",
   "metadata": {
    "collapsed": false
   },
   "outputs": [],
   "source": [
    "\"\"\"\n",
    "6., A meglévő adathalmazt írd felül olyan módon, hogy egyszer törlöd az össze olyan sort, amely az 'ex_ret_1' oszlopban hiányos, majd ezt követően, törlöd az összes olyan sort, ami a 'HML' oszlopban hiányos\n",
    "\"\"\""
   ]
  },
  {
   "cell_type": "code",
   "execution_count": 17,
   "outputs": [],
   "source": [
    "merged_df.dropna(subset=['ex_ret_1', 'HML'], inplace=True)\n"
   ],
   "metadata": {
    "collapsed": false,
    "ExecuteTime": {
     "end_time": "2023-10-25T17:34:40.861929300Z",
     "start_time": "2023-10-25T17:34:40.833052600Z"
    }
   },
   "id": "f333cdfad16d315f"
  },
  {
   "cell_type": "code",
   "execution_count": null,
   "id": "4637c401e0e6352c",
   "metadata": {
    "collapsed": false
   },
   "outputs": [],
   "source": [
    "\"\"\"\n",
    "A meglévő adatokból válaszd ki a Amazon részvényhez tartozó sorokat (AMZN) és töröld a tickereket tartalmazó oszlopot\n",
    "\n",
    "7., Készíts egy új LinearRegressionSM elnevezésű osztályt. Definiáld benne a __init__ nevű függvényt, amely bemenetként 2 DataDrame-t kap amelyeket ments le a left_hand_side és right_hand_side elnevezésű változókba. Az egyik DataFrame fogja tartalmazni a következő hónap többlet hozamait (left_hand_side), a másik a piaci hozamokat (Mkt-RF), az SMB és a HML értékeket (right_hand_side).\n",
    "\n",
    "8., Egésztsd ki az osztályt egy fit metódussal, ami meghívja a statsmodels segítségével OLS alapon becsült modellt illeszt az osztály adattagjaira. A becslésből visszakapott modellt mentse le az osztály _model adattagjába. Figyelj oda, hogy a regresszió futtatása során konstans (alfa / béta_0) is szerepeljen a predictor változók között.\n",
    "\n",
    "9., Egészítsd ki az osztályt egy get_params metódussal, ami visszaadja a becsült modellt béta paramétereinek értékeit. A visszakapott pandas Series típusú adatban az oszlop neve legyen 'Beta coefficients'\n",
    "\n",
    "10., Egészítsd ki az osztályt egy get_pvalues metódussal, ami visszaadja a becsült modell paraméterekhez tartozó p értékeket. A visszakapott pandas Series típusú adatban az oszlop neve legyen: P-values for the corresponding coefficients\n",
    "\n",
    "11., Egészítsd ki az osztályt egy get_wald_test_result metódussal, ami visszaadja a bemeneti restrikciós mátrix alapján számolt F és p értékeket. A visszatérési típus string legyen, a visszaadandó szöveg: F-value: fvalue, p-value: pvalue, ahol az fvalue és pvalue helyére 3 tizedesjegyre kerekítve adja meg a hozzájuk tartozó értékeket.\n",
    "\n",
    "12., Egészítse ki az osztályt egy get_model_goodness_values metódussal, ami visszadja a módosított R-négyzet, az Akaike és a Bayes információs kritériumok értékét. A visszatérési típus string legyen, a visszaadandó szöveg: Adjusted R-squared: ars, Akaike IC: ak, Bayes IC: by, ahol ars, ak és by helyére 3 tizedesjegyre kerekítve adja meg a hozzájuk tartozó értékeket.\n",
    "\n",
    "A létrehozott osztályt és a hozzátartozó metódusokat mentsd le a src.linear_regression mappába, a LinearRegressions.py fájlba.\n",
    "\"\"\""
   ]
  },
  {
   "cell_type": "code",
   "execution_count": 19,
   "outputs": [
    {
     "ename": "ModuleNotFoundError",
     "evalue": "No module named 'statsmodels'",
     "output_type": "error",
     "traceback": [
      "\u001B[1;31m---------------------------------------------------------------------------\u001B[0m",
      "\u001B[1;31mModuleNotFoundError\u001B[0m                       Traceback (most recent call last)",
      "Cell \u001B[1;32mIn[19], line 4\u001B[0m\n\u001B[0;32m      1\u001B[0m amazon_df \u001B[38;5;241m=\u001B[39m merged_df[merged_df[\u001B[38;5;124m'\u001B[39m\u001B[38;5;124mSymbol\u001B[39m\u001B[38;5;124m'\u001B[39m] \u001B[38;5;241m==\u001B[39m \u001B[38;5;124m'\u001B[39m\u001B[38;5;124mAMZN\u001B[39m\u001B[38;5;124m'\u001B[39m]\u001B[38;5;241m.\u001B[39mcopy()\n\u001B[0;32m      2\u001B[0m amazon_df\u001B[38;5;241m.\u001B[39mdrop(\u001B[38;5;124m'\u001B[39m\u001B[38;5;124mSymbol\u001B[39m\u001B[38;5;124m'\u001B[39m, axis\u001B[38;5;241m=\u001B[39m\u001B[38;5;241m1\u001B[39m, inplace\u001B[38;5;241m=\u001B[39m\u001B[38;5;28;01mTrue\u001B[39;00m)\n\u001B[1;32m----> 4\u001B[0m \u001B[38;5;28;01mimport\u001B[39;00m \u001B[38;5;21;01mstatsmodels\u001B[39;00m\u001B[38;5;21;01m.\u001B[39;00m\u001B[38;5;21;01mapi\u001B[39;00m \u001B[38;5;28;01mas\u001B[39;00m \u001B[38;5;21;01msm\u001B[39;00m\n\u001B[0;32m      6\u001B[0m \u001B[38;5;28;01mclass\u001B[39;00m \u001B[38;5;21;01mLinearRegressionSM\u001B[39;00m:\n\u001B[0;32m      7\u001B[0m     \u001B[38;5;28;01mdef\u001B[39;00m \u001B[38;5;21m__init__\u001B[39m(\u001B[38;5;28mself\u001B[39m, left_hand_side, right_hand_side):\n",
      "\u001B[1;31mModuleNotFoundError\u001B[0m: No module named 'statsmodels'"
     ]
    }
   ],
   "source": [
    "amazon_df = merged_df[merged_df['Symbol'] == 'AMZN'].copy()\n",
    "amazon_df.drop('Symbol', axis=1, inplace=True)\n",
    "\n",
    "import statsmodels.api as sm\n",
    "\n",
    "class LinearRegressionSM:\n",
    "    def __init__(self, left_hand_side, right_hand_side):\n",
    "        self.left_hand_side = left_hand_side\n",
    "        self.right_hand_side = right_hand_side\n",
    "        self._model = None\n",
    "\n",
    "    def fit(self):\n",
    "        X = sm.add_constant(self.right_hand_side)\n",
    "        model = sm.OLS(self.left_hand_side, X).fit()\n",
    "        self._model = model\n",
    "\n",
    "    def get_params(self):\n",
    "        return pd.Series(self._model.params, name='Beta coefficients')\n",
    "\n",
    "    def get_pvalues(self):\n",
    "        return pd.Series(self._model.pvalues, name='P-values for the corresponding coefficients')\n",
    "\n",
    "    def get_wald_test_result(self, restriction_matrix):\n",
    "        wald_test = self._model.wald_test(restriction_matrix)\n",
    "        fvalue = round(wald_test.statistic, 3)\n",
    "        pvalue = round(wald_test.pvalue, 3)\n",
    "        return f'F-value: {fvalue}, p-value: {pvalue}'\n",
    "\n",
    "    def get_model_goodness_values(self):\n",
    "        ars = round(self._model.rsquared_adj, 3)\n",
    "        ak = round(self._model.aic, 3)\n",
    "        by = round(self._model.bic, 3)\n",
    "        return f'Adjusted R-squared: {ars}, Akaike IC: {ak}, Bayes IC: {by}'\n"
   ],
   "metadata": {
    "collapsed": false,
    "ExecuteTime": {
     "end_time": "2023-10-25T17:35:07.436270600Z",
     "start_time": "2023-10-25T17:35:07.385325900Z"
    }
   },
   "id": "632e9b84be1a75ef"
  }
 ],
 "metadata": {
  "kernelspec": {
   "display_name": "Python 3 (ipykernel)",
   "language": "python",
   "name": "python3"
  },
  "language_info": {
   "codemirror_mode": {
    "name": "ipython",
    "version": 3
   },
   "file_extension": ".py",
   "mimetype": "text/x-python",
   "name": "python",
   "nbconvert_exporter": "python",
   "pygments_lexer": "ipython3",
   "version": "3.10.4"
  }
 },
 "nbformat": 4,
 "nbformat_minor": 5
}
